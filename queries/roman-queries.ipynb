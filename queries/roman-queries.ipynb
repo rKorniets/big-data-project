{
 "cells": [
  {
   "cell_type": "code",
   "execution_count": 62,
   "metadata": {
    "collapsed": true,
    "ExecuteTime": {
     "start_time": "2023-11-26T17:53:12.179331Z",
     "end_time": "2023-11-26T17:53:12.214235Z"
    }
   },
   "outputs": [],
   "source": [
    "import sys\n",
    "import os\n",
    "\n",
    "sys.path.insert(0, os.path.dirname(os.getcwd()))\n",
    "\n",
    "from pyspark import SparkConf\n",
    "from pyspark.sql import SparkSession\n",
    "from pyspark.sql.functions import col, desc, countDistinct, row_number, mean, count\n",
    "from pyspark.sql.window import Window\n",
    "\n",
    "from schemas.dataframes import get_basics_df, get_crew_df, get_principals_df, get_ratings_df, get_name_df"
   ]
  },
  {
   "cell_type": "code",
   "execution_count": 63,
   "outputs": [],
   "source": [
    "spark_session = (SparkSession.builder\n",
    "                             .master('local')\n",
    "                             .appName('test app')\n",
    "                             .config(conf=SparkConf())\n",
    "                             .getOrCreate())"
   ],
   "metadata": {
    "collapsed": false,
    "ExecuteTime": {
     "start_time": "2023-11-26T17:53:12.193292Z",
     "end_time": "2023-11-26T17:53:12.252134Z"
    }
   }
  },
  {
   "cell_type": "code",
   "execution_count": 64,
   "outputs": [],
   "source": [
    "crew = get_crew_df(spark_session)\n",
    "basics = get_basics_df(spark_session)\n",
    "ratings = get_ratings_df(spark_session)\n",
    "principals = get_principals_df(spark_session)\n",
    "name = get_name_df(spark_session)"
   ],
   "metadata": {
    "collapsed": false,
    "ExecuteTime": {
     "start_time": "2023-11-26T17:53:12.218224Z",
     "end_time": "2023-11-26T17:53:12.312972Z"
    }
   }
  },
  {
   "cell_type": "code",
   "execution_count": 65,
   "outputs": [
    {
     "name": "stdout",
     "output_type": "stream",
     "text": [
      "+---------+-----------+\n",
      "|directors|movie_count|\n",
      "+---------+-----------+\n",
      "|nm1203430|      11410|\n",
      "+---------+-----------+\n",
      "\n"
     ]
    }
   ],
   "source": [
    "# Director with most movies:\n",
    "# Who is the director with the most movies, and how many movies have they directed? (Excluding movies with missing values)\n",
    "result = (\n",
    "    crew.alias(\"c\").join(basics.alias(\"b\"), col(\"c.tconst\") == col(\"b.tconst\"))\n",
    "    .filter((col(\"c.directors\") != '\\\\N') & (col(\"b.tconst\") != '\\\\N'))\n",
    "    .groupBy(\"c.directors\")\n",
    "    .agg(countDistinct(\"b.tconst\").alias(\"movie_count\"))\n",
    "    .orderBy(desc(\"movie_count\"))\n",
    "    .limit(1)\n",
    ")\n",
    "result.show()\n"
   ],
   "metadata": {
    "collapsed": false,
    "ExecuteTime": {
     "start_time": "2023-11-26T17:53:12.313968Z",
     "end_time": "2023-11-26T17:54:12.203353Z"
    }
   }
  },
  {
   "cell_type": "code",
   "execution_count": 66,
   "outputs": [
    {
     "name": "stdout",
     "output_type": "stream",
     "text": [
      "+--------------------+--------------------+-----------------+----+\n",
      "|              genres|        primaryTitle|   average_rating|rank|\n",
      "+--------------------+--------------------+-----------------+----+\n",
      "|              Action|Psychology of Con...|             10.0|   1|\n",
      "|              Action|      Phoenix Harris|             10.0|   2|\n",
      "|              Action|In a Dying World ...|             10.0|   3|\n",
      "|        Action,Adult|        Tourist Trap|8.300000190734863|   1|\n",
      "|        Action,Adult|Actiongirls.com V...|7.900000095367432|   2|\n",
      "|        Action,Adult|             Racer X|7.599999904632568|   3|\n",
      "|Action,Adult,Adve...|San Fernando Jone...|              8.0|   1|\n",
      "|Action,Adult,Adve...|Laura Crotch, Tom...|7.900000095367432|   2|\n",
      "|Action,Adult,Adve...|       Kemo Coliseum|7.800000190734863|   3|\n",
      "|Action,Adult,Anim...|        Kansen Sodom|9.100000381469727|   1|\n",
      "|Action,Adult,Anim...| Angel Blade Punish!|7.400000095367432|   2|\n",
      "|Action,Adult,Anim...| Shin Injuu Gakuen 2|6.699999809265137|   3|\n",
      "| Action,Adult,Comedy|La Femme Nikita D...|8.199999809265137|   1|\n",
      "| Action,Adult,Comedy|Operation: Desert...|7.300000190734863|   2|\n",
      "| Action,Adult,Comedy|          Valley 911|7.300000190734863|   3|\n",
      "|  Action,Adult,Crime|      The Last Of Us|9.800000190734863|   1|\n",
      "|  Action,Adult,Crime|               Storm|9.800000190734863|   2|\n",
      "|  Action,Adult,Crime|            Surprise|9.800000190734863|   3|\n",
      "|  Action,Adult,Drama|    Rocco Never Dies|              8.0|   1|\n",
      "|  Action,Adult,Drama|             Revenge|7.800000190734863|   2|\n",
      "+--------------------+--------------------+-----------------+----+\n",
      "only showing top 20 rows\n",
      "\n"
     ]
    }
   ],
   "source": [
    "# Top-3 movies for each genre:\n",
    "# What are the top three movies in each genre with the highest average ratings, excluding movies with missing values?\n",
    "result = (\n",
    "    basics.join(ratings, basics.tconst == ratings.tconst)\n",
    "    .filter((basics.genres.isNotNull()) & (ratings.averageRating.isNotNull()))\n",
    "    .groupBy('genres', 'primaryTitle')\n",
    "    .agg(mean('averageRating').alias('average_rating'))\n",
    "    .withColumn(\n",
    "        'rank',\n",
    "        row_number().over(Window.partitionBy('genres').orderBy(desc('average_rating')))\n",
    "    )\n",
    "    .filter(col('rank') <= 3)\n",
    ")\n",
    "\n",
    "result.show()\n"
   ],
   "metadata": {
    "collapsed": false,
    "ExecuteTime": {
     "start_time": "2023-11-26T17:54:12.210340Z",
     "end_time": "2023-11-26T17:54:55.064243Z"
    }
   }
  },
  {
   "cell_type": "code",
   "execution_count": 67,
   "outputs": [
    {
     "name": "stdout",
     "output_type": "stream",
     "text": [
      "+---------+--------------------+-----------+----+\n",
      "|startYear|              genres|movie_count|rank|\n",
      "+---------+--------------------+-----------+----+\n",
      "|     2031|Action,Adventure,...|          1|   1|\n",
      "|     2030|               Drama|          8|   1|\n",
      "|     2029|      News,Talk-Show|          6|   1|\n",
      "|     2028|Adventure,Drama,S...|          1|   1|\n",
      "|     2027|       Drama,Romance|         11|   1|\n",
      "|     2026|               Drama|         46|   1|\n",
      "|     2025|               Drama|         69|   1|\n",
      "|     2024|               Drama|        790|   1|\n",
      "|     2023|               Drama|      43943|   1|\n",
      "|     2022|               Drama|      64477|   1|\n",
      "|     2021|               Drama|      52401|   1|\n",
      "|     2020|           Talk-Show|      36871|   1|\n",
      "|     2019|               Drama|      35374|   1|\n",
      "|     2018|               Drama|      33745|   1|\n",
      "|     2017|              Comedy|      34580|   1|\n",
      "|     2016|              Comedy|      34352|   1|\n",
      "|     2015|              Comedy|      31661|   1|\n",
      "|     2014|              Comedy|      30270|   1|\n",
      "|     2013|              Comedy|      29194|   1|\n",
      "|     2012|              Comedy|      26063|   1|\n",
      "+---------+--------------------+-----------+----+\n",
      "only showing top 20 rows\n",
      "\n"
     ]
    }
   ],
   "source": [
    "# Popular Genres Over Time\n",
    "# How has the popularity of different genres changed over the years? Identify the top genre each year.\n",
    "\n",
    "result = (\n",
    "    basics.filter((basics.genres.isNotNull()) & (basics.startYear.isNotNull()))\n",
    "    .groupBy('startYear', 'genres')\n",
    "    .agg(count('tconst').alias('movie_count'))\n",
    "    .withColumn(\n",
    "        'rank',\n",
    "        row_number().over(Window.partitionBy('startYear').orderBy(desc('movie_count')))\n",
    "    )\n",
    "    .filter(col('rank') == 1)\n",
    "    .orderBy(desc('startYear'))\n",
    ")\n",
    "\n",
    "result.show()"
   ],
   "metadata": {
    "collapsed": false,
    "ExecuteTime": {
     "start_time": "2023-11-26T17:54:55.065241Z",
     "end_time": "2023-11-26T17:55:25.712515Z"
    }
   }
  },
  {
   "cell_type": "code",
   "execution_count": 68,
   "outputs": [
    {
     "name": "stdout",
     "output_type": "stream",
     "text": [
      "+---------+--------------------+---------+----+\n",
      "|   nconst|                 job|job_count|rank|\n",
      "+---------+--------------------+---------+----+\n",
      "|nm0000004|              writer|        6|   1|\n",
      "|nm0000005|            producer|        6|   1|\n",
      "|nm0000009|                book|        1|   1|\n",
      "|nm0000016|            composer|        5|   1|\n",
      "|nm0000018|            producer|       40|   1|\n",
      "|nm0000019|          screenplay|        9|   1|\n",
      "|nm0000024|          adaptation|        1|   1|\n",
      "|nm0000025|            composer|        1|   1|\n",
      "|nm0000033|      motion picture|       10|   1|\n",
      "|nm0000036|       autobiography|       12|   1|\n",
      "|nm0000037|            producer|        2|   1|\n",
      "|nm0000040|            story by|        1|   1|\n",
      "|nm0000041|film \"Shichinin n...|       26|   1|\n",
      "|nm0000045|based on the writ...|       30|   1|\n",
      "|nm0000050|               story|        1|   1|\n",
      "|nm0000051|               story|        1|   1|\n",
      "|nm0000054|     personal papers|        1|   1|\n",
      "|nm0000056|             creator|        5|   1|\n",
      "|nm0000059|            producer|        2|   1|\n",
      "|nm0000060|            producer|        3|   1|\n",
      "+---------+--------------------+---------+----+\n",
      "only showing top 20 rows\n",
      "\n"
     ]
    }
   ],
   "source": [
    "# Actor's Most Frequent Job\n",
    "# For each actor, what is the job they most frequently perform in movies?\n",
    "\n",
    "result = (\n",
    "    principals.filter((principals.job != '\\\\N') & (principals.tconst != '\\\\N'))\n",
    "    .groupBy('nconst', 'job')\n",
    "    .agg(count('tconst').alias('job_count'))\n",
    "    .withColumn(\n",
    "        'rank',\n",
    "        row_number().over(Window.partitionBy('nconst').orderBy(desc('job_count')))\n",
    "    )\n",
    "    .filter(col('rank') == 1)\n",
    ")\n",
    "\n",
    "result.show()"
   ],
   "metadata": {
    "collapsed": false,
    "ExecuteTime": {
     "start_time": "2023-11-26T17:55:25.716485Z",
     "end_time": "2023-11-26T17:56:48.460149Z"
    }
   }
  },
  {
   "cell_type": "code",
   "execution_count": 69,
   "outputs": [
    {
     "name": "stdout",
     "output_type": "stream",
     "text": [
      "+---------+-------------+--------+\n",
      "|   tconst|averageRating|numVotes|\n",
      "+---------+-------------+--------+\n",
      "|tt0111161|          9.3| 2817695|\n",
      "|tt0468569|          9.0| 2799219|\n",
      "|tt1375666|          8.8| 2484507|\n",
      "+---------+-------------+--------+\n",
      "\n"
     ]
    }
   ],
   "source": [
    "# Movies with Highest Votes\n",
    "# What are the top three movies with the highest number of votes?\n",
    "\n",
    "result = (\n",
    "    ratings.filter((ratings.numVotes.isNotNull()) & (ratings.tconst.isNotNull()))\n",
    "    .orderBy(desc('numVotes'))\n",
    "    .limit(3)\n",
    ")\n",
    "\n",
    "result.show()"
   ],
   "metadata": {
    "collapsed": false,
    "ExecuteTime": {
     "start_time": "2023-11-26T17:56:48.461147Z",
     "end_time": "2023-11-26T17:56:50.433946Z"
    }
   }
  },
  {
   "cell_type": "code",
   "execution_count": 70,
   "outputs": [
    {
     "name": "stdout",
     "output_type": "stream",
     "text": [
      "+---------+--------------------+--------------------+------------------+\n",
      "|   nconst|         primaryName|      knownForTitles|    average_rating|\n",
      "+---------+--------------------+--------------------+------------------+\n",
      "|nm0481248|      Selma Lagerlöf|tt0010298,tt00164...|6.5023529445423796|\n",
      "|nm0707803|      Esther Ralston|tt0015224,tt00134...| 5.802439032531366|\n",
      "|nm0007216|       Nancy Carroll|tt0023028,tt00253...| 6.326470641528859|\n",
      "|nm0111867|    Arthur A. Brooks|tt0030164,tt01837...| 5.305882362758412|\n",
      "|nm0942639|      Maurice Wright|tt0187669,tt00327...| 5.790740728378296|\n",
      "|nm0567223|     Paul McCullough|tt0019814,tt03866...| 6.039999985694886|\n",
      "|nm0615907|    Benito Mussolini|tt0026168,tt00197...|6.9733333150545755|\n",
      "|nm0001336|          Van Heflin|tt0043938,tt00408...| 6.875000028049245|\n",
      "|nm0950958|     Victor Sen Yung|tt0032819,tt00323...| 6.824137917880354|\n",
      "|nm0485943|         Walter Lang|tt0019211,tt00494...|6.3086206912994385|\n",
      "|nm0555939|        Gloria Marín|tt0235498,tt01348...|6.7066666497124565|\n",
      "|nm0286584|        Gene Forrell|tt0331296,tt03655...|6.6200000762939455|\n",
      "|nm1672795|       Ye. Radionova|tt0032070,tt14079...| 6.659999942779541|\n",
      "|nm0412619|Jaroslaw Iwaszkie...|tt0480691,tt00424...| 6.116666687859429|\n",
      "|nm0700354|        Óscar Pulido|tt0049880,tt00490...| 6.688235310947194|\n",
      "|nm0694918|        Rudolf Prack|tt0040521,tt00411...| 5.815094349519262|\n",
      "|nm0013244|        Louis Agotay|tt0871999,tt08720...|  5.51428576878139|\n",
      "|nm0269709|        Frank Faylen|tt0052490,tt00378...| 7.390000014305115|\n",
      "|nm0922690|    Paul Westermeier|tt0028159,tt00447...| 6.311111079321967|\n",
      "|nm0085751|       Joan Blackman|tt0054692,tt00717...| 6.674999982118607|\n",
      "+---------+--------------------+--------------------+------------------+\n",
      "only showing top 20 rows\n",
      "\n"
     ]
    }
   ],
   "source": [
    "# Actor's Known Titles\n",
    "# For each actor, list the titles they are known for, along with the average ratings of those titles.\n",
    "\n",
    "result = (\n",
    "    name.alias(\"n\").join(principals.alias(\"p\"), col(\"n.nconst\") == col(\"p.nconst\"))\n",
    "    .join(ratings.alias(\"r\"), col(\"p.tconst\") == col(\"r.tconst\"))\n",
    "    .filter((col(\"n.knownForTitles\").isNotNull()) & (col(\"r.averageRating\").isNotNull()))\n",
    "    .groupBy('n.nconst', 'n.primaryName', 'n.knownForTitles')\n",
    "    .agg(mean('r.averageRating').alias('average_rating'))\n",
    ")\n",
    "\n",
    "result.show()"
   ],
   "metadata": {
    "collapsed": false,
    "ExecuteTime": {
     "start_time": "2023-11-26T17:56:50.434943Z",
     "end_time": "2023-11-26T18:02:45.199581Z"
    }
   }
  }
 ],
 "metadata": {
  "kernelspec": {
   "display_name": "Python 3",
   "language": "python",
   "name": "python3"
  },
  "language_info": {
   "codemirror_mode": {
    "name": "ipython",
    "version": 2
   },
   "file_extension": ".py",
   "mimetype": "text/x-python",
   "name": "python",
   "nbconvert_exporter": "python",
   "pygments_lexer": "ipython2",
   "version": "2.7.6"
  }
 },
 "nbformat": 4,
 "nbformat_minor": 0
}
