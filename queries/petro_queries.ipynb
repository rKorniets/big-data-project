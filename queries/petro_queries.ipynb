{
 "cells": [
  {
   "cell_type": "code",
   "execution_count": 74,
   "metadata": {},
   "outputs": [],
   "source": [
    "import sys\n",
    "import os\n",
    "\n",
    "sys.path.insert(0, os.path.dirname(os.getcwd()))\n",
    "\n",
    "from pyspark import SparkConf\n",
    "from pyspark.sql import SparkSession\n",
    "from pyspark.sql.types import StructType, StructField, StringType, IntegerType\n",
    "from pyspark.sql.functions import col, rand, split, explode, regexp_replace, corr, array_contains, contains, round\n",
    "\n",
    "from schemas.dataframes import get_episode_df, get_basics_df, get_akas_df, get_crew_df, get_principals_df, get_ratings_df, get_name_df"
   ]
  },
  {
   "cell_type": "code",
   "execution_count": 2,
   "metadata": {},
   "outputs": [],
   "source": [
    "spark_session = (SparkSession.builder\n",
    "                             .master('local')\n",
    "                             .appName('test app')\n",
    "                             .config(conf=SparkConf())\n",
    "                             .getOrCreate())"
   ]
  },
  {
   "cell_type": "code",
   "execution_count": 3,
   "metadata": {},
   "outputs": [],
   "source": [
    "title_episode = get_episode_df(spark_session)\n",
    "\n",
    "title_basic = get_basics_df(spark_session)\n",
    "\n",
    "title_akas = get_akas_df(spark_session)\n",
    "\n",
    "rating = get_ratings_df(spark_session)"
   ]
  },
  {
   "cell_type": "markdown",
   "metadata": {},
   "source": [
    "Query 1 (10 випадкових серіалів, які мають рейтинг більше 8 за всі сезони та більше 50 серій, але менше 250)"
   ]
  },
  {
   "cell_type": "code",
   "execution_count": 75,
   "metadata": {},
   "outputs": [
    {
     "name": "stdout",
     "output_type": "stream",
     "text": [
      "+--------------------+-------------+---------+-------------+\n",
      "|        primaryTitle|AverageRating|MaxSeason|TotalEpisodes|\n",
      "+--------------------+-------------+---------+-------------+\n",
      "|          The Xcorps|          8.9|        6|           64|\n",
      "|   Who Dunit Theater|          8.1|        6|           64|\n",
      "|         Fantorangen|          9.3|       12|          154|\n",
      "|            Amrutham|          9.6|        6|           61|\n",
      "|          The League|          8.3|        7|           84|\n",
      "|    The Taste Brasil|          8.8|        6|           60|\n",
      "|      Blameitonjorge|          8.1|        8|          104|\n",
      "|       Who is J.O.B?|          9.2|        7|           73|\n",
      "|Feuer & Flamme: M...|          9.0|        7|           51|\n",
      "|           The Crown|          8.6|        6|           60|\n",
      "+--------------------+-------------+---------+-------------+\n",
      "\n"
     ]
    }
   ],
   "source": [
    "merged_data = (\n",
    "    title_episode\n",
    "    .join(title_basic, title_episode['parentTconst'] == title_basic['tconst'], 'inner')\n",
    "    .join(rating, title_basic['tconst'] == rating['tconst'], 'inner')\n",
    ")\n",
    "\n",
    "grouped_data = (\n",
    "    merged_data\n",
    "    .groupBy(\"primaryTitle\")\n",
    "    .agg({\"seasonNumber\": \"max\", \"episodeNumber\": \"count\", \"averageRating\": \"avg\"})\n",
    "    .withColumnRenamed(\"max(seasonNumber)\", \"MaxSeason\")\n",
    "    .withColumnRenamed(\"count(episodeNumber)\", \"TotalEpisodes\")\n",
    "    .withColumnRenamed(\"avg(averageRating)\", \"AverageRating\")\n",
    "    .withColumn(\"AverageRating\", round(col(\"AverageRating\"), 1))\n",
    ")\n",
    "\n",
    "filtered_data = (\n",
    "    grouped_data\n",
    "    .filter((col(\"AverageRating\") > 8) & (col(\"TotalEpisodes\") > 50) & (col(\"TotalEpisodes\") < 250) & (col(\"MaxSeason\") > 5))\n",
    "    .orderBy(rand())\n",
    "    .limit(10)\n",
    ")\n",
    "\n",
    "filtered_data.show()"
   ]
  },
  {
   "cell_type": "markdown",
   "metadata": {},
   "source": [
    "Query 2 (найбільш тривалі серіали\\фільми за жанрами від 2020 до 2023 року)"
   ]
  },
  {
   "cell_type": "code",
   "execution_count": 87,
   "metadata": {},
   "outputs": [
    {
     "ename": "AnalysisException",
     "evalue": "[DATATYPE_MISMATCH.UNEXPECTED_INPUT_TYPE] Cannot resolve \"contains(genres, \\N)\" due to data type mismatch: Parameter 1 requires the \"STRING\" type, however \"genres\" has the type \"ARRAY<STRING>\".;\n'Filter (((startYear#13 >= cast(2020 as int)) AND (startYear#13 < cast(2023 as int))) AND Contains(genres#26, \\N))\n+- Project [tconst#8, titleType#9, primaryTitle#10, originalTitle#11, isAdult#12, startYear#13, endYear#14, runtimeMinutes#15, split(genres#16, ,, -1) AS genres#26]\n   +- Relation [tconst#8,titleType#9,primaryTitle#10,originalTitle#11,isAdult#12,startYear#13,endYear#14,runtimeMinutes#15,genres#16] csv\n",
     "output_type": "error",
     "traceback": [
      "\u001b[1;31m---------------------------------------------------------------------------\u001b[0m",
      "\u001b[1;31mAnalysisException\u001b[0m                         Traceback (most recent call last)",
      "Cell \u001b[1;32mIn[87], line 5\u001b[0m\n\u001b[0;32m      1\u001b[0m start_date \u001b[38;5;241m=\u001b[39m \u001b[38;5;124m\"\u001b[39m\u001b[38;5;124m2020\u001b[39m\u001b[38;5;124m\"\u001b[39m\n\u001b[0;32m      2\u001b[0m end_date \u001b[38;5;241m=\u001b[39m \u001b[38;5;124m\"\u001b[39m\u001b[38;5;124m2023\u001b[39m\u001b[38;5;124m\"\u001b[39m\n\u001b[0;32m      4\u001b[0m filtered_movies \u001b[38;5;241m=\u001b[39m (\n\u001b[1;32m----> 5\u001b[0m     \u001b[43mtitle_basic\u001b[49m\u001b[38;5;241;43m.\u001b[39;49m\u001b[43mfilter\u001b[49m\u001b[43m(\u001b[49m\u001b[43m(\u001b[49m\u001b[43mcol\u001b[49m\u001b[43m(\u001b[49m\u001b[38;5;124;43m\"\u001b[39;49m\u001b[38;5;124;43mstartYear\u001b[39;49m\u001b[38;5;124;43m\"\u001b[39;49m\u001b[43m)\u001b[49m\u001b[43m \u001b[49m\u001b[38;5;241;43m>\u001b[39;49m\u001b[38;5;241;43m=\u001b[39;49m\u001b[43m \u001b[49m\u001b[43mstart_date\u001b[49m\u001b[43m)\u001b[49m\u001b[43m \u001b[49m\u001b[38;5;241;43m&\u001b[39;49m\u001b[43m \u001b[49m\u001b[43m(\u001b[49m\u001b[43mcol\u001b[49m\u001b[43m(\u001b[49m\u001b[38;5;124;43m\"\u001b[39;49m\u001b[38;5;124;43mstartYear\u001b[39;49m\u001b[38;5;124;43m\"\u001b[39;49m\u001b[43m)\u001b[49m\u001b[43m \u001b[49m\u001b[38;5;241;43m<\u001b[39;49m\u001b[43m \u001b[49m\u001b[43mend_date\u001b[49m\u001b[43m)\u001b[49m\u001b[43m \u001b[49m\u001b[38;5;241;43m&\u001b[39;49m\u001b[43m \u001b[49m\u001b[43m(\u001b[49m\u001b[43mcol\u001b[49m\u001b[43m(\u001b[49m\u001b[38;5;124;43m\"\u001b[39;49m\u001b[38;5;124;43mgenres\u001b[39;49m\u001b[38;5;124;43m\"\u001b[39;49m\u001b[43m)\u001b[49m\u001b[38;5;241;43m.\u001b[39;49m\u001b[43mcontains\u001b[49m\u001b[43m(\u001b[49m\u001b[38;5;124;43m\"\u001b[39;49m\u001b[38;5;130;43;01m\\\\\u001b[39;49;00m\u001b[38;5;124;43mN\u001b[39;49m\u001b[38;5;124;43m\"\u001b[39;49m\u001b[43m)\u001b[49m\u001b[43m)\u001b[49m\u001b[43m)\u001b[49m\n\u001b[0;32m      6\u001b[0m                \u001b[38;5;241m.\u001b[39mselect(\u001b[38;5;124m\"\u001b[39m\u001b[38;5;124mtconst\u001b[39m\u001b[38;5;124m\"\u001b[39m, explode(\u001b[38;5;124m\"\u001b[39m\u001b[38;5;124mgenres\u001b[39m\u001b[38;5;124m\"\u001b[39m)\u001b[38;5;241m.\u001b[39malias(\u001b[38;5;124m\"\u001b[39m\u001b[38;5;124mgenre\u001b[39m\u001b[38;5;124m\"\u001b[39m), \u001b[38;5;124m\"\u001b[39m\u001b[38;5;124mruntimeMinutes\u001b[39m\u001b[38;5;124m\"\u001b[39m)\n\u001b[0;32m      7\u001b[0m                \u001b[38;5;241m.\u001b[39mgroupBy(\u001b[38;5;124m\"\u001b[39m\u001b[38;5;124mgenre\u001b[39m\u001b[38;5;124m\"\u001b[39m)\n\u001b[0;32m      8\u001b[0m                \u001b[38;5;241m.\u001b[39magg({\u001b[38;5;124m\"\u001b[39m\u001b[38;5;124mruntimeMinutes\u001b[39m\u001b[38;5;124m\"\u001b[39m: \u001b[38;5;124m\"\u001b[39m\u001b[38;5;124mavg\u001b[39m\u001b[38;5;124m\"\u001b[39m})\u001b[38;5;241m.\u001b[39mlimit(\u001b[38;5;241m10\u001b[39m)\n\u001b[0;32m      9\u001b[0m                \u001b[38;5;241m.\u001b[39morderBy(col(\u001b[38;5;124m\"\u001b[39m\u001b[38;5;124mavg(runtimeMinutes)\u001b[39m\u001b[38;5;124m\"\u001b[39m)\u001b[38;5;241m.\u001b[39mdesc())\n\u001b[0;32m     10\u001b[0m )\n\u001b[0;32m     12\u001b[0m filtered_movies\u001b[38;5;241m.\u001b[39mshow()\n",
      "File \u001b[1;32md:\\study\\circus\\HDFS\\project\\github\\big-data-project\\venv\\Lib\\site-packages\\pyspark\\sql\\dataframe.py:3325\u001b[0m, in \u001b[0;36mDataFrame.filter\u001b[1;34m(self, condition)\u001b[0m\n\u001b[0;32m   3323\u001b[0m     jdf \u001b[38;5;241m=\u001b[39m \u001b[38;5;28mself\u001b[39m\u001b[38;5;241m.\u001b[39m_jdf\u001b[38;5;241m.\u001b[39mfilter(condition)\n\u001b[0;32m   3324\u001b[0m \u001b[38;5;28;01melif\u001b[39;00m \u001b[38;5;28misinstance\u001b[39m(condition, Column):\n\u001b[1;32m-> 3325\u001b[0m     jdf \u001b[38;5;241m=\u001b[39m \u001b[38;5;28;43mself\u001b[39;49m\u001b[38;5;241;43m.\u001b[39;49m\u001b[43m_jdf\u001b[49m\u001b[38;5;241;43m.\u001b[39;49m\u001b[43mfilter\u001b[49m\u001b[43m(\u001b[49m\u001b[43mcondition\u001b[49m\u001b[38;5;241;43m.\u001b[39;49m\u001b[43m_jc\u001b[49m\u001b[43m)\u001b[49m\n\u001b[0;32m   3326\u001b[0m \u001b[38;5;28;01melse\u001b[39;00m:\n\u001b[0;32m   3327\u001b[0m     \u001b[38;5;28;01mraise\u001b[39;00m PySparkTypeError(\n\u001b[0;32m   3328\u001b[0m         error_class\u001b[38;5;241m=\u001b[39m\u001b[38;5;124m\"\u001b[39m\u001b[38;5;124mNOT_COLUMN_OR_STR\u001b[39m\u001b[38;5;124m\"\u001b[39m,\n\u001b[0;32m   3329\u001b[0m         message_parameters\u001b[38;5;241m=\u001b[39m{\u001b[38;5;124m\"\u001b[39m\u001b[38;5;124marg_name\u001b[39m\u001b[38;5;124m\"\u001b[39m: \u001b[38;5;124m\"\u001b[39m\u001b[38;5;124mcondition\u001b[39m\u001b[38;5;124m\"\u001b[39m, \u001b[38;5;124m\"\u001b[39m\u001b[38;5;124marg_type\u001b[39m\u001b[38;5;124m\"\u001b[39m: \u001b[38;5;28mtype\u001b[39m(condition)\u001b[38;5;241m.\u001b[39m\u001b[38;5;18m__name__\u001b[39m},\n\u001b[0;32m   3330\u001b[0m     )\n",
      "File \u001b[1;32md:\\study\\circus\\HDFS\\project\\github\\big-data-project\\venv\\Lib\\site-packages\\py4j\\java_gateway.py:1322\u001b[0m, in \u001b[0;36mJavaMember.__call__\u001b[1;34m(self, *args)\u001b[0m\n\u001b[0;32m   1316\u001b[0m command \u001b[38;5;241m=\u001b[39m proto\u001b[38;5;241m.\u001b[39mCALL_COMMAND_NAME \u001b[38;5;241m+\u001b[39m\\\n\u001b[0;32m   1317\u001b[0m     \u001b[38;5;28mself\u001b[39m\u001b[38;5;241m.\u001b[39mcommand_header \u001b[38;5;241m+\u001b[39m\\\n\u001b[0;32m   1318\u001b[0m     args_command \u001b[38;5;241m+\u001b[39m\\\n\u001b[0;32m   1319\u001b[0m     proto\u001b[38;5;241m.\u001b[39mEND_COMMAND_PART\n\u001b[0;32m   1321\u001b[0m answer \u001b[38;5;241m=\u001b[39m \u001b[38;5;28mself\u001b[39m\u001b[38;5;241m.\u001b[39mgateway_client\u001b[38;5;241m.\u001b[39msend_command(command)\n\u001b[1;32m-> 1322\u001b[0m return_value \u001b[38;5;241m=\u001b[39m \u001b[43mget_return_value\u001b[49m\u001b[43m(\u001b[49m\n\u001b[0;32m   1323\u001b[0m \u001b[43m    \u001b[49m\u001b[43manswer\u001b[49m\u001b[43m,\u001b[49m\u001b[43m \u001b[49m\u001b[38;5;28;43mself\u001b[39;49m\u001b[38;5;241;43m.\u001b[39;49m\u001b[43mgateway_client\u001b[49m\u001b[43m,\u001b[49m\u001b[43m \u001b[49m\u001b[38;5;28;43mself\u001b[39;49m\u001b[38;5;241;43m.\u001b[39;49m\u001b[43mtarget_id\u001b[49m\u001b[43m,\u001b[49m\u001b[43m \u001b[49m\u001b[38;5;28;43mself\u001b[39;49m\u001b[38;5;241;43m.\u001b[39;49m\u001b[43mname\u001b[49m\u001b[43m)\u001b[49m\n\u001b[0;32m   1325\u001b[0m \u001b[38;5;28;01mfor\u001b[39;00m temp_arg \u001b[38;5;129;01min\u001b[39;00m temp_args:\n\u001b[0;32m   1326\u001b[0m     \u001b[38;5;28;01mif\u001b[39;00m \u001b[38;5;28mhasattr\u001b[39m(temp_arg, \u001b[38;5;124m\"\u001b[39m\u001b[38;5;124m_detach\u001b[39m\u001b[38;5;124m\"\u001b[39m):\n",
      "File \u001b[1;32md:\\study\\circus\\HDFS\\project\\github\\big-data-project\\venv\\Lib\\site-packages\\pyspark\\errors\\exceptions\\captured.py:185\u001b[0m, in \u001b[0;36mcapture_sql_exception.<locals>.deco\u001b[1;34m(*a, **kw)\u001b[0m\n\u001b[0;32m    181\u001b[0m converted \u001b[38;5;241m=\u001b[39m convert_exception(e\u001b[38;5;241m.\u001b[39mjava_exception)\n\u001b[0;32m    182\u001b[0m \u001b[38;5;28;01mif\u001b[39;00m \u001b[38;5;129;01mnot\u001b[39;00m \u001b[38;5;28misinstance\u001b[39m(converted, UnknownException):\n\u001b[0;32m    183\u001b[0m     \u001b[38;5;66;03m# Hide where the exception came from that shows a non-Pythonic\u001b[39;00m\n\u001b[0;32m    184\u001b[0m     \u001b[38;5;66;03m# JVM exception message.\u001b[39;00m\n\u001b[1;32m--> 185\u001b[0m     \u001b[38;5;28;01mraise\u001b[39;00m converted \u001b[38;5;28;01mfrom\u001b[39;00m \u001b[38;5;28;01mNone\u001b[39;00m\n\u001b[0;32m    186\u001b[0m \u001b[38;5;28;01melse\u001b[39;00m:\n\u001b[0;32m    187\u001b[0m     \u001b[38;5;28;01mraise\u001b[39;00m\n",
      "\u001b[1;31mAnalysisException\u001b[0m: [DATATYPE_MISMATCH.UNEXPECTED_INPUT_TYPE] Cannot resolve \"contains(genres, \\N)\" due to data type mismatch: Parameter 1 requires the \"STRING\" type, however \"genres\" has the type \"ARRAY<STRING>\".;\n'Filter (((startYear#13 >= cast(2020 as int)) AND (startYear#13 < cast(2023 as int))) AND Contains(genres#26, \\N))\n+- Project [tconst#8, titleType#9, primaryTitle#10, originalTitle#11, isAdult#12, startYear#13, endYear#14, runtimeMinutes#15, split(genres#16, ,, -1) AS genres#26]\n   +- Relation [tconst#8,titleType#9,primaryTitle#10,originalTitle#11,isAdult#12,startYear#13,endYear#14,runtimeMinutes#15,genres#16] csv\n"
     ]
    }
   ],
   "source": [
    "start_date = \"2020\"\n",
    "end_date = \"2023\"\n",
    "\n",
    "filtered_movies = (\n",
    "    title_basic.filter((col(\"startYear\") >= start_date) & (col(\"startYear\") < end_date) & (col(\"genres\").contains(\"\\\\N\")))\n",
    "               .select(\"tconst\", explode(\"genres\").alias(\"genre\"), \"runtimeMinutes\")\n",
    "               .groupBy(\"genre\")\n",
    "               .agg({\"runtimeMinutes\": \"avg\"}).limit(10)\n",
    "               .orderBy(col(\"avg(runtimeMinutes)\").desc())\n",
    ")\n",
    "\n",
    "filtered_movies.show()"
   ]
  },
  {
   "cell_type": "code",
   "execution_count": 10,
   "metadata": {},
   "outputs": [
    {
     "name": "stdout",
     "output_type": "stream",
     "text": [
      "+-----------+-------------------+\n",
      "|      genre|avg(runtimeMinutes)|\n",
      "+-----------+-------------------+\n",
      "|        War| 57.662944162436546|\n",
      "| Reality-TV|  54.77462393026099|\n",
      "|   Thriller| 51.212988442487614|\n",
      "|      Crime|  49.19968429360694|\n",
      "|    Romance|  47.95665236051502|\n",
      "|Documentary| 44.673557804663204|\n",
      "|  Adventure| 44.585649044043656|\n",
      "|         \\N|  43.35081764887381|\n",
      "|      Drama| 43.013921909560814|\n",
      "|     Family|  34.47700718190588|\n",
      "+-----------+-------------------+\n",
      "\n"
     ]
    }
   ],
   "source": [
    "start_date = \"2020\"\n",
    "end_date = \"2023\"\n",
    "\n",
    "filtered_movies = (\n",
    "    title_basic.filter((col(\"startYear\") >= start_date) & (col(\"startYear\") < end_date))\n",
    "               .select(\"tconst\", explode(\"genres\").alias(\"genre\"), \"runtimeMinutes\")\n",
    "               .groupBy(\"genre\")\n",
    "               .agg({\"runtimeMinutes\": \"avg\"}).limit(10)\n",
    "               .orderBy(col(\"avg(runtimeMinutes)\").desc())\n",
    ")\n",
    "\n",
    "filtered_movies.show()"
   ]
  },
  {
   "cell_type": "markdown",
   "metadata": {},
   "source": [
    "Query 3 - Фільми, які містять слово \"dog\" в оригінальному заголовку"
   ]
  },
  {
   "cell_type": "code",
   "execution_count": 79,
   "metadata": {},
   "outputs": [
    {
     "name": "stdout",
     "output_type": "stream",
     "text": [
      "+--------------------+--------------------+--------+---------+--------------------+\n",
      "|        primaryTitle|       originalTitle|language|startYear|              genres|\n",
      "+--------------------+--------------------+--------+---------+--------------------+\n",
      "|Penguins of Madag...|Penguins of Madag...|      \\N|     2014|[Action, Adventur...|\n",
      "|Penguins of Madag...|Penguins of Madag...|      \\N|     2014|[Action, Adventur...|\n",
      "|Penguins of Madag...|Penguins of Madag...|      \\N|     2014|[Action, Adventur...|\n",
      "|Penguins of Madag...|Penguins of Madag...|      \\N|     2014|[Action, Adventur...|\n",
      "|Penguins of Madag...|Penguins of Madag...|      \\N|     2014|[Action, Adventur...|\n",
      "|Penguins of Madag...|Penguins of Madag...|      \\N|     2014|[Action, Adventur...|\n",
      "|Penguins of Madag...|Penguins of Madag...|      \\N|     2014|[Action, Adventur...|\n",
      "|Penguins of Madag...|Penguins of Madag...|      en|     2014|[Action, Adventur...|\n",
      "|Penguins of Madag...|Penguins of Madag...|      \\N|     2014|[Action, Adventur...|\n",
      "|Penguins of Madag...|Penguins of Madag...|      ja|     2014|[Action, Adventur...|\n",
      "+--------------------+--------------------+--------+---------+--------------------+\n",
      "\n"
     ]
    }
   ],
   "source": [
    "dog_movies = (\n",
    "    title_akas\n",
    "    .join(title_basic, title_akas['titleId'] == title_basic['tconst'], 'inner')\n",
    "    .filter(  (col(\"titleType\") == \"movie\") \n",
    "            & (col(\"originalTitle\").contains(\"Penguins of Madagascar\")) \n",
    "            & (col(\"startYear\") > 1950))\n",
    "    .orderBy(rand())\n",
    "    .select(\"primaryTitle\", \"originalTitle\", \"language\", \"startYear\", \"genres\")\n",
    "    .limit(10)\n",
    ")\n",
    "\n",
    "dog_movies.show()"
   ]
  },
  {
   "cell_type": "code",
   "execution_count": 71,
   "metadata": {},
   "outputs": [
    {
     "name": "stdout",
     "output_type": "stream",
     "text": [
      "+--------------------+--------------------+--------+---------+--------------------+\n",
      "|        primaryTitle|       originalTitle|language|startYear|              genres|\n",
      "+--------------------+--------------------+--------+---------+--------------------+\n",
      "|A Bulldog for Chr...|A Bulldog for Chr...|      \\N|     2013|[Comedy, Drama, F...|\n",
      "|  Viva the Underdogs|  Viva the Underdogs|      \\N|     2020|       [Documentary]|\n",
      "|            Upperdog|            Upperdog|      \\N|     2009|     [Comedy, Drama]|\n",
      "|           Hell Dogs|        Heru doggusu|      en|     2022|[Action, Crime, D...|\n",
      "|       Does It Hurt?|Boli li? Prvata b...|      \\N|     2007|       [Documentary]|\n",
      "|     Happy Birthday!|Boldog születésna...|      en|     2003|   [Comedy, Romance]|\n",
      "|        Baby Bulldog|        Baby Bulldog|      \\N|     2020|            [Family]|\n",
      "|            Underdog|            Underdog|      \\N|     2007|[Action, Adventur...|\n",
      "|The Dancin' Bulldogs|The Dancin' Bulldogs|      \\N|     2020|       [Documentary]|\n",
      "|        Gravehopping|      Odgrobadogroba|      \\N|     2005|     [Comedy, Drama]|\n",
      "+--------------------+--------------------+--------+---------+--------------------+\n",
      "\n"
     ]
    }
   ],
   "source": [
    "dog_movies = (\n",
    "    title_akas\n",
    "    .join(title_basic, title_akas['titleId'] == title_basic['tconst'], 'inner')\n",
    "    .filter(  (col(\"titleType\") == \"movie\") \n",
    "            & (col(\"originalTitle\").contains(\"dog\")) \n",
    "            & (col(\"startYear\") > 1950))\n",
    "    .orderBy(rand())\n",
    "    .select(\"primaryTitle\", \"originalTitle\", \"language\", \"startYear\", \"genres\")\n",
    "    .limit(10)\n",
    ")\n",
    "\n",
    "dog_movies.show()"
   ]
  },
  {
   "cell_type": "markdown",
   "metadata": {},
   "source": [
    "Query 4 Найпопулярніші фільми продубльовані іспанською мовою після 2000 року"
   ]
  },
  {
   "cell_type": "code",
   "execution_count": 33,
   "metadata": {},
   "outputs": [
    {
     "name": "stdout",
     "output_type": "stream",
     "text": [
      "+--------------------+--------------------+--------+---------+--------------------+-------------+\n",
      "|        primaryTitle|       originalTitle|language|startYear|              genres|averageRating|\n",
      "+--------------------+--------------------+--------+---------+--------------------+-------------+\n",
      "|  Heavier Is the Sky| Mais Pesado é o Céu|      es|     2023|             [Drama]|         10.0|\n",
      "|  Carving the Divine|  Carving the Divine|      es|     2019|       [Documentary]|          9.9|\n",
      "|Catholicism: The ...|Catholicism: The ...|      es|     2016|       [Documentary]|          9.4|\n",
      "|   Mein fremdes Land|   Mein fremdes Land|      es|     2021|       [Documentary]|          9.3|\n",
      "|  Strangers to Peace|  Strangers to Peace|      es|     2022|       [Documentary]|          9.0|\n",
      "|              Cringe|              Cringe|      es|     2020|[Comedy, Document...|          8.8|\n",
      "|           Canceling|           Canceling|      es|     2020|            [Comedy]|          8.8|\n",
      "|    Under Rich Earth|    Under Rich Earth|      es|     2008|       [Documentary]|          8.7|\n",
      "|Paw Patrol: Sea P...|Paw Patrol: Sea P...|      es|     2018|         [Animation]|          8.6|\n",
      "|       Spirited Away|Sen to Chihiro no...|      es|     2001|[Adventure, Anima...|          8.6|\n",
      "+--------------------+--------------------+--------+---------+--------------------+-------------+\n",
      "\n"
     ]
    }
   ],
   "source": [
    "espaniol_movies = (\n",
    "    title_akas\n",
    "    .join(title_basic, title_akas['titleId'] == title_basic['tconst'])\n",
    "    .join(rating, title_basic['tconst'] == rating['tconst'])\n",
    "    .filter((col(\"language\") == \"es\") & (col(\"startYear\") > 2000) & (col(\"titleType\") == \"movie\"))\n",
    "    .select(\"primaryTitle\", \"originalTitle\", \"language\", \"startYear\", \"genres\", \"averageRating\")\n",
    "    .orderBy(col(\"averageRating\").desc())\n",
    "    .limit(10)\n",
    ")\n",
    "\n",
    "espaniol_movies.show()"
   ]
  },
  {
   "cell_type": "markdown",
   "metadata": {},
   "source": [
    "Query 5 кореляція між тривалістю часу фільму та рейтингу"
   ]
  },
  {
   "cell_type": "code",
   "execution_count": 34,
   "metadata": {},
   "outputs": [
    {
     "name": "stdout",
     "output_type": "stream",
     "text": [
      "+--------------------------------------+\n",
      "|correlation between runtime and rating|\n",
      "+--------------------------------------+\n",
      "|                  0.008873044893575995|\n",
      "+--------------------------------------+\n",
      "\n"
     ]
    }
   ],
   "source": [
    "correlation_result = (rating\n",
    "                      .join(title_basic, rating['tconst'] == title_basic['tconst'], 'inner')\n",
    "                      .select(\"runtimeMinutes\", \"averageRating\")\n",
    "                      .na.drop()\n",
    "                      .filter((col(\"titleType\") == \"movie\"))\n",
    "                      .select(corr(\"runtimeMinutes\", \"averageRating\").alias(\"correlation between runtime and rating\")))\n",
    "\n",
    "correlation_result.show()"
   ]
  },
  {
   "cell_type": "markdown",
   "metadata": {},
   "source": [
    "Query 6 кількість дубльованих фільмів німецькою мовою від 2010 року"
   ]
  },
  {
   "cell_type": "code",
   "execution_count": 32,
   "metadata": {},
   "outputs": [
    {
     "name": "stdout",
     "output_type": "stream",
     "text": [
      "+---------+---------------+\n",
      "|startYear|amount_of_films|\n",
      "+---------+---------------+\n",
      "|     2010|             11|\n",
      "|     2011|             13|\n",
      "|     2012|             18|\n",
      "|     2013|             26|\n",
      "|     2014|             22|\n",
      "|     2015|             34|\n",
      "|     2016|             17|\n",
      "|     2017|             25|\n",
      "|     2018|             32|\n",
      "|     2019|             32|\n",
      "|     2020|             37|\n",
      "|     2021|             82|\n",
      "|     2022|             78|\n",
      "|     2023|             58|\n",
      "|     2024|              1|\n",
      "+---------+---------------+\n",
      "\n"
     ]
    }
   ],
   "source": [
    "german_movies = (\n",
    "    title_akas\n",
    "    .filter(col(\"language\") == \"de\")\n",
    "    .join(title_basic, title_akas['titleId'] == title_basic['tconst'], 'inner')\n",
    "    .filter(  (col(\"startYear\") >= 2010) \n",
    "            & (col(\"runtimeMinutes\") > 20)\n",
    "            & (col(\"titleType\") == \"movie\"))\n",
    ")\n",
    "\n",
    "german_movies_by_year = (\n",
    "    german_movies\n",
    "    .groupBy(\"startYear\")\n",
    "    .count()\n",
    "    .withColumnRenamed(\"count\", \"amount_of_films\")\n",
    "    .orderBy(\"startYear\")\n",
    ")\n",
    "\n",
    "german_movies_by_year.show()"
   ]
  }
 ],
 "metadata": {
  "kernelspec": {
   "display_name": "venv",
   "language": "python",
   "name": "python3"
  },
  "language_info": {
   "codemirror_mode": {
    "name": "ipython",
    "version": 3
   },
   "file_extension": ".py",
   "mimetype": "text/x-python",
   "name": "python",
   "nbconvert_exporter": "python",
   "pygments_lexer": "ipython3",
   "version": "3.11.7"
  }
 },
 "nbformat": 4,
 "nbformat_minor": 2
}
