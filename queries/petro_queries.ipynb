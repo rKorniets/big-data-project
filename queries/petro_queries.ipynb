{
 "cells": [
  {
   "cell_type": "code",
   "execution_count": 14,
   "metadata": {},
   "outputs": [],
   "source": [
    "import sys\n",
    "import os\n",
    "\n",
    "sys.path.insert(0, os.path.dirname(os.getcwd()))\n",
    "\n",
    "from pyspark import SparkConf\n",
    "from pyspark.sql import SparkSession\n",
    "from pyspark.sql.types import StructType, StructField, StringType, IntegerType\n",
    "from pyspark.sql.functions import col, rand, split, explode, regexp_replace, corr\n",
    "\n",
    "from schemas.dataframes import get_episode_df, get_basics_df, get_akas_df, get_crew_df, get_principals_df, get_ratings_df, get_name_df"
   ]
  },
  {
   "cell_type": "code",
   "execution_count": 2,
   "metadata": {},
   "outputs": [],
   "source": [
    "spark_session = (SparkSession.builder\n",
    "                             .master('local')\n",
    "                             .appName('test app')\n",
    "                             .config(conf=SparkConf())\n",
    "                             .getOrCreate())"
   ]
  },
  {
   "cell_type": "code",
   "execution_count": 8,
   "metadata": {},
   "outputs": [],
   "source": [
    "title_episode = get_episode_df(spark_session)\n",
    "\n",
    "title_basic = get_basics_df(spark_session)\n",
    "\n",
    "title_akas = get_akas_df(spark_session)\n",
    "\n",
    "rating = get_ratings_df(spark_session)"
   ]
  },
  {
   "cell_type": "code",
   "execution_count": 4,
   "metadata": {},
   "outputs": [
    {
     "data": {
      "text/plain": [
       "['tconst', 'parentTconst', 'seasonNumber', 'episodeNumber']"
      ]
     },
     "execution_count": 4,
     "metadata": {},
     "output_type": "execute_result"
    }
   ],
   "source": [
    "get_episode_df(spark_session).columns"
   ]
  },
  {
   "cell_type": "markdown",
   "metadata": {},
   "source": [
    "Query 1(10 випадкових серій, які можна переглянути)"
   ]
  },
  {
   "cell_type": "code",
   "execution_count": 5,
   "metadata": {},
   "outputs": [
    {
     "name": "stdout",
     "output_type": "stream",
     "text": [
      "+--------------------+--------------------+----+------------+-------------+--------------------+\n",
      "|        primaryTitle|       originalTitle|Year|seasonNumber|episodeNumber|              genres|\n",
      "+--------------------+--------------------+----+------------+-------------+--------------------+\n",
      "|    Maalaala Mo Kaya|    Maalaala mo kaya|1991|           1|          903|Biography,Drama,R...|\n",
      "|The Young and the...|The Young and the...|1973|           1|         2749|       Drama,Romance|\n",
      "|           Marinella|           Marinella|1999|           1|          379|       Drama,Romance|\n",
      "|Tengo algo que En...|Tengo algo que En...|2017|           3|            7|  Comedy,Documentary|\n",
      "|The Really Wild Show|The Really Wild Show|1986|          13|           11|  Documentary,Family|\n",
      "| Me Gusta: Með Gústa| Me Gusta: Með Gústa|2013|           1|            2|              Comedy|\n",
      "|        What A Charm|        Yahsi Cazibe|2010|           2|           21|              Comedy|\n",
      "|               La ex|               La ex|2006|           1|          100|Comedy,Drama,Romance|\n",
      "|      Secret History|      Secret History|1991|          12|            2| Documentary,History|\n",
      "|             Omnibus|             Omnibus|1967|          36|            3|Biography,Documen...|\n",
      "+--------------------+--------------------+----+------------+-------------+--------------------+\n",
      "\n"
     ]
    }
   ],
   "source": [
    "merged_data = title_episode.join(title_basic, title_episode['parentTconst'] == title_basic['tconst'], 'inner') \\\n",
    "                           .orderBy(rand()) \\\n",
    "                           .select(\"primaryTitle\", \"originalTitle\", col(\"startYear\").alias(\"Year\"), \"seasonNumber\", \"episodeNumber\" , \"genres\") \\\n",
    "                           .na.drop() \\\n",
    "                           .limit(10)\n",
    "\n",
    "merged_data.show()"
   ]
  },
  {
   "cell_type": "markdown",
   "metadata": {},
   "source": [
    "Query 2 (найбільш тривалі серіали\\фільми за жанрами)"
   ]
  },
  {
   "cell_type": "code",
   "execution_count": 27,
   "metadata": {},
   "outputs": [
    {
     "name": "stdout",
     "output_type": "stream",
     "text": [
      "+-----------+-------------------+\n",
      "|      genre|avg(runtimeMinutes)|\n",
      "+-----------+-------------------+\n",
      "|        War| 57.662944162436546|\n",
      "| Reality-TV|  54.77462393026099|\n",
      "|   Thriller| 51.212988442487614|\n",
      "|      Crime|  49.19968429360694|\n",
      "|    Romance|  47.95665236051502|\n",
      "|    Fantasy|  46.59091938405797|\n",
      "|Documentary| 44.673557804663204|\n",
      "|  Adventure| 44.585649044043656|\n",
      "|      Drama| 43.013921909560814|\n",
      "|     Family|  34.47700718190588|\n",
      "+-----------+-------------------+\n",
      "\n"
     ]
    }
   ],
   "source": [
    "start_date = \"2020\"\n",
    "end_date = \"2023\"\n",
    "\n",
    "# filter: Групування фільмів за жанром\n",
    "filtered_movies = title_basic.filter((col(\"startYear\") >= start_date) & (col(\"startYear\") < end_date))\n",
    "\n",
    "# Розділення поля \"genres\" на різні стовпці\n",
    "split_genres = (filtered_movies.withColumn(\"genres_array\", split(regexp_replace(col(\"genres\"), \"\\\\\\\\N\", \"\"), \",\")))\n",
    "\n",
    "# Використання explode для розгортання масиву жанрів\n",
    "exploded_genres = split_genres.select(\"tconst\", explode(\"genres_array\").alias(\"genre\"), \"runtimeMinutes\")\n",
    "\n",
    "# Group By: Групування фільмів за жанром\n",
    "grouped_movies = exploded_genres.groupBy(\"genre\")\n",
    "\n",
    "# Window Function: Обчислення середнього рейтингу для кожного жанру\n",
    "average_rating_per_genre = grouped_movies.agg({\"runtimeMinutes\": \"avg\"}).limit(10)\n",
    "\n",
    "sorted_result = average_rating_per_genre.orderBy(col(\"avg(runtimeMinutes)\").desc())\n",
    "\n",
    "# Виведення результату\n",
    "sorted_result.show()"
   ]
  },
  {
   "cell_type": "markdown",
   "metadata": {},
   "source": [
    "Query 3 - продубльовані фільми українською до 1950 року"
   ]
  },
  {
   "cell_type": "code",
   "execution_count": 13,
   "metadata": {},
   "outputs": [
    {
     "name": "stdout",
     "output_type": "stream",
     "text": [
      "+--------------------+--------------------+--------+---------+--------------------+\n",
      "|        primaryTitle|       originalTitle|language|startYear|              genres|\n",
      "+--------------------+--------------------+--------+---------+--------------------+\n",
      "|                Alim|                Alim|      uk|     1926|               Drama|\n",
      "|   The House of Hate|   The House of Hate|      uk|     1918|        Action,Drama|\n",
      "|Za monastyrskoyu ...|Za monastyrskoyu ...|      uk|     1928|               Drama|\n",
      "|             Hamburg|             Gamburg|      uk|     1926|               Drama|\n",
      "|  The Night Coachman|   Nochnoj izvozchik|      uk|     1929|               Drama|\n",
      "|Za monastyrskoyu ...|Za monastyrskoyu ...|      uk|     1928|               Drama|\n",
      "|             Hamburg|             Gamburg|      uk|     1926|               Drama|\n",
      "|         V sugrobakh|         V sugrobakh|      uk|     1929|Adventure,Drama,H...|\n",
      "|       Yego kar'yera|       Yego kar'yera|      uk|     1928|               Drama|\n",
      "|Children of No Im...|     Die Unehelichen|      uk|     1926|               Drama|\n",
      "+--------------------+--------------------+--------+---------+--------------------+\n",
      "\n"
     ]
    }
   ],
   "source": [
    "ukrainian_movies = (\n",
    "    title_akas\n",
    "    .join(title_basic, title_akas['titleId'] == title_basic['tconst'], 'inner')\n",
    "    .filter((col(\"language\") == \"uk\") & (col(\"startYear\") < 1950))\n",
    "    .orderBy(rand())\n",
    "    .select(\"primaryTitle\", \"originalTitle\", \"language\", \"startYear\", \"genres\")\n",
    "    .limit(10)\n",
    ")\n",
    "\n",
    "ukrainian_movies.show()"
   ]
  },
  {
   "cell_type": "markdown",
   "metadata": {},
   "source": [
    "Query 4 Найпопулярніші фільми продубльовані українською мовою після 2000 року"
   ]
  },
  {
   "cell_type": "code",
   "execution_count": 10,
   "metadata": {},
   "outputs": [
    {
     "name": "stdout",
     "output_type": "stream",
     "text": [
      "+--------------------+--------------------+--------+---------+--------------------+-------------+\n",
      "|        primaryTitle|       originalTitle|language|startYear|              genres|averageRating|\n",
      "+--------------------+--------------------+--------+---------+--------------------+-------------+\n",
      "|Mission: Impossib...|Mission: Impossib...|      uk|     2018|Action,Adventure,...|          7.7|\n",
      "|   War of the Worlds|   War of the Worlds|      uk|     2005|Action,Adventure,...|          6.5|\n",
      "|            I, Robot|            I, Robot|      uk|     2019|   Documentary,Short|          6.3|\n",
      "|   A Wrinkle in Time|   A Wrinkle in Time|      uk|     2018|Adventure,Drama,F...|          4.3|\n",
      "+--------------------+--------------------+--------+---------+--------------------+-------------+\n",
      "\n"
     ]
    }
   ],
   "source": [
    "ukrainian_movies = (\n",
    "    title_akas\n",
    "    .join(title_basic, title_akas['titleId'] == title_basic['tconst'], 'inner')\n",
    "    .join(rating, title_basic['tconst'] == rating['tconst'])\n",
    "    .filter((col(\"language\") == \"uk\") & (col(\"startYear\") > 2000))\n",
    "    .select(\"primaryTitle\", \"originalTitle\", \"language\", \"startYear\", \"genres\", \"averageRating\")\n",
    "    .orderBy(col(\"averageRating\").desc())\n",
    "    .limit(10)\n",
    ")\n",
    "\n",
    "ukrainian_movies.show()"
   ]
  },
  {
   "cell_type": "markdown",
   "metadata": {},
   "source": [
    "Query 5 кореляція між тривалістю часу фільму та рейтингу"
   ]
  },
  {
   "cell_type": "code",
   "execution_count": 18,
   "metadata": {},
   "outputs": [
    {
     "name": "stdout",
     "output_type": "stream",
     "text": [
      "+--------------------------------------+\n",
      "|correlation between runtime and rating|\n",
      "+--------------------------------------+\n",
      "|                  -0.08445068074891153|\n",
      "+--------------------------------------+\n",
      "\n"
     ]
    }
   ],
   "source": [
    "joined = rating.join(title_basic, rating['tconst'] == title_basic['tconst'], 'inner')\n",
    "\n",
    "duration_rating_data = joined.select(\"runtimeMinutes\", \"averageRating\")\n",
    "\n",
    "# Видалення рядків з null значеннями в обраних стовпцях\n",
    "duration_rating_data = duration_rating_data.na.drop()\n",
    "\n",
    "# Визначення кореляції між тривалістю та рейтингом\n",
    "correlation_result = duration_rating_data.select(corr(\"runtimeMinutes\", \"averageRating\").alias(\"correlation between runtime and rating\"))\n",
    "\n",
    "# Виведення результату\n",
    "correlation_result.show()"
   ]
  },
  {
   "cell_type": "markdown",
   "metadata": {},
   "source": [
    "Query 6 кількість дубльованих фільмів та серіалів німецькою мовою від 2000 року"
   ]
  },
  {
   "cell_type": "code",
   "execution_count": 26,
   "metadata": {},
   "outputs": [
    {
     "name": "stdout",
     "output_type": "stream",
     "text": [
      "+---------+----------+\n",
      "|startYear|num_movies|\n",
      "+---------+----------+\n",
      "|     2001|     51567|\n",
      "|     2002|     50893|\n",
      "|     2003|     57100|\n",
      "|     2004|     64936|\n",
      "|     2005|     68476|\n",
      "|     2006|     70574|\n",
      "|     2007|     78683|\n",
      "|     2008|     83235|\n",
      "|     2009|     82572|\n",
      "|     2010|     93762|\n",
      "|     2011|    101204|\n",
      "|     2012|    106053|\n",
      "|     2013|    112661|\n",
      "|     2014|    115373|\n",
      "|     2015|    120348|\n",
      "|     2016|    118640|\n",
      "|     2017|    126078|\n",
      "|     2018|    126347|\n",
      "|     2019|    121363|\n",
      "|     2020|    105830|\n",
      "+---------+----------+\n",
      "only showing top 20 rows\n",
      "\n"
     ]
    }
   ],
   "source": [
    "german_movies = (\n",
    "    title_akas\n",
    "    .filter(col(\"language\") == \"de\")\n",
    "    .join(title_basic, title_akas['titleId'] == title_basic['tconst'], 'inner')\n",
    "    .filter(col(\"startYear\") > 2000)\n",
    ")\n",
    "\n",
    "# Групування та агрегація за роком\n",
    "german_movies_by_year = (\n",
    "    german_movies\n",
    "    .groupBy(\"startYear\")\n",
    "    .count()\n",
    "    .withColumnRenamed(\"count\", \"num_movies\")\n",
    "    .orderBy(\"startYear\")\n",
    ")\n",
    "\n",
    "# Виведення результату\n",
    "german_movies_by_year.show()"
   ]
  }
 ],
 "metadata": {
  "kernelspec": {
   "display_name": "venv",
   "language": "python",
   "name": "python3"
  },
  "language_info": {
   "codemirror_mode": {
    "name": "ipython",
    "version": 3
   },
   "file_extension": ".py",
   "mimetype": "text/x-python",
   "name": "python",
   "nbconvert_exporter": "python",
   "pygments_lexer": "ipython3",
   "version": "3.11.6"
  }
 },
 "nbformat": 4,
 "nbformat_minor": 2
}
