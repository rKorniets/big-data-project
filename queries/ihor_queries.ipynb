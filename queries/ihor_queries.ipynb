{
 "cells": [
  {
   "cell_type": "code",
   "execution_count": 1,
   "id": "initial_id",
   "metadata": {
    "ExecuteTime": {
     "end_time": "2023-12-09T17:10:50.142043900Z",
     "start_time": "2023-12-09T17:10:49.899296700Z"
    },
    "collapsed": true
   },
   "outputs": [
    {
     "name": "stdout",
     "output_type": "stream",
     "text": [
      "D:\\big-data-project\n"
     ]
    }
   ],
   "source": [
    "import sys\n",
    "import os\n",
    "\n",
    "\n",
    "from pyspark import SparkConf\n",
    "from pyspark.sql import SparkSession, Window\n",
    "import pyspark.sql.types as t\n",
    "from pyspark.sql.types import StructType, StructField, StringType, IntegerType\n",
    "from pyspark.sql.functions import col, rand, split, explode, regexp_replace, corr, desc, row_number, percent_rank, array_contains, rank\n",
    "\n",
    "from schemas.dataframes import get_episode_df, get_ratings_df, get_name_df, get_principals_df, get_crew_df, get_akas_df, get_basics_df"
   ]
  },
  {
   "cell_type": "code",
   "execution_count": 2,
   "id": "d534078c2dcf0416",
   "metadata": {
    "ExecuteTime": {
     "end_time": "2023-12-09T17:10:54.808443300Z",
     "start_time": "2023-12-09T17:10:51.434714600Z"
    },
    "collapsed": false
   },
   "outputs": [],
   "source": [
    "spark_session = (SparkSession.builder\n",
    "                             .master('local')\n",
    "                             .appName('IMDB')\n",
    "                             .config(conf=SparkConf())\n",
    "                             .getOrCreate())"
   ]
  },
  {
   "cell_type": "code",
   "execution_count": 3,
   "id": "315a5e76b984a35b",
   "metadata": {
    "ExecuteTime": {
     "end_time": "2023-12-09T17:10:58.069902200Z",
     "start_time": "2023-12-09T17:10:55.826003200Z"
    },
    "collapsed": false
   },
   "outputs": [],
   "source": [
    "episode_df = get_episode_df(spark_session)\n",
    "ratings_df = get_ratings_df(spark_session)\n",
    "name_df = get_name_df(spark_session)\n",
    "principals_df = get_principals_df(spark_session)\n",
    "crew_df = get_crew_df(spark_session)\n",
    "akas_df = get_akas_df(spark_session)\n",
    "basics_df = get_basics_df(spark_session)"
   ]
  },
  {
   "cell_type": "markdown",
   "id": "9debc729afc73553",
   "metadata": {
    "collapsed": false
   },
   "source": [
    "## 1) Топ 20 найпопулярніших анімаційних серіалів 2000+ року"
   ]
  },
  {
   "cell_type": "code",
   "execution_count": 11,
   "id": "6c31f0e372901628",
   "metadata": {
    "ExecuteTime": {
     "end_time": "2023-12-09T18:15:26.758045500Z",
     "start_time": "2023-12-09T18:15:04.812306200Z"
    },
    "collapsed": false
   },
   "outputs": [
    {
     "name": "stdout",
     "output_type": "stream",
     "text": [
      "+----------+---------+--------------------+--------------------+-------+---------+-------+--------------+--------------------+----------+-------------+--------+\n",
      "|    tconst|titleType|        primaryTitle|       originalTitle|isAdult|startYear|endYear|runtimeMinutes|              genres|    tconst|averageRating|numVotes|\n",
      "+----------+---------+--------------------+--------------------+-------+---------+-------+--------------+--------------------+----------+-------------+--------+\n",
      "| tt0417299| tvSeries|Avatar: The Last ...|Avatar: The Last ...|   NULL|     2005|   2008|            23|[Action, Adventur...| tt0417299|          9.3|  348406|\n",
      "| tt2560140| tvSeries|     Attack on Titan|  Shingeki no Kyojin|   NULL|     2013|   2023|            24|[Action, Adventur...| tt2560140|          9.1|  473468|\n",
      "| tt2861424| tvSeries|      Rick and Morty|      Rick and Morty|   NULL|     2013|   NULL|            23|[Adventure, Anima...| tt2861424|          9.1|  579498|\n",
      "| tt1355642| tvSeries|Fullmetal Alchemi...|Hagane no renkinj...|   NULL|     2009|   2010|            24|[Action, Adventur...| tt1355642|          9.1|  190417|\n",
      "| tt2098220| tvSeries|     Hunter x Hunter|     Hunter x Hunter|   NULL|     2011|   2014|            24|[Action, Adventur...| tt2098220|          9.0|  125032|\n",
      "| tt1865718| tvSeries|       Gravity Falls|       Gravity Falls|   NULL|     2012|   2016|            23|[Adventure, Anima...| tt1865718|          8.9|  128330|\n",
      "| tt1910272| tvSeries|         Steins;Gate|         Steins;Gate|   NULL|     2011|   2015|            24|[Animation, Comed...| tt1910272|          8.8|   70582|\n",
      "| tt4508902| tvSeries|       One Punch Man|One Punch Man: Wa...|   NULL|     2015|   2019|            24|[Action, Animatio...| tt4508902|          8.7|  180321|\n",
      "| tt0994314| tvSeries|          Code Geass|Code Geass: Hangy...|   NULL|     2006|   2008|            24|[Action, Animatio...| tt0994314|          8.7|   77162|\n",
      "| tt0988824| tvSeries|   Naruto: Shippuden|   Naruto: Shippûden|   NULL|     2007|   2017|            24|[Action, Adventur...| tt0988824|          8.7|  151556|\n",
      "| tt1486217| tvSeries|              Archer|              Archer|   NULL|     2009|   2023|            22|[Action, Animatio...| tt1486217|          8.6|  162968|\n",
      "| tt1305826| tvSeries|      Adventure Time|      Adventure Time|   NULL|     2010|   2018|            11|[Action, Adventur...| tt1305826|          8.6|  108097|\n",
      "| tt9335498| tvSeries|Demon Slayer: Kim...|    Kimetsu no Yaiba|   NULL|     2019|   NULL|            24|[Action, Adventur...| tt9335498|          8.6|  137199|\n",
      "|tt12343534| tvSeries|      Jujutsu Kaisen|      Jujutsu Kaisen|   NULL|     2020|   NULL|            24|[Action, Adventur...|tt12343534|          8.6|   95136|\n",
      "| tt0421357| tvSeries| Fullmetal Alchemist|Hagane no renkinj...|   NULL|     2003|   2004|            24|[Action, Adventur...| tt0421357|          8.5|   75820|\n",
      "| tt0409591| tvSeries|              Naruto|              Naruto|   NULL|     2002|   2007|            24|[Action, Adventur...| tt0409591|          8.4|  120987|\n",
      "| tt1695360| tvSeries| The Legend of Korra| The Legend of Korra|   NULL|     2012|   2014|            23|[Action, Adventur...| tt1695360|          8.4|  131495|\n",
      "| tt0458290| tvSeries|Star Wars: The Cl...|Star Wars: The Cl...|   NULL|     2008|   2020|            23|[Action, Adventur...| tt0458290|          8.4|  115725|\n",
      "| tt9561862| tvSeries|Love, Death & Robots|Love, Death & Robots|   NULL|     2019|   NULL|            15|[Action, Adventur...| tt9561862|          8.4|  188518|\n",
      "| tt5626028| tvSeries|    My Hero Academia|Boku no hîrô akad...|   NULL|     2016|   NULL|            24|[Action, Adventur...| tt5626028|          8.3|   74609|\n",
      "+----------+---------+--------------------+--------------------+-------+---------+-------+--------------+--------------------+----------+-------------+--------+\n"
     ]
    }
   ],
   "source": [
    "most_popular_animes = (basics_df\n",
    "                  .filter(basics_df.startYear >= 2000)\n",
    "                  .filter(array_contains(basics_df.genres, 'Animation'))\n",
    "                  .filter(basics_df.titleType == 'tvSeries')\n",
    "                  .join(ratings_df, ratings_df.tconst == basics_df.tconst)\n",
    "                  .filter(ratings_df.numVotes > 70000)\n",
    "                  .filter(basics_df.runtimeMinutes < 30)\n",
    "                  .sort(col('averageRating').desc())\n",
    "                  .limit(20))\n",
    "\n",
    "most_popular_animes.show()"
   ]
  },
  {
   "cell_type": "markdown",
   "id": "43b348307b609134",
   "metadata": {
    "collapsed": false
   },
   "source": [
    "## 2) Найпопулярніші анімаційні серіали по рокам"
   ]
  },
  {
   "cell_type": "code",
   "execution_count": 15,
   "id": "a14a1065719b16da",
   "metadata": {
    "ExecuteTime": {
     "end_time": "2023-12-09T18:30:49.603599300Z",
     "start_time": "2023-12-09T18:30:30.028163200Z"
    },
    "collapsed": false
   },
   "outputs": [
    {
     "name": "stdout",
     "output_type": "stream",
     "text": [
      "+--------------------+---------+-------------+--------+----+\n",
      "|        primaryTitle|startYear|averageRating|numVotes|rank|\n",
      "+--------------------+---------+-------------+--------+----+\n",
      "|      Justice League|     2001|          8.6|   50429|   1|\n",
      "|              Naruto|     2002|          8.4|  120987|   1|\n",
      "| Fullmetal Alchemist|     2003|          8.5|   75820|   1|\n",
      "|             Monster|     2004|          8.7|   40816|   1|\n",
      "|Avatar: The Last ...|     2005|          9.3|  348406|   1|\n",
      "|          Code Geass|     2006|          8.7|   77162|   1|\n",
      "|   Naruto: Shippuden|     2007|          8.7|  151556|   1|\n",
      "|Star Wars: The Cl...|     2008|          8.4|  115725|   1|\n",
      "|Fullmetal Alchemi...|     2009|          9.1|  190417|   1|\n",
      "|      Adventure Time|     2010|          8.6|  108097|   1|\n",
      "|       Young Justice|     2010|          8.6|   44493|   1|\n",
      "|     Hunter x Hunter|     2011|          9.0|  125032|   1|\n",
      "|       Gravity Falls|     2012|          8.9|  128330|   1|\n",
      "|     Attack on Titan|     2013|          9.1|  473468|   1|\n",
      "|      Rick and Morty|     2013|          9.1|  579498|   1|\n",
      "|            Haikyu!!|     2014|          8.7|   32734|   1|\n",
      "|       One Punch Man|     2015|          8.7|  180321|   1|\n",
      "|      Mob Psycho 100|     2016|          8.6|   41840|   1|\n",
      "|        Black Clover|     2017|          8.3|   32379|   1|\n",
      "|         Castlevania|     2017|          8.3|   77024|   1|\n",
      "+--------------------+---------+-------------+--------+----+\n"
     ]
    }
   ],
   "source": [
    "filtered_basics_df = (basics_df\n",
    "                  .filter(basics_df.startYear >= 2000)\n",
    "                  .filter(array_contains(basics_df.genres, 'Animation'))\n",
    "                  .filter(basics_df.titleType == 'tvSeries')\n",
    "                  .join(ratings_df, ratings_df.tconst == basics_df.tconst)\n",
    "                  .filter(ratings_df.numVotes > 30000)\n",
    "                  .filter(basics_df.runtimeMinutes < 30)\n",
    "                  .select('primaryTitle', 'startYear', 'averageRating', 'numVotes'))\n",
    "\n",
    "\n",
    "window_spec = Window.partitionBy(\"startYear\").orderBy(col(\"averageRating\").desc())\n",
    "ranked_df = filtered_basics_df.withColumn(\"rank\", rank().over(window_spec))\n",
    "\n",
    "most_popular_animeseries_yearly_df = ranked_df.filter(col(\"rank\") == 1)\n",
    "most_popular_animeseries_yearly_df.show()"
   ]
  },
  {
   "cell_type": "markdown",
   "id": "dc3143a87c141ece",
   "metadata": {
    "collapsed": false
   },
   "source": [
    "## 3) Фільми, що дубльовані українською, але не дубльовані російською"
   ]
  },
  {
   "cell_type": "code",
   "execution_count": 9,
   "id": "2e9d5a9c382514ee",
   "metadata": {
    "ExecuteTime": {
     "end_time": "2023-12-09T14:01:45.303012700Z",
     "start_time": "2023-12-09T14:00:40.803067600Z"
    },
    "collapsed": false
   },
   "outputs": [
    {
     "name": "stdout",
     "output_type": "stream",
     "text": [
      "+---------+--------+-------------------+------+--------+-------------+--------------------+---------------+---------+---------+--------------------+--------------------+-------+---------+-------+--------------+--------------------+\n",
      "|  titleId|ordering|              title|region|language|        types|          attributes|isOriginalTitle|   tconst|titleType|        primaryTitle|       originalTitle|isAdult|startYear|endYear|runtimeMinutes|              genres|\n",
      "+---------+--------+-------------------+------+--------+-------------+--------------------+---------------+---------+---------+--------------------+--------------------+-------+---------+-------+--------------+--------------------+\n",
      "|tt0021035|       5|Квартали передмістя|  SUHH|      uk|[imdbDisplay]|                [\\N]|          false|tt0021035|    movie|  Suburban Districts|Kvartaly peredmistia|   NULL|     1930|   NULL|            60|                [\\N]|\n",
      "|tt0130223|       5|         Ridna krov|  SUHH|      uk|         [\\N]|[transliterated t...|          false|tt0130223|    movie|        Rodnaya krov|        Rodnaya krov|   NULL|     1964|   NULL|            83|        [Drama, War]|\n",
      "|tt0130223|       4|         Рідна кров|  SUHH|      uk|[imdbDisplay]|                [\\N]|          false|tt0130223|    movie|        Rodnaya krov|        Rodnaya krov|   NULL|     1964|   NULL|            83|        [Drama, War]|\n",
      "|tt0110357|      39|         Король Лев|    UA|      uk|[imdbDisplay]|                [\\N]|          false|tt0110357|    movie|       The Lion King|       The Lion King|   NULL|     1994|   NULL|            88|[Adventure, Anima...|\n",
      "|tt0245203|       2|      Кіра Кіраліна|  SUHH|      uk|[imdbDisplay]|                [\\N]|          false|tt0245203|    movie|       Kira Kiralina|       Kira Kiralina|   NULL|     1928|   NULL|            86|             [Drama]|\n",
      "|tt0245203|      10|      Двічі продана|  SUHH|      uk|[alternative]|                [\\N]|          false|tt0245203|    movie|       Kira Kiralina|       Kira Kiralina|   NULL|     1928|   NULL|            86|             [Drama]|\n",
      "|tt0128378|      11|     Вогнем i мечем|    UA|      uk|[imdbDisplay]|                [\\N]|          false|tt0128378|    movie| With Fire and Sword|    Ogniem i mieczem|   NULL|     1999|   NULL|           175|[Adventure, Drama...|\n",
      "|tt0085253|      18|       Кривава лють|  SUHH|      uk|[imdbDisplay]|                [\\N]|          false|tt0085253|    movie|          Blood Rage|          Blood Rage|   NULL|     1987|   NULL|            82|            [Horror]|\n",
      "|tt0014435|       1|         Через Розу|  SUHH|      uk|[imdbDisplay]|                [\\N]|          false|tt0014435|    movie| Sarati the Terrible| Sarati, le terrible|   NULL|     1923|   NULL|          NULL|                [\\N]|\n",
      "|tt0018552|      10|              Ткачі|  SUHH|      uk|[imdbDisplay]|                [\\N]|          false|tt0018552|    movie|           Die Weber|           Die Weber|   NULL|     1927|   NULL|            93|             [Drama]|\n",
      "|tt0012390|       2|             Ліліан|  SUHH|      uk|[imdbDisplay]|                [\\N]|          false|tt0012390|    movie|              Lilian|              Lilian|   NULL|     1923|   NULL|          NULL|                [\\N]|\n",
      "|tt0199495|       5|      Дитина базару|  SUHH|      uk|[imdbDisplay]|                [\\N]|          false|tt0199495|    movie| L'enfant des halles| L'enfant des halles|   NULL|     1924|   NULL|          NULL|                [\\N]|\n",
      "|tt0199495|       3|      Dytyna bazaru|  SUHH|      uk|         [\\N]|[transliterated t...|          false|tt0199495|    movie| L'enfant des halles| L'enfant des halles|   NULL|     1924|   NULL|          NULL|                [\\N]|\n",
      "|tt0012214|       7|             Привид|  SUHH|      uk|[imdbDisplay]|                [\\N]|          false|tt0012214|    movie|The Ghost in the ...|The Ghost in the ...|   NULL|     1921|   NULL|            50|            [Comedy]|\n",
      "|tt0019395|       7|       Крізь сльози|  SUHH|      uk|[imdbDisplay]|                [\\N]|          false|tt0019395|    movie|        Skvoz slyozy|        Skvoz slyozy|   NULL|     1928|   NULL|            95|            [Comedy]|\n",
      "|tt0087650|      11|     Любов і голуби|  SUHH|      uk|[imdbDisplay]|                [\\N]|          false|tt0087650|    movie|      Love and Doves|     Lyubov i golubi|   NULL|     1985|   NULL|           107|[Comedy, Drama, R...|\n",
      "|tt0155858|       8|    Марія, Мірабела|  SUHH|      uk|[imdbDisplay]|                [\\N]|          false|tt0155858|    movie|    Maria, Mirabella|    Maria, Mirabella|   NULL|     1981|   NULL|            69|[Animation, Comed...|\n",
      "|tt0021571|       2|              Земля|  SUHH|      uk|[imdbDisplay]|                [\\N]|          false|tt0021571|    movie|               Earth|              Zemlya|   NULL|     1930|   NULL|            75|             [Drama]|\n",
      "|tt0321545|       5|       Бухта смерті|  SUHH|      uk|[imdbDisplay]|                [\\N]|          false|tt0321545|    movie|    The Bay of Death|       Bukhta smerti|   NULL|     1991|   NULL|           127|[Action, Crime, M...|\n",
      "|tt0245375|       9|          Філантроп|  SUHH|      uk|[alternative]|                [\\N]|          false|tt0245375|    movie|The Sale of an Ap...|   Prodannyy appetit|   NULL|     1928|   NULL|          NULL|            [Comedy]|\n",
      "+---------+--------+-------------------+------+--------+-------------+--------------------+---------------+---------+---------+--------------------+--------------------+-------+---------+-------+--------------+--------------------+\n"
     ]
    }
   ],
   "source": [
    "filtered_movies = (\n",
    "    akas_df\n",
    "    .join(basics_df, akas_df.titleId == basics_df.tconst, 'inner')\n",
    "    .filter(basics_df.titleType == 'movie')\n",
    "    .filter(akas_df.language == 'uk')\n",
    "    .filter(~((col(\"language\") == 'ru') & (col(\"region\") == 'RU')))\n",
    "    .limit(20)\n",
    ")\n",
    "\n",
    "# Show the result\n",
    "filtered_movies.show()"
   ]
  },
  {
   "cell_type": "markdown",
   "id": "81c031b4cc8d4401",
   "metadata": {
    "collapsed": false
   },
   "source": [
    "## 4) 25 Найдовших аніме"
   ]
  },
  {
   "cell_type": "code",
   "execution_count": 10,
   "id": "4d30e29ac363cb10",
   "metadata": {
    "ExecuteTime": {
     "end_time": "2023-12-09T17:36:50.689679400Z",
     "start_time": "2023-12-09T17:36:05.126902800Z"
    },
    "collapsed": false
   },
   "outputs": [
    {
     "name": "stdout",
     "output_type": "stream",
     "text": [
      "+---------+--------------------+--------------+-------------+------------+----+\n",
      "|   tconst|        primaryTitle|runtimeMinutes|totalEpisodes|totalMinutes|rank|\n",
      "+---------+--------------------+--------------+-------------+------------+----+\n",
      "|tt0988824|   Naruto: Shippuden|            24|          500|       12000|   1|\n",
      "|tt0434665|              Bleach|            24|          383|        9192|   2|\n",
      "|tt0397306|       American Dad!|            22|          366|        8052|   3|\n",
      "|tt1561755|       Bob's Burgers|            22|          271|        5962|   4|\n",
      "|tt1710308|        Regular Show|            23|          246|        5658|   5|\n",
      "|tt0409591|              Naruto|            24|          220|        5280|   6|\n",
      "|tt2359704|JoJo's Bizarre Ad...|            24|          190|        4560|   7|\n",
      "|tt7441658|        Black Clover|            24|          170|        4080|   8|\n",
      "|tt2098220|     Hunter x Hunter|            24|          148|        3552|   9|\n",
      "|tt5626028|    My Hero Academia|            24|          138|        3312|  10|\n",
      "|tt1486217|              Archer|            22|          143|        3146|  11|\n",
      "|tt4644488|   Dragon Ball Super|            24|          131|        3144|  12|\n",
      "|tt1305826|      Adventure Time|            11|          279|        3069|  13|\n",
      "|tt0458290|Star Wars: The Cl...|            23|          133|        3059|  14|\n",
      "|tt1942683|The Amazing World...|            11|          241|        2651|  15|\n",
      "|tt0437745|       Robot Chicken|            11|          224|        2464|  16|\n",
      "|tt3909224|The Seven Deadly ...|            24|          100|        2400|  17|\n",
      "|tt2250192|    Sword Art Online|            24|           98|        2352|  18|\n",
      "|tt1641384|       Young Justice|            23|           98|        2254|  19|\n",
      "|tt2560140|     Attack on Titan|            24|           89|        2136|  20|\n",
      "+---------+--------------------+--------------+-------------+------------+----+\n"
     ]
    }
   ],
   "source": [
    "window = Window.orderBy(desc('totalMinutes'))\n",
    "\n",
    "anime_with_ratings_and_episodes = (\n",
    "    basics_df\n",
    "    .filter(basics_df.startYear >= 2000)\n",
    "    .filter(array_contains(basics_df.genres, 'Animation'))\n",
    "    .filter(basics_df.titleType == 'tvSeries')\n",
    "    .filter(basics_df.runtimeMinutes < 30)\n",
    "    .join(\n",
    "        ratings_df,\n",
    "        ratings_df.tconst == basics_df.tconst,\n",
    "        'inner'\n",
    "    )\n",
    "    .filter(ratings_df.numVotes > 30000)\n",
    "    .join(\n",
    "        episode_df,\n",
    "        episode_df.parentTconst == basics_df.tconst,\n",
    "        'left_outer'\n",
    "    )\n",
    "    .groupBy(basics_df.tconst, basics_df.primaryTitle, episode_df.seasonNumber, basics_df.runtimeMinutes)\n",
    "        .agg({'episodeNumber': 'max'})\n",
    "        .withColumnRenamed('max(episodeNumber)', 'maxEpisodeNumber')\n",
    "    .groupBy(basics_df.tconst, basics_df.primaryTitle, basics_df.runtimeMinutes)\n",
    "        .agg({'maxEpisodeNumber': 'sum'})\n",
    "        .withColumnRenamed('sum(maxEpisodeNumber)', 'totalEpisodes')\n",
    "    .withColumn('totalMinutes', col('totalEpisodes') * col('runtimeMinutes'))\n",
    "    .orderBy(col('totalMinutes').desc())\n",
    "    .limit(17)\n",
    "    .withColumn('rank', row_number().over(window))\n",
    ")\n",
    "\n",
    "anime_with_ratings_and_episodes.show()"
   ]
  },
  {
   "cell_type": "markdown",
   "id": "9cf8f4a1e0da34f7",
   "metadata": {
    "collapsed": false
   },
   "source": [
    "## 5) Аніме, top-5 продубльовані українською"
   ]
  },
  {
   "cell_type": "code",
   "execution_count": 56,
   "id": "455763fbf2adaff5",
   "metadata": {
    "ExecuteTime": {
     "end_time": "2023-12-09T16:48:46.121543800Z",
     "start_time": "2023-12-09T16:47:46.409749500Z"
    },
    "collapsed": false
   },
   "outputs": [
    {
     "name": "stdout",
     "output_type": "stream",
     "text": [
      "+---------+--------------------+--------------------+---------+--------------------+\n",
      "|titleType|        primaryTitle|       originalTitle|startYear|               title|\n",
      "+---------+--------------------+--------------------+---------+--------------------+\n",
      "| tvSeries|        The Simpsons|        The Simpsons|     1989|            Сімпсони|\n",
      "| tvSeries|            Doraemon|            Doraemon|     1979|            Дораемон|\n",
      "| tvSeries|            Doraemon|            Doraemon|     1973|            Дораемон|\n",
      "| tvSeries|The Tom and Jerry...|The New Adventure...|     1980|Том і Джеррі. Ком...|\n",
      "| tvSeries|The Adventures of...|Priklyucheniya Ne...|     1971|Пригоди Незнайка ...|\n",
      "+---------+--------------------+--------------------+---------+--------------------+\n"
     ]
    }
   ],
   "source": [
    "animes_uk_dub = (basics_df\n",
    "                  .filter(array_contains(basics_df.genres, 'Animation'))\n",
    "                  .filter(basics_df.titleType == 'tvSeries')\n",
    "                  .join(ratings_df, ratings_df.tconst == basics_df.tconst)\n",
    "                  .filter(ratings_df.numVotes > 10)\n",
    "                  .join(akas_df, akas_df.titleId == basics_df.tconst, 'inner')\n",
    "                  .filter(akas_df.language == 'uk')\n",
    "                  .orderBy(col('averageRating').desc())\n",
    "                  .select('titleType', 'primaryTitle', 'originalTitle', 'startYear', 'title')\n",
    "                  .limit(5))\n",
    "\n",
    "animes_uk_dub.show()"
   ]
  },
  {
   "cell_type": "markdown",
   "id": "2c7331b18f051e2",
   "metadata": {
    "collapsed": false
   },
   "source": [
    "## 6) Топ-4 фільми з участю Біллі Херрінгтона"
   ]
  },
  {
   "cell_type": "code",
   "execution_count": 9,
   "id": "4e86bdda7bc9d1f9",
   "metadata": {
    "ExecuteTime": {
     "end_time": "2023-12-09T17:34:22.875352900Z",
     "start_time": "2023-12-09T17:33:29.010358400Z"
    },
    "collapsed": false
   },
   "outputs": [
    {
     "name": "stdout",
     "output_type": "stream",
     "text": [
      "+----------------+--------------------+---------+--------------------+-------------+\n",
      "|     primaryName|        primaryTitle|startYear|              genres|averageRating|\n",
      "+----------------+--------------------+---------+--------------------+-------------+\n",
      "|Billy Herrington|Playing with Fire...|     2000|[Adult, Crime, Dr...|          9.9|\n",
      "|Billy Herrington|           Body Shop|     1999|             [Adult]|          8.9|\n",
      "|Billy Herrington|           Conquered|     2001|             [Adult]|          8.4|\n",
      "|Billy Herrington|     HotMen CoolBoyz|     2000|             [Adult]|          6.9|\n",
      "+----------------+--------------------+---------+--------------------+-------------+\n"
     ]
    }
   ],
   "source": [
    "billy_df = (name_df\n",
    "                   .filter(name_df.primaryName == 'Billy Herrington')\n",
    "                   .select('nconst', 'primaryName', 'birthYear', explode('knownForTitles').alias('filmId'))\n",
    "                   .join(basics_df, basics_df.tconst == col('filmId'))\n",
    "                   .join(ratings_df, ratings_df.tconst == basics_df.tconst)\n",
    "                   .sort(desc(col('averageRating')))\n",
    "                   .select('primaryName', 'primaryTitle', 'startYear', 'genres', 'averageRating')\n",
    "                   .orderBy(desc('averageRating'))\n",
    "                   .limit(4))\n",
    "\n",
    "billy_df.show()"
   ]
  }
 ],
 "metadata": {
  "kernelspec": {
   "display_name": "Python 3",
   "language": "python",
   "name": "python3"
  },
  "language_info": {
   "codemirror_mode": {
    "name": "ipython",
    "version": 2
   },
   "file_extension": ".py",
   "mimetype": "text/x-python",
   "name": "python",
   "nbconvert_exporter": "python",
   "pygments_lexer": "ipython2",
   "version": "2.7.6"
  }
 },
 "nbformat": 4,
 "nbformat_minor": 5
}
