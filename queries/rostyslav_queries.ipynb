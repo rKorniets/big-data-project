{
 "cells": [
  {
   "cell_type": "code",
   "execution_count": 33,
   "id": "initial_id",
   "metadata": {
    "collapsed": true,
    "ExecuteTime": {
     "end_time": "2023-12-09T19:47:36.276080700Z",
     "start_time": "2023-12-09T19:47:36.254076400Z"
    }
   },
   "outputs": [],
   "source": [
    "import sys\n",
    "import os\n",
    "\n",
    "\n",
    "from pyspark import SparkConf\n",
    "from pyspark.sql import SparkSession, Window\n",
    "import pyspark.sql.types as t\n",
    "from pyspark.sql.types import StructType, StructField, StringType, IntegerType\n",
    "from pyspark.sql.functions import col, rand, split, explode, regexp_replace, corr, desc, row_number, percent_rank, lead, \\\n",
    "    lag\n",
    "\n",
    "from schemas.dataframes import get_episode_df, get_ratings_df, get_name_df, get_principals_df, get_crew_df, get_akas_df, get_basics_df"
   ]
  },
  {
   "cell_type": "code",
   "execution_count": 2,
   "outputs": [],
   "source": [
    "spark_session = (SparkSession.builder\n",
    "                             .master('local')\n",
    "                             .appName('IMDB')\n",
    "                             .config(conf=SparkConf())\n",
    "                             .getOrCreate())"
   ],
   "metadata": {
    "collapsed": false,
    "ExecuteTime": {
     "end_time": "2023-12-09T17:31:39.918202Z",
     "start_time": "2023-12-09T17:31:29.410299Z"
    }
   },
   "id": "d534078c2dcf0416"
  },
  {
   "cell_type": "code",
   "execution_count": 3,
   "outputs": [],
   "source": [
    "episode_df = get_episode_df(spark_session)\n",
    "ratings_df = get_ratings_df(spark_session)\n",
    "name_df = get_name_df(spark_session)\n",
    "principals_df = get_principals_df(spark_session)\n",
    "crew_df = get_crew_df(spark_session)\n",
    "akas_df = get_akas_df(spark_session)\n",
    "basics_df = get_basics_df(spark_session)"
   ],
   "metadata": {
    "collapsed": false,
    "ExecuteTime": {
     "end_time": "2023-12-09T17:31:42.279200800Z",
     "start_time": "2023-12-09T17:31:39.919202700Z"
    }
   },
   "id": "315a5e76b984a35b"
  },
  {
   "cell_type": "markdown",
   "source": [],
   "metadata": {
    "collapsed": false
   },
   "id": "e332812fbb60d73d"
  },
  {
   "cell_type": "markdown",
   "source": [
    "## 1) 20 фільмів українською мовою з найвищим рейтингом"
   ],
   "metadata": {
    "collapsed": false
   },
   "id": "81c031b4cc8d4401"
  },
  {
   "cell_type": "code",
   "execution_count": 18,
   "outputs": [
    {
     "name": "stdout",
     "output_type": "stream",
     "text": [
      "+---------+--------+-------------------------------------------------------------+------+--------+-------------+----------+---------------+---------+-------------+--------+\n",
      "|titleId  |ordering|title                                                        |region|language|types        |attributes|isOriginalTitle|tconst   |averageRating|numVotes|\n",
      "+---------+--------+-------------------------------------------------------------+------+--------+-------------+----------+---------------+---------+-------------+--------+\n",
      "|tt0069628|6       |Сімнадцять миттєвостей весни                                 |SUHH  |uk      |[imdbDisplay]|[\\N]      |false          |tt0069628|8.8          |4833    |\n",
      "|tt0096697|67      |Сімпсони                                                     |SUHH  |uk      |[imdbDisplay]|[\\N]      |false          |tt0096697|8.7          |427311  |\n",
      "|tt0078655|12      |Місце зустрічі змінити не можна                              |SUHH  |uk      |[imdbDisplay]|[\\N]      |false          |tt0078655|8.7          |4928    |\n",
      "|tt0096126|5       |Собаче серце                                                 |SUHH  |uk      |[imdbDisplay]|[\\N]      |false          |tt0096126|8.6          |8702    |\n",
      "|tt0059550|15      |Операція 'И' та інші пригоди Шуріка                          |SUHH  |uk      |[imdbDisplay]|[\\N]      |false          |tt0059550|8.5          |14373   |\n",
      "|tt0110357|39      |Король Лев                                                   |UA    |uk      |[imdbDisplay]|[\\N]      |false          |tt0110357|8.5          |1113480 |\n",
      "|tt0083100|2       |Пригоди Шерлока Холмса та доктора Ватсона: Собака Баскервілей|SUHH  |uk      |[imdbDisplay]|[\\N]      |false          |tt0083100|8.5          |6339    |\n",
      "|tt0068519|7       |Джентльмени удачі                                            |SUHH  |uk      |[imdbDisplay]|[\\N]      |false          |tt0068519|8.4          |12481   |\n",
      "|tt0060584|5       |Кавказька полонянка, або Нові пригоди Шурика                 |SUHH  |uk      |[imdbDisplay]|[\\N]      |false          |tt0060584|8.3          |13121   |\n",
      "|tt0175075|10      |Пропала грамота                                              |SUHH  |uk      |[imdbDisplay]|[\\N]      |false          |tt0175075|8.3          |1266    |\n",
      "|tt0062759|6       |Діамантова рука                                              |SUHH  |uk      |[imdbDisplay]|[\\N]      |false          |tt0062759|8.3          |15794   |\n",
      "|tt0019760|25      |Людина з кіно-апаратом                                       |SUHH  |uk      |[imdbDisplay]|[\\N]      |false          |tt0019760|8.3          |27298   |\n",
      "|tt0076727|12      |Службовий роман                                              |SUHH  |uk      |[imdbDisplay]|[\\N]      |false          |tt0076727|8.2          |10037   |\n",
      "|tt4691334|4       |Енеїда                                                       |SUHH  |uk      |[imdbDisplay]|[\\N]      |false          |tt4691334|8.2          |208     |\n",
      "|tt0070233|10      |Іван Васильович змінює професію                              |SUHH  |uk      |[imdbDisplay]|[\\N]      |false          |tt0070233|8.2          |17888   |\n",
      "|tt0122227|2       |Острів скарбів                                               |SUHH  |uk      |[imdbDisplay]|[\\N]      |false          |tt0122227|8.2          |4107    |\n",
      "|tt0070861|14      |В бій ідуть тільки 'старики'                                 |SUHH  |uk      |[imdbDisplay]|[\\N]      |false          |tt0070861|8.2          |5626    |\n",
      "|tt0065670|14      |12 стільців                                                  |SUHH  |uk      |[imdbDisplay]|[\\N]      |false          |tt0065670|8.2          |7057    |\n",
      "|tt0075468|10      |12 стільців                                                  |SUHH  |uk      |[imdbDisplay]|[\\N]      |false          |tt0075468|8.2          |5101    |\n",
      "|tt5108294|6       |Як Петрик П'яточкин слоників рахував                         |SUHH  |uk      |[imdbDisplay]|[\\N]      |false          |tt5108294|8.1          |102     |\n",
      "+---------+--------+-------------------------------------------------------------+------+--------+-------------+----------+---------------+---------+-------------+--------+\n"
     ]
    }
   ],
   "source": [
    "ukraine_akas_df = (akas_df\n",
    "                   .filter((akas_df.language == 'uk') & (akas_df.types[0] == 'imdbDisplay'))\n",
    "                   .join(ratings_df, ratings_df.tconst == akas_df.titleId)\n",
    "                   .filter(ratings_df.numVotes > 100)\n",
    "                   .sort(col('averageRating').desc())\n",
    "                   .limit(20)\n",
    "                   )\n",
    "\n",
    "ukraine_akas_df.show(100, False)\n"
   ],
   "metadata": {
    "collapsed": false,
    "ExecuteTime": {
     "end_time": "2023-12-09T18:01:15.355704200Z",
     "start_time": "2023-12-09T18:00:30.443601300Z"
    }
   },
   "id": "4d30e29ac363cb10"
  },
  {
   "cell_type": "markdown",
   "source": [
    "## 2) Топ 20 фільмів із найбільшою кількістю локальних назв"
   ],
   "metadata": {
    "collapsed": false
   },
   "id": "9cf8f4a1e0da34f7"
  },
  {
   "cell_type": "code",
   "execution_count": 5,
   "outputs": [
    {
     "name": "stdout",
     "output_type": "stream",
     "text": [
      "+---------+----------------------------------------------+---------+-----+----+\n",
      "|titleId  |primaryTitle                                  |startYear|count|rank|\n",
      "+---------+----------------------------------------------+---------+-----+----+\n",
      "|tt0168366|Pokémon                                       |1997     |144  |1   |\n",
      "|tt0076759|Star Wars: Episode IV - A New Hope            |1977     |93   |2   |\n",
      "|tt0104431|Home Alone 2: Lost in New York                |1992     |93   |3   |\n",
      "|tt0088814|The Black Cauldron                            |1985     |83   |4   |\n",
      "|tt0086190|Star Wars: Episode VI - Return of the Jedi    |1983     |77   |5   |\n",
      "|tt2418644|Testing Movie1                                |2015     |72   |6   |\n",
      "|tt0080684|Star Wars: Episode V - The Empire Strikes Back|1980     |69   |7   |\n",
      "|tt2872750|Shaun the Sheep Movie                         |2015     |67   |8   |\n",
      "|tt0060196|The Good, the Bad and the Ugly                |1966     |65   |9   |\n",
      "|tt0086779|La piovra                                     |1984     |65   |10  |\n",
      "|tt0099674|The Godfather Part III                        |1990     |65   |11  |\n",
      "|tt0099785|Home Alone                                    |1990     |65   |12  |\n",
      "|tt0071562|The Godfather Part II                         |1974     |62   |13  |\n",
      "|tt0082971|Raiders of the Lost Ark                       |1981     |61   |14  |\n",
      "|tt0120915|Star Wars: Episode I - The Phantom Menace     |1999     |61   |15  |\n",
      "|tt0162854|Prime Time                                    |1977     |61   |16  |\n",
      "|tt6932874|The Boss Baby 2: Family Business              |2021     |60   |17  |\n",
      "|tt0075860|Close Encounters of the Third Kind            |1977     |58   |18  |\n",
      "|tt0090633|An American Tail                              |1986     |58   |19  |\n",
      "|tt0103369|Sailor Moon                                   |1992     |58   |20  |\n",
      "+---------+----------------------------------------------+---------+-----+----+\n"
     ]
    }
   ],
   "source": [
    "top_20_akas_df = (akas_df\n",
    "                  .dropDuplicates(['title'])\n",
    "                  .groupBy('titleId').count()\n",
    "                  .sort(desc(col('count')))\n",
    "                  #.dropDuplicates(['titleId'])\n",
    "                  .limit(20)\n",
    "                  .join(basics_df, basics_df.tconst == col('titleId'))\n",
    "                  .select('titleId', 'primaryTitle', 'startYear', 'count')\n",
    "                  )\n",
    "\n",
    "window = Window.orderBy(desc('count'))\n",
    "res_df = top_20_akas_df.withColumn('rank', row_number().over(window))\n",
    "\n",
    "res_df.show(20, False)"
   ],
   "metadata": {
    "collapsed": false,
    "ExecuteTime": {
     "end_time": "2023-12-09T17:34:19.654236400Z",
     "start_time": "2023-12-09T17:32:24.463332Z"
    }
   },
   "id": "455763fbf2adaff5"
  },
  {
   "cell_type": "markdown",
   "source": [
    "## 3) Всі унікальні локальні назви для фільму Home Alone 2: Lost in New York (1992)"
   ],
   "metadata": {
    "collapsed": false
   },
   "id": "b98fabce4e1f1219"
  },
  {
   "cell_type": "code",
   "execution_count": 6,
   "outputs": [
    {
     "name": "stdout",
     "output_type": "stream",
     "text": [
      "+---------+-----------------------------------------------------------------+------+\n",
      "|titleId  |title                                                            |region|\n",
      "+---------+-----------------------------------------------------------------+------+\n",
      "|tt0104431|Akela Ghar 2: New York Mein Haar Gaya                            |IN    |\n",
      "|tt0104431|Aleinn Heima 2: Týndur í New York                                |IS    |\n",
      "|tt0104431|Alene hjemme 2 - Forlatt i New York                              |NO    |\n",
      "|tt0104431|Alene hjemme 2: Glemt i New York                                 |DK    |\n",
      "|tt0104431|Alleen tuis 2                                                    |ZA    |\n",
      "|tt0104431|Alone Again                                                      |US    |\n",
      "|tt0104431|Alone Home 2: Lost in New York                                   |IS    |\n",
      "|tt0104431|Alone at Home 2 - Lost in New York                               |SK    |\n",
      "|tt0104431|Alone at Home 2: Lost in New York                                |GR    |\n",
      "|tt0104431|Alone in Home 2: Missing in New York                             |AE    |\n",
      "|tt0104431|Alone in House 2                                                 |RS    |\n",
      "|tt0104431|Alone in the House - Lost in New York                            |YUCS  |\n",
      "|tt0104431|Ensam hemma 2                                                    |SE    |\n",
      "|tt0104431|Ensam hemma 2 - Vilse i New York                                 |SE    |\n",
      "|tt0104431|Ensam hemma 2 - vilse i New York                                 |FI    |\n",
      "|tt0104431|Esqueceram de Mim 2: Perdido em Nova York                        |BR    |\n",
      "|tt0104431|Evde Tek Başına 2                                                |TR    |\n",
      "|tt0104431|Evdə Tək 2: Nyu-Yorkda İtirilmiş                                 |AZ    |\n",
      "|tt0104431|Home Alone 2                                                     |JP    |\n",
      "|tt0104431|Home Alone 2 - Abandoned in New York                             |NO    |\n",
      "|tt0104431|Home Alone 2 - Lost in New York                                  |SE    |\n",
      "|tt0104431|Home Alone 2: Forgotten in New York                              |DK    |\n",
      "|tt0104431|Home Alone 2: Lost in New York                                   |HR    |\n",
      "|tt0104431|Home Alone 2: Lost in New York City                              |RU    |\n",
      "|tt0104431|Home Alone: Lost in New York                                     |MD    |\n",
      "|tt0104431|Home alone 2: Misled in New York                                 |UZ    |\n",
      "|tt0104431|Hômu arôn 2                                                      |JP    |\n",
      "|tt0104431|I Alone Home 2 - Wandering Through New York                      |KR    |\n",
      "|tt0104431|I Vetëm në Shtëpi 2: I Humbur në Nju Jork                        |AL    |\n",
      "|tt0104431|Kevin - Allein in New York                                       |DE    |\n",
      "|tt0104431|Kevin - Alone in New York                                        |DE    |\n",
      "|tt0104431|Kevin Allein in New York                                         |DE    |\n",
      "|tt0104431|Kevin Alone in New York                                          |PL    |\n",
      "|tt0104431|Kevin sam w Nowym Jorku                                          |PL    |\n",
      "|tt0104431|Little Devil Is Home 2                                           |CN    |\n",
      "|tt0104431|Little Devil Is Home 2: Lost in New York                         |TW    |\n",
      "|tt0104431|Maman, j'ai encore raté l'avion et je suis perdu dans New York   |CA    |\n",
      "|tt0104431|Maman, j'ai encore raté l'avion!                                 |FR    |\n",
      "|tt0104431|Maman, j'ai encore raté l'avion...                               |CA    |\n",
      "|tt0104431|Maman, j'ai encore raté l'avion... et je suis perdu dans New York|FR    |\n",
      "|tt0104431|Maman, j'ai raté l'avion                                         |FR    |\n",
      "|tt0104431|Maman, j'ai raté l'avion!                                        |FR    |\n",
      "|tt0104431|Mamma, ho riperso l'aereo: Mi sono smarrito a New York           |IT    |\n",
      "|tt0104431|Mi Pobre Angelito 2                                              |CL    |\n",
      "|tt0104431|Mi pobre angelito 2 - Perdido en Nueva York                      |UY    |\n",
      "|tt0104431|Mi pobre angelito 2: Perdido en Nueva York                       |EC    |\n",
      "|tt0104431|Mi pobre angelito 2: perdido en Nueva York                       |PE    |\n",
      "|tt0104431|Mom, I Missed the Plane Again!                                   |FR    |\n",
      "|tt0104431|Mom, I Missed the Plane Again...                                 |CM    |\n",
      "|tt0104431|Mom, I Missed the Plane Again... and I'm Lost in New York        |FR    |\n",
      "|tt0104431|Mom, I Missed the Plane!                                         |FR    |\n",
      "|tt0104431|Mom, I Missed the Plane: I Got Lost in New York                  |IT    |\n",
      "|tt0104431|Monos sto spiti 2 - Hamenos sti Nea Yorki                        |GR    |\n",
      "|tt0104431|My Poor Little Angel 2                                           |CL    |\n",
      "|tt0104431|My Poor Little Angel 2 - Lost in New York                        |UY    |\n",
      "|tt0104431|My Poor Little Angel 2: Lost in New York                         |AR    |\n",
      "|tt0104431|One at Home                                                      |DZ    |\n",
      "|tt0104431|One at Home 2: Lost in New York                                  |LT    |\n",
      "|tt0104431|Reszkessetek betörõk 2.                                          |HU    |\n",
      "|tt0104431|Reszkessetek, betörők! 2.: Elveszve New Yorkban                  |HU    |\n",
      "|tt0104431|Sam doma 2 - Izgubljen v New Yorku                               |SI    |\n",
      "|tt0104431|Sam u kuci - Izgubljen u njujorku                                |YUCS  |\n",
      "|tt0104431|Sam u kući 2: Izgubljen u New Yorku                              |HR    |\n",
      "|tt0104431|Shiver, Burglars! 2nd: Lost in New York                          |HU    |\n",
      "|tt0104431|Singur acasă: Pierdut în New York                                |MD    |\n",
      "|tt0104431|Sol a casa 2: Perdut a Nova York                                 |ES    |\n",
      "|tt0104431|Solo en casa 2: Perdido en Nueva York                            |ES    |\n",
      "|tt0104431|Sozinho em Casa 2: Perdido em Nova Iorque                        |PT    |\n",
      "|tt0104431|Sám doma 2 - Stratený v New Yorku                                |CSHH  |\n",
      "|tt0104431|Sám doma 2: Ztracen v New Yorku                                  |CSHH  |\n",
      "|tt0104431|Tanha dar khaneh 2                                               |IR    |\n",
      "|tt0104431|Uyda yolg'iz 2: Nyu Yorkda adashgan                              |UZ    |\n",
      "|tt0104431|Vienas namuose 2: pasiklydęs Niujorke                            |LT    |\n",
      "|tt0104431|Viens Pats Mājās 2: Apmaldījies Ņujorkā                          |LV    |\n",
      "|tt0104431|Yksin kotona 2                                                   |FI    |\n",
      "|tt0104431|Yksin kotona 2 - eksynyt New Yorkissa                            |FI    |\n",
      "|tt0104431|Üksinda kodus 2: Kadunud New Yorgis                              |EE    |\n",
      "|tt0104431|Μόνος στο σπίτι 2: Χαμένος στη Νέα Υόρκη                         |GR    |\n",
      "|tt0104431|Адзін дома 2: Згублены ў Нью-Ёрку                                |BY    |\n",
      "|tt0104431|Один дома 2: Затерянный в Нью-Йорке                              |RU    |\n",
      "|tt0104431|Один дома 2: Кевин в Нью-Йорке                                   |RU    |\n",
      "|tt0104431|Один дома 2: Потерявшийся в Нью-Йорке                            |KZ    |\n",
      "|tt0104431|Сам Дома 2: Изгубен во Њујорк                                    |MK    |\n",
      "|tt0104431|Сам вкъщи 2: Изгубен в Ню Йорк                                   |BG    |\n",
      "|tt0104431|Сам у кући 2                                                     |RS    |\n",
      "|tt0104431|Сам удома 2                                                      |UA    |\n",
      "|tt0104431|Сам удома 2: Загублений у Нью-Йорку                              |UA    |\n",
      "|tt0104431|Үйде жалғыз қалғанда 2: Нью-Йоркте жоғалған                      |KZ    |\n",
      "|tt0104431|وحدي في المنزل 2: مفقود في نيويورك                               |AE    |\n",
      "|tt0104431|होम अलोन 2: लॉस्ट इन न्यू यॉर्क                                  |IN    |\n",
      "|tt0104431|Ở Nhà Một Mình 2: Lạc Ở New York                                 |VN    |\n",
      "|tt0104431|ホーム・アローン2                                                |JP    |\n",
      "|tt0104431|寶貝智多星2之玩轉紐約                                            |HK    |\n",
      "|tt0104431|小鬼当家2                                                        |CN    |\n",
      "|tt0104431|小鬼當家2：紐約迷途記                                            |TW    |\n",
      "|tt0104431|나 홀로 집에 2 - 뉴욕을 헤매다                                   |KR    |\n",
      "+---------+-----------------------------------------------------------------+------+\n"
     ]
    }
   ],
   "source": [
    "homealone_df = (basics_df\n",
    "              .filter((basics_df.primaryTitle == 'Home Alone 2: Lost in New York') & (basics_df.startYear == 1992))\n",
    "              .join(akas_df, akas_df.titleId == basics_df.tconst)\n",
    "              .dropDuplicates(['title'])\n",
    "              .select('titleId', 'title', 'region')\n",
    "              )\n",
    "homealone_df.show(100, False)"
   ],
   "metadata": {
    "collapsed": false,
    "ExecuteTime": {
     "end_time": "2023-12-09T17:35:32.181364700Z",
     "start_time": "2023-12-09T17:34:19.653234400Z"
    }
   },
   "id": "69278a5efa2ac30c"
  },
  {
   "cell_type": "markdown",
   "source": [
    "## 4) Топ 5 найпопулярніших фільмів із раяном гослінгом за весь час, сортування по рейтингу"
   ],
   "metadata": {
    "collapsed": false
   },
   "id": "b10e237b8f832a9a"
  },
  {
   "cell_type": "code",
   "execution_count": 21,
   "outputs": [
    {
     "name": "stdout",
     "output_type": "stream",
     "text": [
      "+------------+--------------------+---------+--------------+--------------------+-------------+--------+----+\n",
      "| primaryName|        primaryTitle|startYear|runtimeMinutes|              genres|averageRating|numVotes|rank|\n",
      "+------------+--------------------+---------+--------------+--------------------+-------------+--------+----+\n",
      "|Ryan Gosling|Margot Robbie Tak...|     2023|             7|             [Short]|          8.6|      13|   1|\n",
      "|Ryan Gosling|   Heartbreaker High|     1998|          NULL|            [Comedy]|          8.4|      10|   2|\n",
      "|Ryan Gosling|Ryan Gosling/Russ...|     2016|          NULL|[Comedy, Music, T...|          8.3|      62|   3|\n",
      "|Ryan Gosling|Harrison Ford/Rya...|     2017|            47|[Comedy, Music, T...|          8.2|      88|   4|\n",
      "|Ryan Gosling|The Tale of Stati...|     1995|            22|[Drama, Fantasy, ...|          8.2|     899|   5|\n",
      "|Ryan Gosling|What's Your First...|     2015|          NULL|         [Talk-Show]|          8.1|      27|   6|\n",
      "|Ryan Gosling|The Notebook: Del...|     2005|          NULL|    [Drama, Romance]|          8.1|     647|   7|\n",
      "|Ryan Gosling|The One Hour of F...|     2011|          NULL|[Comedy, Music, T...|          8.1|      26|   8|\n",
      "|Ryan Gosling|          La La Land|     2016|           128|[Comedy, Drama, M...|          8.0|  640449|   9|\n",
      "|Ryan Gosling|   Blade Runner 2049|     2017|           164|[Action, Drama, M...|          8.0|  630914|  10|\n",
      "|Ryan Gosling|Screenplay Series...|     2007|            90|         [Biography]|          8.0|      11|  11|\n",
      "|Ryan Gosling|           The Prize|     1999|            21|[Action, Adventur...|          7.9|      34|  12|\n",
      "|Ryan Gosling|Going to the Plac...|     2013|             5|[Documentary, Short]|          7.9|      44|  13|\n",
      "|Ryan Gosling|The Big Short: Ge...|     2015|            12|             [Short]|          7.8|      12|  14|\n",
      "|Ryan Gosling|        The Notebook|     2004|           123|    [Drama, Romance]|          7.8|  602468|  15|\n",
      "|Ryan Gosling|            Cram-Ped|     1998|            21|[Action, Adventur...|          7.8|      31|  16|\n",
      "|Ryan Gosling|       The Big Short|     2015|           130|[Biography, Comed...|          7.8|  468361|  17|\n",
      "|Ryan Gosling|               Drive|     2011|           100|     [Action, Drama]|          7.8|  686615|  18|\n",
      "|Ryan Gosling|Burning Questions...|     2022|          NULL|         [Talk-Show]|          7.8|      74|  19|\n",
      "|Ryan Gosling|The Chase for Car...|     2023|             6|[Comedy, Drama, S...|          7.8|     150|  20|\n",
      "+------------+--------------------+---------+--------------+--------------------+-------------+--------+----+\n"
     ]
    }
   ],
   "source": [
    "window = Window.orderBy(desc('averageRating'))\n",
    "\n",
    "ryan_gosling_df = (principals_df\n",
    "                   .filter(principals_df.nconst == 'nm0331516')\n",
    "                   .join(name_df, name_df.nconst == principals_df.nconst)\n",
    "                   .join(basics_df, basics_df.tconst == principals_df.tconst)\n",
    "                   .join(ratings_df, ratings_df.tconst == basics_df.tconst)\n",
    "                   .sort(desc(col('averageRating')))\n",
    "                   .select('primaryName', 'primaryTitle', 'startYear', 'runtimeMinutes', 'genres', 'averageRating', 'numVotes')\n",
    "                   .limit(20)\n",
    "                   )\n",
    "\n",
    "ryan_gosling_df = ryan_gosling_df.withColumn('rank', row_number().over(window))\n",
    "ryan_gosling_df.show()"
   ],
   "metadata": {
    "collapsed": false,
    "ExecuteTime": {
     "end_time": "2023-12-09T19:05:51.131698100Z",
     "start_time": "2023-12-09T19:04:02.012970700Z"
    }
   },
   "id": "fe10785c5c2c8247"
  },
  {
   "cell_type": "markdown",
   "source": [
    "## 5) Процентне співвідношення кількості фільмів по роках починаючи із 2000 року"
   ],
   "metadata": {
    "collapsed": false
   },
   "id": "ee21fc6580d8f655"
  },
  {
   "cell_type": "code",
   "execution_count": 35,
   "outputs": [
    {
     "name": "stdout",
     "output_type": "stream",
     "text": [
      "+---------+-----+---------+---------+------------------+-------------------+\n",
      "|startYear|count|next_year|prev_year|% of all          |diff in %          |\n",
      "+---------+-----+---------+---------+------------------+-------------------+\n",
      "|2000     |7662 |8231     |NULL     |1.9723886187358899|NULL               |\n",
      "|2001     |8231 |8537     |7662     |2.1188633151677254|10.630543068885919 |\n",
      "|2002     |8537 |9045     |8231     |2.1976352960256187|9.534965444535551  |\n",
      "|2003     |9045 |9747     |8537     |2.3284070812406843|13.377556661138751 |\n",
      "|2004     |9747 |11009    |9045     |2.5091192726205582|20.14978967887555  |\n",
      "|2005     |11009|11603    |9747     |2.833989337465859 |16.858933599782    |\n",
      "|2006     |11603|12585    |11009    |2.9868996532488294|13.582694130828235 |\n",
      "|2007     |12585|13630    |11603    |3.2396907813614164|16.10647596344855  |\n",
      "|2008     |13630|15147    |12585    |3.5086996702388644|18.79677182685253  |\n",
      "|2009     |15147|15754    |13630    |3.8992130524657433|14.022578728461083 |\n",
      "|2010     |15754|16998    |15147    |4.055469890311303 |11.749396978545132 |\n",
      "|2011     |16998|18104    |15754    |4.375706309223787 |13.8251559006942   |\n",
      "|2012     |18104|18657    |16998    |4.660418109318005 |9.163720724701724  |\n",
      "|2013     |18657|19860    |18104    |4.8027740093651135|9.412016937342553  |\n",
      "|2014     |19860|20814    |18657    |5.112456012541735 |10.861027190332326 |\n",
      "|2015     |20814|22253    |19860    |5.3580392469810505|11.497069280292111 |\n",
      "|2016     |22253|22429    |20814    |5.728473496832389 |7.257448433919023  |\n",
      "|2017     |22429|22363    |22253    |5.773780257064379 |0.4904364884747425 |\n",
      "|2018     |22363|21986    |22429    |5.756790221977383 |-1.9809506774583017|\n",
      "|2019     |21986|18697    |22363    |5.659741082162265 |-16.674247248248886|\n",
      "|2020     |18697|20936    |21986    |4.8130710003269295|-5.615874204417821 |\n",
      "|2021     |20936|21846    |18697    |5.389445069414591 |15.041077569736338 |\n",
      "|2022     |21846|18559    |20936    |5.623701613795908 |-10.880710427538222|\n",
      "|2023     |18559|2011     |21846    |4.777546381508664 |-106.8753704402177 |\n",
      "|2024     |2011 |NULL     |18559    |0.5176812206053086|NULL               |\n",
      "+---------+-----+---------+---------+------------------+-------------------+\n"
     ]
    }
   ],
   "source": [
    "window1 = Window.orderBy('startYear')\n",
    "\n",
    "total_number_of_films = (basics_df\n",
    "                         .filter((basics_df.startYear >= 2000) & (basics_df.startYear <= 2024) \n",
    "                                 & ((basics_df.titleType == 'movie') | (basics_df.titleType == 'tvMovie')))\n",
    "                         .groupBy('startYear').count()\n",
    "                         .agg({'count': 'sum'})\n",
    "                         .collect()[0][0]\n",
    "                        )       \n",
    "\n",
    "films_by_year_df = (basics_df\n",
    "                    .filter((basics_df.startYear >= 2000) & (basics_df.startYear <= 2024) \n",
    "                            & ((basics_df.titleType == 'movie') | (basics_df.titleType == 'tvMovie')))\n",
    "                    .groupBy('startYear').count()\n",
    "                    )\n",
    "                \n",
    "films_by_year_df = films_by_year_df.withColumn('next_year', lead('count').over(window1))\n",
    "films_by_year_df = films_by_year_df.withColumn('prev_year', lag('count').over(window1))\n",
    "films_by_year_df = films_by_year_df.withColumn('% of all', col('count') / total_number_of_films * 100)\n",
    "res = films_by_year_df.withColumn('diff in %', (col('next_year') - col('prev_year')) / col('count') * 100)\n",
    "res.show(200, False)"
   ],
   "metadata": {
    "collapsed": false,
    "ExecuteTime": {
     "end_time": "2023-12-09T19:51:15.165072100Z",
     "start_time": "2023-12-09T19:50:55.967068600Z"
    }
   },
   "id": "a7675ea19dc7952"
  },
  {
   "cell_type": "markdown",
   "source": [
    "## 6) Всі серії футурами по сезонах"
   ],
   "metadata": {
    "collapsed": false
   },
   "id": "c3f21d19db7eff8a"
  },
  {
   "cell_type": "code",
   "execution_count": 9,
   "outputs": [
    {
     "name": "stdout",
     "output_type": "stream",
     "text": [
      "+----------+------------+-------------+----------------------------------------+---------+-------------+--------+\n",
      "|tconst    |seasonNumber|episodeNumber|primaryTitle                            |startYear|averageRating|numVotes|\n",
      "+----------+------------+-------------+----------------------------------------+---------+-------------+--------+\n",
      "|tt0584449 |1           |1            |Space Pilot 3000                        |1999     |8.6          |4816    |\n",
      "|tt0756891 |1           |2            |The Series Has Landed                   |1999     |8.0          |3871    |\n",
      "|tt0756882 |1           |3            |I, Roommate                             |1999     |8.2          |3765    |\n",
      "|tt0756885 |1           |4            |Love's Labours Lost in Space            |1999     |8.1          |3593    |\n",
      "|tt0584438 |1           |5            |Fear of a Bot Planet                    |1999     |7.8          |3385    |\n",
      "|tt0584425 |1           |6            |A Fishful of Dollars                    |1999     |8.2          |3509    |\n",
      "|tt0756887 |1           |7            |My Three Suns                           |1999     |7.8          |3322    |\n",
      "|tt0584423 |1           |8            |A Big Piece of Garbage                  |1999     |8.0          |3290    |\n",
      "|tt0584441 |1           |9            |Hell Is Other Robots                    |1999     |8.0          |3390    |\n",
      "|tt0584426 |2           |1            |A Flight to Remember                    |1999     |8.2          |3316    |\n",
      "|tt0756886 |2           |2            |Mars University                         |1999     |7.7          |3144    |\n",
      "|tt0756892 |2           |3            |When Aliens Attack                      |1999     |8.0          |3045    |\n",
      "|tt0584439 |2           |4            |Fry and the Slurm Factory               |1999     |8.3          |3331    |\n",
      "|tt0756881 |2           |5            |I Second That Emotion                   |1999     |7.7          |2934    |\n",
      "|tt0766796 |2           |6            |Brannigan, Begin Again                  |1999     |7.9          |2946    |\n",
      "|tt0584427 |2           |7            |A Head in the Polls                     |1999     |7.6          |2870    |\n",
      "|tt0584465 |2           |8            |Xmas Story                              |1999     |8.1          |3071    |\n",
      "|tt0766798 |2           |9            |Why Must I Be a Crustacean in Love?     |2000     |8.0          |2939    |\n",
      "|tt0772479 |2           |10           |Put Your Head on My Shoulders           |2000     |7.5          |2753    |\n",
      "|tt0584445 |2           |11           |The Lesser of Two Evils                 |2000     |7.5          |2735    |\n",
      "|tt0584448 |2           |12           |Raging Bender                           |2000     |7.6          |2700    |\n",
      "|tt0766129 |2           |13           |A Bicyclops Built for Two               |2000     |8.0          |2868    |\n",
      "|tt0584442 |2           |14           |How Hermes Requisitioned His Groove Back|2000     |8.0          |2802    |\n",
      "|tt0584424 |2           |15           |A Clone of My Own                       |2000     |7.5          |2674    |\n",
      "|tt0584455 |2           |16           |The Deep South                          |2000     |7.8          |2790    |\n",
      "|tt0766130 |2           |17           |Bender Gets Made                        |2000     |7.6          |2657    |\n",
      "|tt0584457 |2           |18           |The Problem with Popplers               |2000     |8.5          |2952    |\n",
      "|tt0584447 |2           |19           |Mother's Day                            |2000     |7.8          |2661    |\n",
      "|tt0584432 |2           |20           |Anthology of Interest I                 |2000     |8.5          |2988    |\n",
      "|tt0768399 |3           |1            |The Honking                             |2000     |7.5          |2711    |\n",
      "|tt0584463 |3           |2            |War Is the H-Word                       |2000     |8.4          |2926    |\n",
      "|tt0584453 |3           |3            |The Cryonic Woman                       |2000     |7.4          |2600    |\n",
      "|tt0766131 |3           |4            |Parasites Lost                          |2001     |8.9          |3285    |\n",
      "|tt0584431 |3           |5            |Amazon Women in the Mood                |2001     |8.6          |3349    |\n",
      "|tt0584436 |3           |6            |Bendless Love                           |2001     |7.2          |2497    |\n",
      "|tt0756890 |3           |7            |The Day the Earth Stood Stupid          |2001     |8.5          |2788    |\n",
      "|tt0584451 |3           |8            |That's Lobstertainment!                 |2001     |7.1          |2531    |\n",
      "|tt0584452 |3           |9            |The Birdbot of Ice-Catraz               |2001     |7.5          |2484    |\n",
      "|tt0768678 |3           |10           |The Luck of the Fryrish                 |2001     |9.4          |5326    |\n",
      "|tt0584454 |3           |11           |The Cyber House Rules                   |2001     |7.7          |2523    |\n",
      "|tt0756883 |3           |12           |Insane in the Mainframe                 |2001     |8.1          |2638    |\n",
      "|tt0584435 |3           |13           |Bendin' in the Wind                     |2001     |7.3          |2547    |\n",
      "|tt0584462 |3           |14           |Time Keeps on Slipping                  |2001     |8.3          |2787    |\n",
      "|tt0584443 |3           |15           |I Dated a Robot                         |2001     |7.6          |2532    |\n",
      "|tt0756888 |4           |1            |Roswell That Ends Well                  |2001     |9.1          |3491    |\n",
      "|tt0584429 |4           |2            |A Tale of Two Santas                    |2001     |7.7          |2499    |\n",
      "|tt0756879 |4           |3            |Anthology of Interest II                |2002     |8.2          |2627    |\n",
      "|tt0584446 |4           |4            |Love and Rocket                         |2002     |7.7          |2493    |\n",
      "|tt0756884 |4           |5            |Leela's Homeworld                       |2002     |8.6          |2967    |\n",
      "|tt0756893 |4           |6            |Where the Buggalo Roam                  |2002     |7.5          |2413    |\n",
      "|tt0756878 |4           |7            |A Pharaoh to Remember                   |2002     |7.6          |2467    |\n",
      "|tt0756880 |4           |8            |Godfellas                               |2002     |8.8          |3442    |\n",
      "|tt0584440 |4           |9            |Future Stock                            |2002     |7.7          |2441    |\n",
      "|tt0584428 |4           |10           |A Leela of Her Own                      |2002     |7.0          |2364    |\n",
      "|tt0756889 |4           |11           |The 30% Iron Chef                       |2002     |7.6          |2373    |\n",
      "|tt0584464 |4           |12           |Where No Fan Has Gone Before            |2002     |8.3          |2888    |\n",
      "|tt0584437 |5           |1            |Crimes of the Hot                       |2002     |7.9          |2379    |\n",
      "|tt0584444 |5           |2            |Jurassic Bark                           |2002     |9.5          |6705    |\n",
      "|tt0584458 |5           |3            |The Route of All Evil                   |2002     |7.3          |2325    |\n",
      "|tt0584430 |5           |4            |A Taste of Freedom                      |2002     |7.8          |2355    |\n",
      "|tt0757482 |5           |5            |Kif Gets Knocked Up a Notch             |2003     |7.5          |2387    |\n",
      "|tt0757483 |5           |6            |Less Than Hero                          |2003     |7.7          |2367    |\n",
      "|tt0584450 |5           |7            |Teenage Mutant Leela's Hurdles          |2003     |8.3          |2480    |\n",
      "|tt0584460 |5           |8            |The Why of Fry                          |2003     |8.7          |2725    |\n",
      "|tt0584459 |5           |9            |The Sting                               |2003     |9.1          |3701    |\n",
      "|tt0757485 |5           |10           |The Farnsworth Parabox                  |2003     |8.9          |2946    |\n",
      "|tt0584461 |5           |11           |Three Hundred Big Boys                  |2003     |8.2          |2494    |\n",
      "|tt0584434 |5           |12           |Spanish Fry                             |2003     |7.6          |2349    |\n",
      "|tt0584433 |5           |13           |Bend Her                                |2003     |7.3          |2364    |\n",
      "|tt0757484 |5           |14           |Obsoletely Fabulous                     |2003     |7.7          |2302    |\n",
      "|tt0779827 |5           |15           |Bender Should Not Be Allowed on TV      |2003     |7.5          |2301    |\n",
      "|tt0584456 |5           |16           |The Devil's Hands Are Idle Playthings   |2003     |9.1          |3683    |\n",
      "|tt13018928|6           |1            |Bender's Big Score: Part 1              |2008     |7.8          |632     |\n",
      "|tt13018956|6           |2            |Bender's Big Score: Part 2              |2008     |7.9          |610     |\n",
      "|tt13018960|6           |3            |Bender's Big Score: Part 3              |2008     |8.0          |607     |\n",
      "|tt13018962|6           |4            |Bender's Big Score: Part 4              |2008     |8.2          |628     |\n",
      "|tt13018934|6           |5            |The Beast with a Billion Backs: Part 1  |2008     |7.3          |553     |\n",
      "|tt13018940|6           |6            |The Beast with a Billion Backs: Part 2  |2008     |7.2          |544     |\n",
      "|tt13019080|6           |7            |The Beast with a Billion Backs: Part 3  |2008     |7.2          |544     |\n",
      "|tt13018992|6           |8            |The Beast with a Billion Backs: Part 4  |2008     |7.2          |548     |\n",
      "|tt13018990|6           |9            |Bender's Game: Part 1                   |2009     |7.2          |530     |\n",
      "|tt13019020|6           |10           |Bender's Game: Part 2                   |2009     |7.3          |529     |\n",
      "|tt13019022|6           |11           |Bender's Game: Part 3                   |2009     |7.2          |526     |\n",
      "|tt13019118|6           |12           |Bender's Game: Part 4                   |2009     |7.3          |529     |\n",
      "|tt13019004|6           |13           |Into the Wild Green Yonder: Part 1      |2009     |7.4          |518     |\n",
      "|tt13019082|6           |14           |Into the Wild Green Yonder: Part 2      |2009     |7.2          |507     |\n",
      "|tt13019076|6           |15           |Into the Wild Green Yonder: Part 3      |2009     |7.3          |504     |\n",
      "|tt13019162|6           |16           |Into the Wild Green Yonder: Part 4      |2009     |7.5          |527     |\n",
      "|tt1620650 |7           |1            |Rebirth                                 |2010     |7.8          |2666    |\n",
      "|tt1630891 |7           |2            |In-A-Gadda-Da-Leela                     |2010     |7.1          |2403    |\n",
      "|tt1630892 |7           |3            |Attack of the Killer App                |2010     |7.6          |2454    |\n",
      "|tt1630893 |7           |4            |Proposition Infinity                    |2010     |7.2          |2265    |\n",
      "|tt1630894 |7           |5            |The Duh-Vinci Code                      |2010     |7.3          |2267    |\n",
      "|tt1630895 |7           |6            |Lethal Inspection                       |2010     |8.5          |2784    |\n",
      "|tt1630896 |7           |7            |The Late Philip J. Fry                  |2010     |9.3          |4192    |\n",
      "|tt1630897 |7           |8            |That Darn Katz!                         |2010     |7.2          |2148    |\n",
      "|tt1630898 |7           |9            |A Clockwork Origin                      |2010     |7.9          |2239    |\n",
      "|tt1630882 |7           |10           |The Prisoner of Benda                   |2010     |8.3          |2314    |\n",
      "|tt1630883 |7           |11           |Lrrreconcilable Ndndifferences          |2010     |7.2          |2040    |\n",
      "|tt1630884 |7           |12           |The Mutants Are Revolting               |2010     |7.5          |2002    |\n",
      "|tt1630885 |7           |13           |The Futurama Holiday Spectacular        |2010     |6.4          |2092    |\n",
      "|tt1630886 |8           |1            |Neutopia                                |2011     |7.4          |2122    |\n",
      "|tt1630887 |8           |2            |Benderama                               |2011     |7.6          |2088    |\n",
      "|tt1630888 |8           |3            |Ghost in the Machines                   |2011     |7.5          |1954    |\n",
      "|tt1630889 |8           |4            |Law and Oracle                          |2011     |8.1          |2086    |\n",
      "|tt1630890 |8           |5            |The Silence of the Clamps               |2011     |7.5          |1941    |\n",
      "|tt1642353 |8           |6            |Yo Leela Leela                          |2011     |6.8          |1963    |\n",
      "|tt1642354 |8           |7            |All the Presidents' Heads               |2011     |7.3          |1900    |\n",
      "|tt1642355 |8           |8            |Möbius Dick                             |2011     |7.3          |1925    |\n",
      "|tt1642356 |8           |9            |Fry Am the Egg Man                      |2011     |7.2          |1840    |\n",
      "|tt1642357 |8           |10           |The Tip of the Zoidberg                 |2011     |7.7          |1954    |\n",
      "|tt1642358 |8           |11           |Cold Warriors                           |2011     |7.7          |1949    |\n",
      "|tt1642359 |8           |12           |Overclockwise                           |2011     |8.0          |1991    |\n",
      "|tt1642360 |8           |13           |Reincarnation                           |2011     |7.9          |2157    |\n",
      "|tt1952190 |9           |1            |The Bots and the Bees                   |2012     |7.7          |2138    |\n",
      "|tt2005609 |9           |2            |A Farewell to Arms                      |2012     |7.5          |1920    |\n",
      "|tt2005617 |9           |3            |Decision 3012                           |2012     |7.5          |1960    |\n",
      "|tt2005618 |9           |4            |The Thief of Baghead                    |2012     |7.2          |1853    |\n",
      "|tt2005619 |9           |5            |Zapp Dingbat                            |2012     |7.0          |1821    |\n",
      "|tt2005620 |9           |6            |The Butterjunk Effect                   |2012     |6.9          |1860    |\n",
      "|tt2005621 |9           |7            |The Six Million Dollar Mon              |2012     |7.2          |1856    |\n",
      "|tt2005622 |9           |8            |Fun on a Bun                            |2012     |7.6          |1893    |\n",
      "|tt2005623 |9           |9            |Free Will Hunting                       |2012     |7.2          |1799    |\n",
      "|tt2005599 |9           |10           |Near-Death Wish                         |2012     |7.6          |1865    |\n",
      "|tt2005601 |9           |11           |Viva Mars Vegas                         |2012     |7.5          |1769    |\n",
      "|tt2005600 |9           |12           |31st Century Fox                        |2012     |7.1          |1788    |\n",
      "|tt2005602 |9           |13           |Naturama                                |2012     |7.1          |1984    |\n",
      "|tt2005603 |10          |1            |2-D Blacktop                            |2013     |7.2          |1858    |\n",
      "|tt2005604 |10          |2            |Fry and Leela's Big Fling               |2013     |7.9          |1884    |\n",
      "|tt2005605 |10          |3            |T.: The Terrestrial                     |2013     |7.3          |1801    |\n",
      "|tt2005606 |10          |4            |Forty Percent Leadbelly                 |2013     |6.6          |1853    |\n",
      "|tt2005607 |10          |5            |The Inhuman Torch                       |2013     |7.2          |1785    |\n",
      "|tt2005608 |10          |6            |Saturday Morning Fun Pit                |2013     |6.8          |2074    |\n",
      "|tt2005610 |10          |7            |Calculon 2.0                            |2013     |7.1          |1796    |\n",
      "|tt2005611 |10          |8            |Assie Come Home                         |2013     |7.1          |1791    |\n",
      "|tt2005612 |10          |9            |Leela and the Genestalk                 |2013     |7.0          |1749    |\n",
      "|tt2005613 |10          |10           |Game of Tones                           |2013     |8.5          |2487    |\n",
      "|tt2005614 |10          |11           |Murder on the Planet Express            |2013     |8.5          |2135    |\n",
      "|tt2005615 |10          |12           |Stench and Stenchibility                |2013     |7.9          |2099    |\n",
      "|tt2005616 |10          |13           |Meanwhile                               |2013     |9.4          |4427    |\n",
      "|tt18114790|11          |1            |The Impossible Stream                   |2023     |7.3          |2467    |\n",
      "|tt21814884|11          |2            |Children of a Lesser Bog                |2023     |6.9          |1645    |\n",
      "|tt21814938|11          |3            |How the West Was 1010001                |2023     |6.8          |1465    |\n",
      "|tt21814942|11          |4            |Parasites Regained                      |2023     |6.8          |1304    |\n",
      "|tt21814424|11          |5            |Related to Items You've Viewed          |2023     |7.6          |1197    |\n",
      "|tt21814940|11          |6            |I Know What You Did Next Xmas           |2023     |7.5          |1136    |\n",
      "|tt21813110|11          |7            |Rage Against the Vaccine                |2023     |6.3          |1262    |\n",
      "|tt21813570|11          |8            |Zapp Gets Canceled                      |2023     |7.1          |920     |\n",
      "|tt21814106|11          |9            |The Prince and the Product              |2023     |4.5          |1517    |\n",
      "|tt21814946|11          |10           |All the Way Down                        |2023     |8.1          |1023    |\n",
      "+----------+------------+-------------+----------------------------------------+---------+-------------+--------+\n"
     ]
    }
   ],
   "source": [
    "futurama_df = (episode_df\n",
    "                .filter(episode_df.parentTconst == \n",
    "                        basics_df\n",
    "                           .filter((basics_df.primaryTitle == 'Futurama') & (basics_df.titleType == 'tvSeries') & (basics_df.startYear == 1999))\n",
    "                           .select('tconst').collect()[0][0]\n",
    "                        )\n",
    "                .join(ratings_df.withColumnRenamed('tconst', 'rtconst'), \n",
    "                      col('rtconst') == episode_df.tconst)\n",
    "                .join(basics_df.withColumnRenamed('tconst', 'btconst'),\n",
    "                      col('btconst') == episode_df.tconst)\n",
    "                .orderBy('seasonNumber', 'episodeNumber')\n",
    "                .select('tconst', 'seasonNumber', 'episodeNumber', 'primaryTitle', 'startYear', 'averageRating', 'numVotes')\n",
    "                )\n",
    "\n",
    "futurama_df.show(1000, False)"
   ],
   "metadata": {
    "collapsed": false,
    "ExecuteTime": {
     "end_time": "2023-12-09T17:37:38.714425300Z",
     "start_time": "2023-12-09T17:36:53.746865600Z"
    }
   },
   "id": "d61c00d05bb9f9c5"
  }
 ],
 "metadata": {
  "kernelspec": {
   "display_name": "Python 3",
   "language": "python",
   "name": "python3"
  },
  "language_info": {
   "codemirror_mode": {
    "name": "ipython",
    "version": 2
   },
   "file_extension": ".py",
   "mimetype": "text/x-python",
   "name": "python",
   "nbconvert_exporter": "python",
   "pygments_lexer": "ipython2",
   "version": "2.7.6"
  }
 },
 "nbformat": 4,
 "nbformat_minor": 5
}
