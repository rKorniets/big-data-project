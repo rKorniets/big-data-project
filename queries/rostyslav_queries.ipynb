{
 "cells": [
  {
   "cell_type": "code",
   "execution_count": 7,
   "id": "initial_id",
   "metadata": {
    "collapsed": true,
    "ExecuteTime": {
     "end_time": "2023-12-02T17:04:59.069861800Z",
     "start_time": "2023-12-02T17:04:59.028270Z"
    }
   },
   "outputs": [],
   "source": [
    "import sys\n",
    "import os\n",
    "\n",
    "\n",
    "from pyspark import SparkConf\n",
    "from pyspark.sql import SparkSession, Window\n",
    "import pyspark.sql.types as t\n",
    "from pyspark.sql.types import StructType, StructField, StringType, IntegerType\n",
    "from pyspark.sql.functions import col, rand, split, explode, regexp_replace, corr, desc, row_number, percent_rank\n",
    "\n",
    "from schemas.dataframes import get_episode_df, get_ratings_df, get_name_df, get_principals_df, get_crew_df, get_akas_df, get_basics_df"
   ]
  },
  {
   "cell_type": "code",
   "execution_count": 2,
   "outputs": [],
   "source": [
    "spark_session = (SparkSession.builder\n",
    "                             .master('local')\n",
    "                             .appName('IMDB')\n",
    "                             .config(conf=SparkConf())\n",
    "                             .getOrCreate())"
   ],
   "metadata": {
    "collapsed": false,
    "ExecuteTime": {
     "end_time": "2023-12-02T16:53:15.855390Z",
     "start_time": "2023-12-02T16:53:07.511563300Z"
    }
   },
   "id": "d534078c2dcf0416"
  },
  {
   "cell_type": "code",
   "execution_count": 3,
   "outputs": [],
   "source": [
    "episode_df = get_episode_df(spark_session)\n",
    "ratings_df = get_ratings_df(spark_session)\n",
    "name_df = get_name_df(spark_session)\n",
    "principals_df = get_principals_df(spark_session)\n",
    "crew_df = get_crew_df(spark_session)\n",
    "akas_df = get_akas_df(spark_session)\n",
    "basics_df = get_basics_df(spark_session)"
   ],
   "metadata": {
    "collapsed": false,
    "ExecuteTime": {
     "end_time": "2023-12-02T16:53:17.747388500Z",
     "start_time": "2023-12-02T16:53:15.855390Z"
    }
   },
   "id": "315a5e76b984a35b"
  },
  {
   "cell_type": "markdown",
   "source": [],
   "metadata": {
    "collapsed": false
   },
   "id": "e332812fbb60d73d"
  },
  {
   "cell_type": "markdown",
   "source": [
    "## 1) 10 фільмів українською мовою з найвищим рейтингом"
   ],
   "metadata": {
    "collapsed": false
   },
   "id": "81c031b4cc8d4401"
  },
  {
   "cell_type": "code",
   "execution_count": null,
   "outputs": [],
   "source": [
    "ukraine_akas_df = (akas_df\n",
    "                   .filter(akas_df.language == 'uk')\n",
    "                   .join(ratings_df, ratings_df.tconst == akas_df.titleId)\n",
    "                   .filter(ratings_df.numVotes > 100)\n",
    "                   .sort(col('averageRating').desc())\n",
    "                   .limit(20)\n",
    "                   )\n",
    "\n",
    "ukraine_akas_df.show()\n"
   ],
   "metadata": {
    "collapsed": false
   },
   "id": "4d30e29ac363cb10"
  },
  {
   "cell_type": "markdown",
   "source": [
    "## 2) Топ 20 фільмів із найбільшою кількістю локальних назв"
   ],
   "metadata": {
    "collapsed": false
   },
   "id": "9cf8f4a1e0da34f7"
  },
  {
   "cell_type": "code",
   "execution_count": null,
   "outputs": [],
   "source": [
    "top_20_akas_df = (akas_df\n",
    "                  .dropDuplicates(['title'])\n",
    "                  .groupBy('titleId').count()\n",
    "                  .sort(desc(col('count')))\n",
    "                  #.dropDuplicates(['titleId'])\n",
    "                  .limit(20)\n",
    "                  .join(basics_df, basics_df.tconst == col('titleId'))\n",
    "                  .select('titleId', 'primaryTitle', 'startYear', 'count')\n",
    "                  )\n",
    "\n",
    "window = Window.orderBy(desc('count'))\n",
    "res_df = top_20_akas_df.withColumn('rank', row_number().over(window))\n",
    "\n",
    "res_df.show(20, False)"
   ],
   "metadata": {
    "collapsed": false
   },
   "id": "455763fbf2adaff5"
  },
  {
   "cell_type": "markdown",
   "source": [
    "## 3) Всі унікальні локальні назви для фільму Home Alone 2: Lost in New York (1992)"
   ],
   "metadata": {
    "collapsed": false
   },
   "id": "b98fabce4e1f1219"
  },
  {
   "cell_type": "code",
   "execution_count": null,
   "outputs": [],
   "source": [
    "pokemon_df = (basics_df\n",
    "              .filter((basics_df.primaryTitle == 'Home Alone 2: Lost in New York') & (basics_df.startYear == 1992))\n",
    "              .join(akas_df, akas_df.titleId == basics_df.tconst)\n",
    "              .dropDuplicates(['title'])\n",
    "              .select('titleId', 'title', 'region')\n",
    "              )\n",
    "pokemon_df.show(100, False)"
   ],
   "metadata": {
    "collapsed": false
   },
   "id": "69278a5efa2ac30c"
  },
  {
   "cell_type": "markdown",
   "source": [
    "## 4) Топ 5 найпопулярніших фільмів із раяном гослінгом за весь час, сортування по рейтингу"
   ],
   "metadata": {
    "collapsed": false
   },
   "id": "b10e237b8f832a9a"
  },
  {
   "cell_type": "code",
   "execution_count": null,
   "outputs": [],
   "source": [
    "window = Window.orderBy(desc('averageRating'))\n",
    "\n",
    "ryan_gosling_df = (name_df\n",
    "                   .filter(name_df.primaryName == 'Ryan Gosling')\n",
    "                   .select('nconst', 'primaryName', 'birthYear', explode('knownForTitles').alias('filmId'))\n",
    "                   .join(basics_df, basics_df.tconst == col('filmId'))\n",
    "                   .join(ratings_df, ratings_df.tconst == basics_df.tconst)\n",
    "                   .sort(desc(col('averageRating')))\n",
    "                   .select('primaryName', 'primaryTitle', 'startYear', 'runtimeMinutes', 'genres', 'averageRating', 'numVotes')\n",
    "                   .orderBy(desc('averageRating'))\n",
    "                   .limit(5)\n",
    "                   )\n",
    "\n",
    "ryan_gosling_df = ryan_gosling_df.withColumn('rank', row_number().over(window))\n",
    "ryan_gosling_df.show()"
   ],
   "metadata": {
    "collapsed": false
   },
   "id": "ab39eb516e78d964"
  },
  {
   "cell_type": "markdown",
   "source": [
    "## 5) Процентне співвідношення кількості фільмів по роках починаючи із 2000 року"
   ],
   "metadata": {
    "collapsed": false
   },
   "id": "ee21fc6580d8f655"
  },
  {
   "cell_type": "code",
   "execution_count": 17,
   "outputs": [
    {
     "name": "stdout",
     "output_type": "stream",
     "text": [
      "+---------+-----+--------------------+\n",
      "|startYear|count|percent             |\n",
      "+---------+-----+--------------------+\n",
      "|2000     |7662 |0.0                 |\n",
      "|2001     |8231 |0.041666666666666664|\n",
      "|2002     |8537 |0.08333333333333333 |\n",
      "|2003     |9045 |0.125               |\n",
      "|2004     |9747 |0.16666666666666666 |\n",
      "|2005     |11009|0.20833333333333334 |\n",
      "|2006     |11603|0.25                |\n",
      "|2007     |12585|0.2916666666666667  |\n",
      "|2008     |13630|0.3333333333333333  |\n",
      "|2009     |15147|0.375               |\n",
      "|2010     |15754|0.4166666666666667  |\n",
      "|2011     |16998|0.4583333333333333  |\n",
      "|2012     |18104|0.5                 |\n",
      "|2013     |18657|0.5416666666666666  |\n",
      "|2014     |19860|0.5833333333333334  |\n",
      "|2015     |20814|0.625               |\n",
      "|2016     |22253|0.6666666666666666  |\n",
      "|2017     |22429|0.7083333333333334  |\n",
      "|2018     |22363|0.75                |\n",
      "|2019     |21986|0.7916666666666666  |\n",
      "|2020     |18697|0.8333333333333334  |\n",
      "|2021     |20936|0.875               |\n",
      "|2022     |21846|0.9166666666666666  |\n",
      "|2023     |18559|0.9583333333333334  |\n",
      "|2024     |2011 |1.0                 |\n",
      "+---------+-----+--------------------+\n"
     ]
    }
   ],
   "source": [
    "window1 = Window.orderBy('startYear')\n",
    "window2 = Window.orderBy(desc('percent'))\n",
    "\n",
    "films_by_year_df = (basics_df\n",
    "                    .filter((basics_df.startYear >= 2000) & (basics_df.startYear <= 2024) \n",
    "                            & ((basics_df.titleType == 'movie') | (basics_df.titleType == 'tvMovie')))\n",
    "                    .groupBy('startYear').count()\n",
    "                    )\n",
    "                \n",
    "res = films_by_year_df.withColumn('percent', percent_rank().over(window1))\n",
    "res.show(200, False)"
   ],
   "metadata": {
    "collapsed": false,
    "ExecuteTime": {
     "end_time": "2023-12-02T17:41:29.419374200Z",
     "start_time": "2023-12-02T17:41:19.700743600Z"
    }
   },
   "id": "a7675ea19dc7952"
  },
  {
   "cell_type": "markdown",
   "source": [
    "## 6) Всі серії футурами по сезонах"
   ],
   "metadata": {
    "collapsed": false
   },
   "id": "c3f21d19db7eff8a"
  },
  {
   "cell_type": "code",
   "execution_count": 47,
   "outputs": [
    {
     "name": "stdout",
     "output_type": "stream",
     "text": [
      "+----------+------------+-------------+----------------------------------------+---------+-------------+--------+\n",
      "|tconst    |seasonNumber|episodeNumber|primaryTitle                            |startYear|averageRating|numVotes|\n",
      "+----------+------------+-------------+----------------------------------------+---------+-------------+--------+\n",
      "|tt0584449 |1           |1            |Space Pilot 3000                        |1999     |8.6          |4816    |\n",
      "|tt0756891 |1           |2            |The Series Has Landed                   |1999     |8.0          |3871    |\n",
      "|tt0756882 |1           |3            |I, Roommate                             |1999     |8.2          |3765    |\n",
      "|tt0756885 |1           |4            |Love's Labours Lost in Space            |1999     |8.1          |3593    |\n",
      "|tt0584438 |1           |5            |Fear of a Bot Planet                    |1999     |7.8          |3385    |\n",
      "|tt0584425 |1           |6            |A Fishful of Dollars                    |1999     |8.2          |3509    |\n",
      "|tt0756887 |1           |7            |My Three Suns                           |1999     |7.8          |3322    |\n",
      "|tt0584423 |1           |8            |A Big Piece of Garbage                  |1999     |8.0          |3290    |\n",
      "|tt0584441 |1           |9            |Hell Is Other Robots                    |1999     |8.0          |3390    |\n",
      "|tt0584426 |2           |1            |A Flight to Remember                    |1999     |8.2          |3316    |\n",
      "|tt0756886 |2           |2            |Mars University                         |1999     |7.7          |3144    |\n",
      "|tt0756892 |2           |3            |When Aliens Attack                      |1999     |8.0          |3045    |\n",
      "|tt0584439 |2           |4            |Fry and the Slurm Factory               |1999     |8.3          |3331    |\n",
      "|tt0756881 |2           |5            |I Second That Emotion                   |1999     |7.7          |2934    |\n",
      "|tt0766796 |2           |6            |Brannigan, Begin Again                  |1999     |7.9          |2946    |\n",
      "|tt0584427 |2           |7            |A Head in the Polls                     |1999     |7.6          |2870    |\n",
      "|tt0584465 |2           |8            |Xmas Story                              |1999     |8.1          |3071    |\n",
      "|tt0766798 |2           |9            |Why Must I Be a Crustacean in Love?     |2000     |8.0          |2939    |\n",
      "|tt0772479 |2           |10           |Put Your Head on My Shoulders           |2000     |7.5          |2753    |\n",
      "|tt0584445 |2           |11           |The Lesser of Two Evils                 |2000     |7.5          |2735    |\n",
      "|tt0584448 |2           |12           |Raging Bender                           |2000     |7.6          |2700    |\n",
      "|tt0766129 |2           |13           |A Bicyclops Built for Two               |2000     |8.0          |2868    |\n",
      "|tt0584442 |2           |14           |How Hermes Requisitioned His Groove Back|2000     |8.0          |2802    |\n",
      "|tt0584424 |2           |15           |A Clone of My Own                       |2000     |7.5          |2674    |\n",
      "|tt0584455 |2           |16           |The Deep South                          |2000     |7.8          |2790    |\n",
      "|tt0766130 |2           |17           |Bender Gets Made                        |2000     |7.6          |2657    |\n",
      "|tt0584457 |2           |18           |The Problem with Popplers               |2000     |8.5          |2952    |\n",
      "|tt0584447 |2           |19           |Mother's Day                            |2000     |7.8          |2661    |\n",
      "|tt0584432 |2           |20           |Anthology of Interest I                 |2000     |8.5          |2988    |\n",
      "|tt0768399 |3           |1            |The Honking                             |2000     |7.5          |2711    |\n",
      "|tt0584463 |3           |2            |War Is the H-Word                       |2000     |8.4          |2926    |\n",
      "|tt0584453 |3           |3            |The Cryonic Woman                       |2000     |7.4          |2600    |\n",
      "|tt0766131 |3           |4            |Parasites Lost                          |2001     |8.9          |3285    |\n",
      "|tt0584431 |3           |5            |Amazon Women in the Mood                |2001     |8.6          |3349    |\n",
      "|tt0584436 |3           |6            |Bendless Love                           |2001     |7.2          |2497    |\n",
      "|tt0756890 |3           |7            |The Day the Earth Stood Stupid          |2001     |8.5          |2788    |\n",
      "|tt0584451 |3           |8            |That's Lobstertainment!                 |2001     |7.1          |2531    |\n",
      "|tt0584452 |3           |9            |The Birdbot of Ice-Catraz               |2001     |7.5          |2484    |\n",
      "|tt0768678 |3           |10           |The Luck of the Fryrish                 |2001     |9.4          |5326    |\n",
      "|tt0584454 |3           |11           |The Cyber House Rules                   |2001     |7.7          |2523    |\n",
      "|tt0756883 |3           |12           |Insane in the Mainframe                 |2001     |8.1          |2638    |\n",
      "|tt0584435 |3           |13           |Bendin' in the Wind                     |2001     |7.3          |2547    |\n",
      "|tt0584462 |3           |14           |Time Keeps on Slipping                  |2001     |8.3          |2787    |\n",
      "|tt0584443 |3           |15           |I Dated a Robot                         |2001     |7.6          |2532    |\n",
      "|tt0756888 |4           |1            |Roswell That Ends Well                  |2001     |9.1          |3491    |\n",
      "|tt0584429 |4           |2            |A Tale of Two Santas                    |2001     |7.7          |2499    |\n",
      "|tt0756879 |4           |3            |Anthology of Interest II                |2002     |8.2          |2627    |\n",
      "|tt0584446 |4           |4            |Love and Rocket                         |2002     |7.7          |2493    |\n",
      "|tt0756884 |4           |5            |Leela's Homeworld                       |2002     |8.6          |2967    |\n",
      "|tt0756893 |4           |6            |Where the Buggalo Roam                  |2002     |7.5          |2413    |\n",
      "|tt0756878 |4           |7            |A Pharaoh to Remember                   |2002     |7.6          |2467    |\n",
      "|tt0756880 |4           |8            |Godfellas                               |2002     |8.8          |3442    |\n",
      "|tt0584440 |4           |9            |Future Stock                            |2002     |7.7          |2441    |\n",
      "|tt0584428 |4           |10           |A Leela of Her Own                      |2002     |7.0          |2364    |\n",
      "|tt0756889 |4           |11           |The 30% Iron Chef                       |2002     |7.6          |2373    |\n",
      "|tt0584464 |4           |12           |Where No Fan Has Gone Before            |2002     |8.3          |2888    |\n",
      "|tt0584437 |5           |1            |Crimes of the Hot                       |2002     |7.9          |2379    |\n",
      "|tt0584444 |5           |2            |Jurassic Bark                           |2002     |9.5          |6705    |\n",
      "|tt0584458 |5           |3            |The Route of All Evil                   |2002     |7.3          |2325    |\n",
      "|tt0584430 |5           |4            |A Taste of Freedom                      |2002     |7.8          |2355    |\n",
      "|tt0757482 |5           |5            |Kif Gets Knocked Up a Notch             |2003     |7.5          |2387    |\n",
      "|tt0757483 |5           |6            |Less Than Hero                          |2003     |7.7          |2367    |\n",
      "|tt0584450 |5           |7            |Teenage Mutant Leela's Hurdles          |2003     |8.3          |2480    |\n",
      "|tt0584460 |5           |8            |The Why of Fry                          |2003     |8.7          |2725    |\n",
      "|tt0584459 |5           |9            |The Sting                               |2003     |9.1          |3701    |\n",
      "|tt0757485 |5           |10           |The Farnsworth Parabox                  |2003     |8.9          |2946    |\n",
      "|tt0584461 |5           |11           |Three Hundred Big Boys                  |2003     |8.2          |2494    |\n",
      "|tt0584434 |5           |12           |Spanish Fry                             |2003     |7.6          |2349    |\n",
      "|tt0584433 |5           |13           |Bend Her                                |2003     |7.3          |2364    |\n",
      "|tt0757484 |5           |14           |Obsoletely Fabulous                     |2003     |7.7          |2302    |\n",
      "|tt0779827 |5           |15           |Bender Should Not Be Allowed on TV      |2003     |7.5          |2301    |\n",
      "|tt0584456 |5           |16           |The Devil's Hands Are Idle Playthings   |2003     |9.1          |3683    |\n",
      "|tt13018928|6           |1            |Bender's Big Score: Part 1              |2008     |7.8          |632     |\n",
      "|tt13018956|6           |2            |Bender's Big Score: Part 2              |2008     |7.9          |610     |\n",
      "|tt13018960|6           |3            |Bender's Big Score: Part 3              |2008     |8.0          |607     |\n",
      "|tt13018962|6           |4            |Bender's Big Score: Part 4              |2008     |8.2          |628     |\n",
      "|tt13018934|6           |5            |The Beast with a Billion Backs: Part 1  |2008     |7.3          |553     |\n",
      "|tt13018940|6           |6            |The Beast with a Billion Backs: Part 2  |2008     |7.2          |544     |\n",
      "|tt13019080|6           |7            |The Beast with a Billion Backs: Part 3  |2008     |7.2          |544     |\n",
      "|tt13018992|6           |8            |The Beast with a Billion Backs: Part 4  |2008     |7.2          |548     |\n",
      "|tt13018990|6           |9            |Bender's Game: Part 1                   |2009     |7.2          |530     |\n",
      "|tt13019020|6           |10           |Bender's Game: Part 2                   |2009     |7.3          |529     |\n",
      "|tt13019022|6           |11           |Bender's Game: Part 3                   |2009     |7.2          |526     |\n",
      "|tt13019118|6           |12           |Bender's Game: Part 4                   |2009     |7.3          |529     |\n",
      "|tt13019004|6           |13           |Into the Wild Green Yonder: Part 1      |2009     |7.4          |518     |\n",
      "|tt13019082|6           |14           |Into the Wild Green Yonder: Part 2      |2009     |7.2          |507     |\n",
      "|tt13019076|6           |15           |Into the Wild Green Yonder: Part 3      |2009     |7.3          |504     |\n",
      "|tt13019162|6           |16           |Into the Wild Green Yonder: Part 4      |2009     |7.5          |527     |\n",
      "|tt1620650 |7           |1            |Rebirth                                 |2010     |7.8          |2666    |\n",
      "|tt1630891 |7           |2            |In-A-Gadda-Da-Leela                     |2010     |7.1          |2403    |\n",
      "|tt1630892 |7           |3            |Attack of the Killer App                |2010     |7.6          |2454    |\n",
      "|tt1630893 |7           |4            |Proposition Infinity                    |2010     |7.2          |2265    |\n",
      "|tt1630894 |7           |5            |The Duh-Vinci Code                      |2010     |7.3          |2267    |\n",
      "|tt1630895 |7           |6            |Lethal Inspection                       |2010     |8.5          |2784    |\n",
      "|tt1630896 |7           |7            |The Late Philip J. Fry                  |2010     |9.3          |4192    |\n",
      "|tt1630897 |7           |8            |That Darn Katz!                         |2010     |7.2          |2148    |\n",
      "|tt1630898 |7           |9            |A Clockwork Origin                      |2010     |7.9          |2239    |\n",
      "|tt1630882 |7           |10           |The Prisoner of Benda                   |2010     |8.3          |2314    |\n",
      "|tt1630883 |7           |11           |Lrrreconcilable Ndndifferences          |2010     |7.2          |2040    |\n",
      "|tt1630884 |7           |12           |The Mutants Are Revolting               |2010     |7.5          |2002    |\n",
      "|tt1630885 |7           |13           |The Futurama Holiday Spectacular        |2010     |6.4          |2092    |\n",
      "|tt1630886 |8           |1            |Neutopia                                |2011     |7.4          |2122    |\n",
      "|tt1630887 |8           |2            |Benderama                               |2011     |7.6          |2088    |\n",
      "|tt1630888 |8           |3            |Ghost in the Machines                   |2011     |7.5          |1954    |\n",
      "|tt1630889 |8           |4            |Law and Oracle                          |2011     |8.1          |2086    |\n",
      "|tt1630890 |8           |5            |The Silence of the Clamps               |2011     |7.5          |1941    |\n",
      "|tt1642353 |8           |6            |Yo Leela Leela                          |2011     |6.8          |1963    |\n",
      "|tt1642354 |8           |7            |All the Presidents' Heads               |2011     |7.3          |1900    |\n",
      "|tt1642355 |8           |8            |Möbius Dick                             |2011     |7.3          |1925    |\n",
      "|tt1642356 |8           |9            |Fry Am the Egg Man                      |2011     |7.2          |1840    |\n",
      "|tt1642357 |8           |10           |The Tip of the Zoidberg                 |2011     |7.7          |1954    |\n",
      "|tt1642358 |8           |11           |Cold Warriors                           |2011     |7.7          |1949    |\n",
      "|tt1642359 |8           |12           |Overclockwise                           |2011     |8.0          |1991    |\n",
      "|tt1642360 |8           |13           |Reincarnation                           |2011     |7.9          |2157    |\n",
      "|tt1952190 |9           |1            |The Bots and the Bees                   |2012     |7.7          |2138    |\n",
      "|tt2005609 |9           |2            |A Farewell to Arms                      |2012     |7.5          |1920    |\n",
      "|tt2005617 |9           |3            |Decision 3012                           |2012     |7.5          |1960    |\n",
      "|tt2005618 |9           |4            |The Thief of Baghead                    |2012     |7.2          |1853    |\n",
      "|tt2005619 |9           |5            |Zapp Dingbat                            |2012     |7.0          |1821    |\n",
      "|tt2005620 |9           |6            |The Butterjunk Effect                   |2012     |6.9          |1860    |\n",
      "|tt2005621 |9           |7            |The Six Million Dollar Mon              |2012     |7.2          |1856    |\n",
      "|tt2005622 |9           |8            |Fun on a Bun                            |2012     |7.6          |1893    |\n",
      "|tt2005623 |9           |9            |Free Will Hunting                       |2012     |7.2          |1799    |\n",
      "|tt2005599 |9           |10           |Near-Death Wish                         |2012     |7.6          |1865    |\n",
      "|tt2005601 |9           |11           |Viva Mars Vegas                         |2012     |7.5          |1769    |\n",
      "|tt2005600 |9           |12           |31st Century Fox                        |2012     |7.1          |1788    |\n",
      "|tt2005602 |9           |13           |Naturama                                |2012     |7.1          |1984    |\n",
      "|tt2005603 |10          |1            |2-D Blacktop                            |2013     |7.2          |1858    |\n",
      "|tt2005604 |10          |2            |Fry and Leela's Big Fling               |2013     |7.9          |1884    |\n",
      "|tt2005605 |10          |3            |T.: The Terrestrial                     |2013     |7.3          |1801    |\n",
      "|tt2005606 |10          |4            |Forty Percent Leadbelly                 |2013     |6.6          |1853    |\n",
      "|tt2005607 |10          |5            |The Inhuman Torch                       |2013     |7.2          |1785    |\n",
      "|tt2005608 |10          |6            |Saturday Morning Fun Pit                |2013     |6.8          |2074    |\n",
      "|tt2005610 |10          |7            |Calculon 2.0                            |2013     |7.1          |1796    |\n",
      "|tt2005611 |10          |8            |Assie Come Home                         |2013     |7.1          |1791    |\n",
      "|tt2005612 |10          |9            |Leela and the Genestalk                 |2013     |7.0          |1749    |\n",
      "|tt2005613 |10          |10           |Game of Tones                           |2013     |8.5          |2487    |\n",
      "|tt2005614 |10          |11           |Murder on the Planet Express            |2013     |8.5          |2135    |\n",
      "|tt2005615 |10          |12           |Stench and Stenchibility                |2013     |7.9          |2099    |\n",
      "|tt2005616 |10          |13           |Meanwhile                               |2013     |9.4          |4427    |\n",
      "|tt18114790|11          |1            |The Impossible Stream                   |2023     |7.3          |2467    |\n",
      "|tt21814884|11          |2            |Children of a Lesser Bog                |2023     |6.9          |1645    |\n",
      "|tt21814938|11          |3            |How the West Was 1010001                |2023     |6.8          |1465    |\n",
      "|tt21814942|11          |4            |Parasites Regained                      |2023     |6.8          |1304    |\n",
      "|tt21814424|11          |5            |Related to Items You've Viewed          |2023     |7.6          |1197    |\n",
      "|tt21814940|11          |6            |I Know What You Did Next Xmas           |2023     |7.5          |1136    |\n",
      "|tt21813110|11          |7            |Rage Against the Vaccine                |2023     |6.3          |1262    |\n",
      "|tt21813570|11          |8            |Zapp Gets Canceled                      |2023     |7.1          |920     |\n",
      "|tt21814106|11          |9            |The Prince and the Product              |2023     |4.5          |1517    |\n",
      "|tt21814946|11          |10           |All the Way Down                        |2023     |8.1          |1023    |\n",
      "+----------+------------+-------------+----------------------------------------+---------+-------------+--------+\n"
     ]
    }
   ],
   "source": [
    "futurama_df = (episode_df\n",
    "                .filter(episode_df.parentTconst == \n",
    "                        basics_df\n",
    "                           .filter((basics_df.primaryTitle == 'Futurama') & (basics_df.titleType == 'tvSeries') & (basics_df.startYear == 1999))\n",
    "                           .select('tconst').collect()[0][0]\n",
    "                        )\n",
    "                .join(ratings_df.withColumnRenamed('tconst', 'rtconst'), \n",
    "                      col('rtconst') == episode_df.tconst)\n",
    "                .join(basics_df.withColumnRenamed('tconst', 'btconst'),\n",
    "                      col('btconst') == episode_df.tconst)\n",
    "                .orderBy('seasonNumber', 'episodeNumber')\n",
    "                .select('tconst', 'seasonNumber', 'episodeNumber', 'primaryTitle', 'startYear', 'averageRating', 'numVotes')\n",
    "                )\n",
    "\n",
    "futurama_df.show(1000, False)"
   ],
   "metadata": {
    "collapsed": false,
    "ExecuteTime": {
     "end_time": "2023-12-02T18:32:40.269539900Z",
     "start_time": "2023-12-02T18:31:54.282592900Z"
    }
   },
   "id": "d61c00d05bb9f9c5"
  }
 ],
 "metadata": {
  "kernelspec": {
   "display_name": "Python 3",
   "language": "python",
   "name": "python3"
  },
  "language_info": {
   "codemirror_mode": {
    "name": "ipython",
    "version": 2
   },
   "file_extension": ".py",
   "mimetype": "text/x-python",
   "name": "python",
   "nbconvert_exporter": "python",
   "pygments_lexer": "ipython2",
   "version": "2.7.6"
  }
 },
 "nbformat": 4,
 "nbformat_minor": 5
}
