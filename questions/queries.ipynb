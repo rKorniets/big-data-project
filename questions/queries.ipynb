{
 "cells": [
  {
   "cell_type": "code",
   "execution_count": 1,
   "metadata": {
    "ExecuteTime": {
     "end_time": "2023-12-02T20:14:11.406008200Z",
     "start_time": "2023-12-02T20:14:10.391714900Z"
    }
   },
   "outputs": [
    {
     "name": "stdout",
     "output_type": "stream",
     "text": [
      "C:\\Users\\Dima\\Desktop\\Навчання\\7 семестр\\Біг дата\\big-data-project\n"
     ]
    }
   ],
   "source": [
    "import sys\n",
    "import os\n",
    "\n",
    "sys.path.insert(0, os.path.dirname(os.getcwd()))\n",
    "\n",
    "from pyspark import SparkConf\n",
    "from pyspark.sql import SparkSession\n",
    "from pyspark.sql.types import StructType, StructField, StringType, IntegerType\n",
    "from pyspark.sql.functions import col, rand, split, explode, regexp_replace, corr\n",
    "\n",
    "from schemas.dataframes import get_episode_df, get_basics_df, get_akas_df, get_crew_df, get_principals_df, get_ratings_df, get_name_df"
   ]
  },
  {
   "cell_type": "code",
   "execution_count": 2,
   "metadata": {
    "ExecuteTime": {
     "end_time": "2023-12-02T20:14:55.448824Z",
     "start_time": "2023-12-02T20:14:11.284857300Z"
    }
   },
   "outputs": [],
   "source": [
    "spark_session = (SparkSession.builder\n",
    "                             .master('local')\n",
    "                             .appName('test app')\n",
    "                             .config(conf=SparkConf())\n",
    "                             .getOrCreate())"
   ]
  },
  {
   "cell_type": "code",
   "execution_count": 3,
   "metadata": {
    "ExecuteTime": {
     "end_time": "2023-12-02T20:14:59.044175200Z",
     "start_time": "2023-12-02T20:14:55.451814700Z"
    }
   },
   "outputs": [],
   "source": [
    "title_episode = get_episode_df(spark_session)\n",
    "\n",
    "title_crew = get_crew_df (spark_session)\n",
    " \n",
    "title_principals = get_principals_df (spark_session)\n",
    "\n",
    "title_name = get_name_df(spark_session)\n",
    "\n",
    "title_basic = get_basics_df(spark_session)\n",
    "\n",
    "title_akas = get_akas_df(spark_session)\n",
    "\n",
    "rating = get_ratings_df(spark_session)"
   ]
  },
  {
   "cell_type": "markdown",
   "metadata": {},
   "source": [
    "№1: Актори з кількістю ролей в фільмах для дорослих"
   ]
  },
  {
   "cell_type": "code",
   "execution_count": 4,
   "metadata": {
    "ExecuteTime": {
     "end_time": "2023-12-02T20:20:18.039943100Z",
     "start_time": "2023-12-02T20:14:59.053623200Z"
    }
   },
   "outputs": [
    {
     "name": "stdout",
     "output_type": "stream",
     "text": [
      "+-------------+-----------------+\n",
      "|numAdultFilms|      primaryName|\n",
      "+-------------+-----------------+\n",
      "|           33|   David Ashfield|\n",
      "|           13|     David Cannon|\n",
      "|            1|Michael Carpenter|\n",
      "|           10|       Dan Cooper|\n",
      "|            3|       Nic Cramer|\n",
      "|            1|  Jackson Dedeaux|\n",
      "|            1|      Arem Fisher|\n",
      "|            6|      Jeremy Iron|\n",
      "|            8|    Jeremy Joshua|\n",
      "|            1|   Stephen Lester|\n",
      "|           16|      David Luger|\n",
      "|           10|      Nick Marino|\n",
      "|           25|   Johnny Mercury|\n",
      "|            1|     Brad Philips|\n",
      "|            6| Christopher Rage|\n",
      "|            2|     Steven Ryder|\n",
      "|          421|   Julian St. Jox|\n",
      "|           12|      Damian Zeus|\n",
      "|            3|      Charlie Boy|\n",
      "|            2|     Robert Horne|\n",
      "+-------------+-----------------+\n"
     ]
    }
   ],
   "source": [
    "from pyspark.sql.functions import count, array_contains, desc\n",
    "\n",
    "# Приєднання title_principals із title_basic\n",
    "adult_actors = (\n",
    "    title_principals\n",
    "    .join(title_basic, title_principals['tconst'] == title_basic['tconst'], 'inner')\n",
    "    .filter((array_contains(title_basic['genres'], 'Adult')) & (title_principals[\"category\"] == \"actor\"))\n",
    "    .groupBy(title_principals['nconst'])\n",
    "    .agg(count(title_principals['tconst']).alias(\"numAdultFilms\"))\n",
    "    .orderBy(desc(\"numAdultFilms\"))\n",
    ")\n",
    "\n",
    "# Отримання імен акторів з title_name за допомогою nconst\n",
    "result = (\n",
    "    adult_actors\n",
    "    .join(title_name, adult_actors['nconst'] == title_name['nconst'], 'inner')\n",
    "    .select(adult_actors['numAdultFilms'], title_name['primaryName'])\n",
    ")\n",
    "\n",
    "result.show()\n"
   ]
  },
  {
   "cell_type": "markdown",
   "metadata": {},
   "source": [
    "№2: Фільми для дорослих німецькою мовою"
   ]
  },
  {
   "cell_type": "code",
   "execution_count": 5,
   "metadata": {
    "ExecuteTime": {
     "end_time": "2023-12-02T20:24:10.586898500Z",
     "start_time": "2023-12-02T20:20:18.133910500Z"
    }
   },
   "outputs": [
    {
     "name": "stdout",
     "output_type": "stream",
     "text": [
      "+--------------------+--------------------+--------+---------+-------+\n",
      "|        primaryTitle|       originalTitle|language|startYear| genres|\n",
      "+--------------------+--------------------+--------+---------+-------+\n",
      "|Episode dated 30 ...|Episode dated 30 ...|      de|     2013|[Adult]|\n",
      "|Episode dated 15 ...|Episode dated 15 ...|      de|     2019|[Adult]|\n",
      "|Episode dated 23 ...|Episode dated 23 ...|      de|     2013|[Adult]|\n",
      "|Episode dated 18 ...|Episode dated 18 ...|      de|     2013|[Adult]|\n",
      "|Episode dated 3 J...|Episode dated 3 J...|      de|     2014|[Adult]|\n",
      "|Episode dated 20 ...|Episode dated 20 ...|      de|     2015|[Adult]|\n",
      "|Episode dated 27 ...|Episode dated 27 ...|      de|     2020|[Adult]|\n",
      "|Episode dated 26 ...|Episode dated 26 ...|      de|     2014|[Adult]|\n",
      "|Episode dated 5 D...|Episode dated 5 D...|      de|     2014|[Adult]|\n",
      "|Episode dated 10 ...|Episode dated 10 ...|      de|     2017|[Adult]|\n",
      "+--------------------+--------------------+--------+---------+-------+\n"
     ]
    }
   ],
   "source": [
    "from pyspark.sql.functions import col, rand, array_contains\n",
    "\n",
    "# Об'єднання даних за допомогою titleId як ключа\n",
    "joined_df = title_akas.join(title_basic, title_akas['titleId'] == title_basic['tconst'], 'inner')\n",
    "\n",
    "# Фільтрація для фільмів для дорослих німецькою мовою\n",
    "adult_german_movies = (\n",
    "    joined_df\n",
    "    .filter((array_contains(col('genres'), 'Adult')) & (col('language') == 'de'))\n",
    "    .orderBy(rand())\n",
    "    .select(\"primaryTitle\", \"originalTitle\", \"language\", \"startYear\", \"genres\")\n",
    "    .limit(10)\n",
    ")\n",
    "\n",
    "# Виведення результатів\n",
    "adult_german_movies.show()"
   ]
  },
  {
   "cell_type": "markdown",
   "metadata": {},
   "source": [
    "№3: Продубльовані фільми українською в період з 1945 по 1991 рік"
   ]
  },
  {
   "cell_type": "code",
   "execution_count": 6,
   "metadata": {
    "ExecuteTime": {
     "end_time": "2023-12-02T20:25:44.704646100Z",
     "start_time": "2023-12-02T20:24:10.580897500Z"
    }
   },
   "outputs": [
    {
     "name": "stdout",
     "output_type": "stream",
     "text": [
      "+--------------------+--------------------+--------+---------+--------------------+\n",
      "|        primaryTitle|       originalTitle|language|startYear|              genres|\n",
      "+--------------------+--------------------+--------+---------+--------------------+\n",
      "|Seym vykhodit iz ...|Seym vykhodit iz ...|      uk|     1962|             [Drama]|\n",
      "| Vremya: moskovskoye| Vremya: moskovskoye|      uk|     1977|             [Drama]|\n",
      "| U prizrakov v plenu| U prizrakov v plenu|      uk|     1984|             [Drama]|\n",
      "|Curse of Snakes V...|  Klatwa doliny wezy|      uk|     1988|[Adventure, Sci-F...|\n",
      "|             Alyonka|             Alyonka|      uk|     1962|            [Comedy]|\n",
      "|      Love and Doves|     Lyubov i golubi|      uk|     1985|[Comedy, Drama, R...|\n",
      "|Posilka dlja Marg...|Posilka dlja Marg...|      uk|     1990|             [Short]|\n",
      "|          Beztalanna|          Beztalanna|      uk|     1966|    [Drama, Romance]|\n",
      "|          Kievlyanka|          Kievlyanka|      uk|     1958|             [Drama]|\n",
      "|Doraemon: Nobita ...|Doraemon: Nobita ...|      uk|     1989|[Adventure, Anima...|\n",
      "+--------------------+--------------------+--------+---------+--------------------+\n"
     ]
    }
   ],
   "source": [
    "ukr_movies = (\n",
    "    title_akas\n",
    "    .join(title_basic, title_akas['titleId'] == title_basic['tconst'], 'inner')\n",
    "    .filter((col(\"language\") == \"uk\") & (col(\"startYear\") < 1991) & (col(\"startYear\") > 1945))\n",
    "    .orderBy(rand())\n",
    "    .select(\"primaryTitle\", \"originalTitle\", \"language\", \"startYear\", \"genres\")\n",
    "    .limit(10)\n",
    ")\n",
    "\n",
    "ukr_movies.show()"
   ]
  },
  {
   "cell_type": "markdown",
   "metadata": {},
   "source": [
    "№4: Які телесеріали з німецькою озвучкою мають найбільшу кількість сезонів?"
   ]
  },
  {
   "cell_type": "code",
   "execution_count": 7,
   "metadata": {
    "ExecuteTime": {
     "end_time": "2023-12-02T20:28:11.551974600Z",
     "start_time": "2023-12-02T20:25:44.722566200Z"
    }
   },
   "outputs": [
    {
     "name": "stdout",
     "output_type": "stream",
     "text": [
      "+--------------------+--------+---------------+\n",
      "|        primaryTitle|language|maxSeasonNumber|\n",
      "+--------------------+--------+---------------+\n",
      "|Jeux sans frontières|      de|             30|\n",
      "|The Jimmy Star Sh...|      de|             28|\n",
      "|Perry Como's Kraf...|      de|             19|\n",
      "|CSI: Crime Scene ...|      de|             15|\n",
      "|New York Philharm...|      de|             15|\n",
      "|Married... with C...|      de|             11|\n",
      "| Hubert ohne Staller|      de|             11|\n",
      "|               Druck|      de|              8|\n",
      "|               Elite|      de|              8|\n",
      "|      The Loud House|      de|              7|\n",
      "|Alfred Hitchcock ...|      de|              7|\n",
      "|Little Mosque on ...|      de|              6|\n",
      "|Alvinnn!!! And th...|      de|              6|\n",
      "|      Peaky Blinders|      de|              6|\n",
      "|           The Nanny|      de|              6|\n",
      "|   The Dragon Prince|      de|              6|\n",
      "|             Dynasty|      de|              5|\n",
      "|Miraculous: Tales...|      de|              5|\n",
      "|  Masha and the Bear|      de|              5|\n",
      "|            PJ Masks|      de|              5|\n",
      "+--------------------+--------+---------------+\n"
     ]
    }
   ],
   "source": [
    "de_tv_series = (\n",
    "    title_akas\n",
    "    .join(title_basic, title_akas['titleId'] == title_basic['tconst'], 'inner')\n",
    "    .join(rating, title_basic['tconst'] == rating['tconst'])\n",
    "    .filter((col(\"language\") == \"de\") & (col(\"titleType\") == \"tvSeries\"))\n",
    "    .join(title_episode, title_basic['tconst'] == title_episode['parentTconst'], 'left_outer')\n",
    "    .groupBy(\"primaryTitle\", \"language\")\n",
    "    .agg({\"seasonNumber\": \"max\"})\n",
    "    .withColumnRenamed(\"max(seasonNumber)\", \"maxSeasonNumber\")\n",
    "    .orderBy(col(\"maxSeasonNumber\").desc())\n",
    ")\n",
    "\n",
    "de_tv_series.show()\n"
   ]
  },
  {
   "cell_type": "markdown",
   "metadata": {},
   "source": [
    "№5: Які режисери мають найбільшу кількість короткометражок?"
   ]
  },
  {
   "cell_type": "code",
   "execution_count": 8,
   "metadata": {
    "ExecuteTime": {
     "end_time": "2023-12-02T20:29:12.727879800Z",
     "start_time": "2023-12-02T20:28:11.568310700Z"
    }
   },
   "outputs": [
    {
     "name": "stdout",
     "output_type": "stream",
     "text": [
      "+-------------+-------------------+\n",
      "|numShortFilms|        primaryName|\n",
      "+-------------+-------------------+\n",
      "|          105|        Otis Turner|\n",
      "|           32|        Ray McCarey|\n",
      "|           13|       Stuart Paton|\n",
      "|            1|      Eduardo Serra|\n",
      "|            7|        Stephen Low|\n",
      "|            4|     Myriam Braniff|\n",
      "|            1|    Rees A. Savidis|\n",
      "|            1|      Margaret Dodd|\n",
      "|            1|  Juan Miguel Lamet|\n",
      "|            1|Manuel López Yubero|\n",
      "|            1|          Dror Sabo|\n",
      "|            3|   Carsten Fiebeler|\n",
      "|            5|          Jan Nemec|\n",
      "|            4|          José Bohr|\n",
      "|           26|  Stjepan Zaninovic|\n",
      "|            1|   Nicolai Albrecht|\n",
      "|            3|        Jonas Elmer|\n",
      "|            1|       Jack Couffer|\n",
      "|            3|     Alan Cullimore|\n",
      "|           11|     Grant Crabtree|\n",
      "+-------------+-------------------+\n"
     ]
    }
   ],
   "source": [
    "from pyspark.sql.functions import count, desc\n",
    "\n",
    "# Приєднання title_crew і title_basic\n",
    "short_film_directors = (\n",
    "    title_crew\n",
    "    .join(title_basic, title_crew['tconst'] == title_basic['tconst'], 'inner')\n",
    "    .filter((col(\"titleType\") == \"short\"))\n",
    "    .groupBy(title_crew['directors'])\n",
    "    .agg(count(title_crew['tconst']).alias(\"numShortFilms\"))\n",
    "    .orderBy(desc(\"numShortFilms\"))\n",
    ")\n",
    "\n",
    "# Отримання імен режисерів з title_name за допомогою nconst\n",
    "result = (\n",
    "    short_film_directors\n",
    "    .join(title_name, array_contains(short_film_directors['directors'], title_name['nconst']), 'inner')\n",
    "    .select(short_film_directors['numShortFilms'], title_name['primaryName'])\n",
    ")\n",
    "\n",
    "result.show()\n"
   ]
  },
  {
   "cell_type": "markdown",
   "metadata": {},
   "source": [
    "№6: Топ-10 Актори з найкращою оцінкою фільмів, де вони знімались"
   ]
  },
  {
   "cell_type": "code",
   "execution_count": 11,
   "outputs": [
    {
     "name": "stdout",
     "output_type": "stream",
     "text": [
      "+-------------------+-------------+\n",
      "|       primaryTitle|averageRating|\n",
      "+-------------------+-------------+\n",
      "|      Edna balgarka|         10.0|\n",
      "|Closed for Business|         10.0|\n",
      "|The Last Days of Ki|         10.0|\n",
      "| A Boy and His Hand|         10.0|\n",
      "|      Edna balgarka|         10.0|\n",
      "|Closed for Business|         10.0|\n",
      "|             Heroes|         10.0|\n",
      "|         Hot Doggie|         10.0|\n",
      "|             Heroes|         10.0|\n",
      "|         Hot Doggie|         10.0|\n",
      "+-------------------+-------------+\n"
     ]
    }
   ],
   "source": [
    "# Об'єднайте файли\n",
    "short_films_ratings = (\n",
    "    title_akas\n",
    "    .join(title_basic, title_akas['titleId'] == title_basic['tconst'], 'inner')\n",
    "    .join(rating, title_basic['tconst'] == rating['tconst'])\n",
    "    .filter((col(\"titleType\") == \"short\"))\n",
    "    .select(\"primaryTitle\", \"averageRating\")\n",
    ")\n",
    "\n",
    "# Знайдіть фільм із найвищим рейтингом серед короткометражок\n",
    "top_short_film = (\n",
    "    short_films_ratings\n",
    "    .orderBy(col(\"averageRating\").desc())\n",
    "    .limit(10)\n",
    ")\n",
    "\n",
    "# Виведіть результат\n",
    "top_short_film.show()"
   ],
   "metadata": {
    "collapsed": false,
    "ExecuteTime": {
     "end_time": "2023-12-02T20:50:03.634246600Z",
     "start_time": "2023-12-02T20:47:08.132065600Z"
    }
   }
  },
  {
   "cell_type": "code",
   "execution_count": null,
   "outputs": [],
   "source": [],
   "metadata": {
    "collapsed": false
   }
  }
 ],
 "metadata": {
  "kernelspec": {
   "display_name": "venv",
   "language": "python",
   "name": "python3"
  },
  "language_info": {
   "codemirror_mode": {
    "name": "ipython",
    "version": 3
   },
   "file_extension": ".py",
   "mimetype": "text/x-python",
   "name": "python",
   "nbconvert_exporter": "python",
   "pygments_lexer": "ipython3",
   "version": "3.11.6"
  }
 },
 "nbformat": 4,
 "nbformat_minor": 2
}
