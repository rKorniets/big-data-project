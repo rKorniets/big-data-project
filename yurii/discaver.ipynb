{
 "cells": [
  {
   "cell_type": "markdown",
   "metadata": {},
   "source": [
    "### Import"
   ]
  },
  {
   "cell_type": "code",
   "execution_count": 1,
   "metadata": {},
   "outputs": [
    {
     "name": "stdout",
     "output_type": "stream",
     "text": [
      "/app/big-data-project/pukhta\n",
      "/app/big-data-project\n",
      "/app\n"
     ]
    }
   ],
   "source": [
    "import sys\n",
    "import os\n",
    "import pyspark.sql.types as t\n",
    "sys.path.insert(0, os.path.dirname(os.getcwd()))\n",
    "\n",
    "from pyspark import SparkConf\n",
    "from pyspark.sql import SparkSession\n",
    "from pyspark.sql.types import StructType, StructField, StringType, IntegerType\n",
    "from pyspark.sql.functions import col, rand, split, explode, regexp_replace, corr, desc, countDistinct, row_number, mean, count, array_contains, size\n",
    "\n",
    "from schemas.dataframes import get_episode_df, get_basics_df, get_akas_df, get_crew_df, get_principals_df, get_ratings_df, get_name_df, project_dir"
   ]
  },
  {
   "cell_type": "code",
   "execution_count": 2,
   "metadata": {},
   "outputs": [
    {
     "name": "stderr",
     "output_type": "stream",
     "text": [
      "Using Spark's default log4j profile: org/apache/spark/log4j-defaults.properties\n",
      "Setting default log level to \"WARN\".\n",
      "To adjust logging level use sc.setLogLevel(newLevel). For SparkR, use setLogLevel(newLevel).\n",
      "23/12/03 14:59:48 WARN NativeCodeLoader: Unable to load native-hadoop library for your platform... using builtin-java classes where applicable\n"
     ]
    }
   ],
   "source": [
    "spark_session = (SparkSession.builder\n",
    "                             .master('local')\n",
    "                             .appName('test app')\n",
    "                             .config(conf=SparkConf())\n",
    "                             .getOrCreate())"
   ]
  },
  {
   "cell_type": "code",
   "execution_count": 3,
   "metadata": {},
   "outputs": [],
   "source": [
    "title_episode = get_episode_df(spark_session)\n",
    "\n",
    "title_basic = get_basics_df(spark_session)\n",
    "\n",
    "title_akas = get_akas_df(spark_session)\n",
    "\n",
    "rating = get_ratings_df(spark_session)\n",
    "\n",
    "crew = get_crew_df(spark_session)\n",
    "\n",
    "name = get_name_df(spark_session)\n",
    "\n",
    "principals = get_principals_df(spark_session)"
   ]
  },
  {
   "cell_type": "markdown",
   "metadata": {},
   "source": [
    "### Query 1 Фільми де рІжесер був сценаристом"
   ]
  },
  {
   "cell_type": "code",
   "execution_count": null,
   "metadata": {},
   "outputs": [
    {
     "name": "stderr",
     "output_type": "stream",
     "text": [
      "[Stage 50:===========================================>              (3 + 1) / 4]\r"
     ]
    },
    {
     "name": "stdout",
     "output_type": "stream",
     "text": [
      "+--------------------+--------------------+\n",
      "|       originalTitle|         primaryName|\n",
      "+--------------------+--------------------+\n",
      "|          Miss Jerry|     Alexander Black|\n",
      "|     The Magic Sword|     Walter R. Booth|\n",
      "|The Story of the ...|        Charles Tait|\n",
      "|Attack on a China...|    James Williamson|\n",
      "| Histoire d'un crime|     Ferdinand Zecca|\n",
      "|   L'enfant prodigue|        Michel Carré|\n",
      "|An Awful Skate; o...|Gilbert M. 'Bronc...|\n",
      "|Los guapos del pa...|   Segundo de Chomón|\n",
      "|      Se da de comer|   Segundo de Chomón|\n",
      "| Los sitios de Chile|   Segundo de Chomón|\n",
      "|La muerte del tirano|       Narciso Cuyàs|\n",
      "|     An Awful Moment|       D.W. Griffith|\n",
      "| Balked at the Altar|       D.W. Griffith|\n",
      "|The Bandit's Wate...|       D.W. Griffith|\n",
      "|   Behind the Scenes|       D.W. Griffith|\n",
      "|Betrayed by a Han...|       D.W. Griffith|\n",
      "|A Calamitous Elop...|       D.W. Griffith|\n",
      "|The Call of the Wild|       D.W. Griffith|\n",
      "|     Riña en un café|   Fructuós Gelabert|\n",
      "|             Dorotea|   Fructuós Gelabert|\n",
      "+--------------------+--------------------+\n",
      "only showing top 20 rows\n",
      "\n"
     ]
    },
    {
     "name": "stderr",
     "output_type": "stream",
     "text": [
      "                                                                                \r"
     ]
    }
   ],
   "source": [
    "films = (\n",
    "        crew.alias('c').filter(col(\"c.directors\") == col(\"c.writers\"))\n",
    "        .na.drop()\n",
    "        .limit(100)\n",
    "        .join(title_basic, crew['tconst'] == title_basic['tconst'])\n",
    "        .join(name, crew['directors'][0] == name['nconst'])\n",
    "        .select('originalTitle', 'primaryName')\n",
    "        .limit(10)\n",
    ")\n",
    "\n",
    "\n",
    "films.show()"
   ]
  },
  {
   "cell_type": "markdown",
   "metadata": {},
   "source": [
    "### Query 2 Найдовший Гамериканський серіал"
   ]
  },
  {
   "cell_type": "code",
   "execution_count": 15,
   "metadata": {},
   "outputs": [
    {
     "name": "stderr",
     "output_type": "stream",
     "text": [
      "[Stage 49:>                                                         (0 + 1) / 1]\r"
     ]
    },
    {
     "name": "stdout",
     "output_type": "stream",
     "text": [
      "+--------------------+------------+\n",
      "|               title|seasonNumber|\n",
      "+--------------------+------------+\n",
      "|The New Price Is ...|          52|\n",
      "+--------------------+------------+\n",
      "\n"
     ]
    },
    {
     "name": "stderr",
     "output_type": "stream",
     "text": [
      "                                                                                \r"
     ]
    }
   ],
   "source": [
    "merged_data = (\n",
    "    title_akas.alias('a').filter((col(\"a.region\") == 'US') & (col(\"a.isOriginalTitle\") == 1))\n",
    "    .join(title_episode.alias('e'), title_akas[\"titleId\"] == title_episode[\"parentTconst\"])\n",
    "    .select(col(\"a.title\"), col(\"e.seasonNumber\"))\n",
    "    .orderBy(col(\"e.seasonNumber\").desc())\n",
    "    .limit(1)\n",
    ")\n",
    "                           \n",
    "merged_data.show()"
   ]
  },
  {
   "cell_type": "markdown",
   "metadata": {},
   "source": [
    "### Query 3 Фільм з найбільшою кількістю акторів"
   ]
  },
  {
   "cell_type": "code",
   "execution_count": 4,
   "metadata": {},
   "outputs": [
    {
     "name": "stderr",
     "output_type": "stream",
     "text": [
      "23/12/03 15:03:47 WARN RowBasedKeyValueBatch: Calling spill() on RowBasedKeyValueBatch. Will not spill but return 0.\n",
      "23/12/03 15:03:47 WARN RowBasedKeyValueBatch: Calling spill() on RowBasedKeyValueBatch. Will not spill but return 0.\n",
      "23/12/03 15:03:49 WARN RowBasedKeyValueBatch: Calling spill() on RowBasedKeyValueBatch. Will not spill but return 0.\n",
      "23/12/03 15:03:49 WARN RowBasedKeyValueBatch: Calling spill() on RowBasedKeyValueBatch. Will not spill but return 0.\n",
      "[Stage 4:=============================>                             (1 + 1) / 2]\r"
     ]
    },
    {
     "name": "stdout",
     "output_type": "stream",
     "text": [
      "+----------+--------------------+-----------+\n",
      "|    tconst|       originalTitle|actor_count|\n",
      "+----------+--------------------+-----------+\n",
      "| tt0933766|        The Roommate|         10|\n",
      "|tt12310790|   Cholo Meat Demons|         10|\n",
      "| tt0969720|M.O.N.A.Y (Mistey...|         10|\n",
      "|tt10719600|Tomorrowland: 10 ...|         10|\n",
      "|tt12206566|     500 Great Goals|         10|\n",
      "|tt10985028|             The End|         10|\n",
      "|tt10012854|P.O.W. Open Air a...|         10|\n",
      "|tt11981948|Liverpool FC vs L...|         10|\n",
      "|tt10453224|     Year of the Dog|         10|\n",
      "|tt10443410|       Ninja Drones?|         10|\n",
      "+----------+--------------------+-----------+\n",
      "\n"
     ]
    },
    {
     "name": "stderr",
     "output_type": "stream",
     "text": [
      "                                                                                \r"
     ]
    }
   ],
   "source": [
    "movie_actors_count = (\n",
    "    title_basic.filter((title_basic.startYear.isNotNull()) & (title_basic.startYear >= 2000) & ((title_basic.titleType == 'movie') | (title_basic.titleType == 'tvMovie')))\\\n",
    "    .join(principals, (title_basic.tconst == principals.tconst))\n",
    "    .filter(principals.category == 'actor')\n",
    "    .groupBy(principals.tconst, title_basic.originalTitle)\n",
    "    .agg(count(principals.tconst).alias('actor_count'))\n",
    "    .orderBy(col(\"actor_count\").desc())\n",
    "    .limit(10)\n",
    ")\n",
    "\n",
    "movie_actors_count.show()"
   ]
  },
  {
   "cell_type": "markdown",
   "metadata": {},
   "source": [
    "### Query 4 Українське фестивальне кіно"
   ]
  },
  {
   "cell_type": "code",
   "execution_count": 9,
   "metadata": {},
   "outputs": [
    {
     "name": "stderr",
     "output_type": "stream",
     "text": [
      "[Stage 24:================================================>       (13 + 1) / 15]\r"
     ]
    },
    {
     "name": "stdout",
     "output_type": "stream",
     "text": [
      "+--------------------+------+-----------+\n",
      "|               title|region|is_festival|\n",
      "+--------------------+------+-----------+\n",
      "|    Океанська знайда|    UA|       true|\n",
      "|Голем: як він при...|    UA|       true|\n",
      "|Бунтівник без при...|    UA|       true|\n",
      "|Зловмисники невідомі|    UA|       true|\n",
      "|Дехто любить гаря...|    UA|       true|\n",
      "|       Крізь шпарину|    UA|       true|\n",
      "|  Торік у Марієнбаді|    UA|       true|\n",
      "|2001 рік: Космічн...|    UA|       true|\n",
      "|                 Гра|    UA|       true|\n",
      "|             Якщо...|    UA|       true|\n",
      "+--------------------+------+-----------+\n",
      "\n"
     ]
    },
    {
     "name": "stderr",
     "output_type": "stream",
     "text": [
      "                                                                                \r"
     ]
    }
   ],
   "source": [
    "ukrainian_movies = (\n",
    "    title_akas.filter(title_akas.region == 'UA')\n",
    "    .withColumn(\"is_festival\",   array_contains(title_akas.types, 'festival'))\n",
    "    .filter( 'is_festival')\n",
    "    .select(title_akas.title, title_akas.region, \"is_festival\")\n",
    "    .limit(10)\n",
    ")\n",
    "\n",
    "ukrainian_movies.show()"
   ]
  },
  {
   "cell_type": "markdown",
   "metadata": {},
   "source": [
    "### Query 5 Середня оцінка фільму по режисеру(сортування за зменшеням рейтингу режисера)"
   ]
  },
  {
   "cell_type": "code",
   "execution_count": 45,
   "metadata": {},
   "outputs": [
    {
     "name": "stderr",
     "output_type": "stream",
     "text": [
      "[Stage 119:===============================================>         (5 + 1) / 6]\r"
     ]
    },
    {
     "name": "stdout",
     "output_type": "stream",
     "text": [
      "+--------------------+-----------------+\n",
      "|         primaryName|      mean_rating|\n",
      "+--------------------+-----------------+\n",
      "|          Sam Esmail|9.899999618530273|\n",
      "|         Peter Gould|             9.75|\n",
      "|        Scott Winant|9.699999809265137|\n",
      "|      Jonathan Nolan|9.699999809265137|\n",
      "|       Tetsurô Araki|9.699999809265137|\n",
      "|      George Mastras|9.699999809265137|\n",
      "|Konrad Tomaszkiewicz|9.699999809265137|\n",
      "|        Gordon Smith|9.699999809265137|\n",
      "|        Nelson Cragg|9.600000381469727|\n",
      "|      Thomas Schnauz|9.549999952316284|\n",
      "+--------------------+-----------------+\n",
      "\n"
     ]
    },
    {
     "name": "stderr",
     "output_type": "stream",
     "text": [
      "                                                                                \r"
     ]
    }
   ],
   "source": [
    "directors_mean_rating = (\n",
    "    crew.filter(size(crew.directors) == 1)\n",
    "    .join(rating, crew.tconst == rating.tconst)\n",
    "    .filter(rating.numVotes > 25000)\n",
    "    .groupBy(crew.directors)\n",
    "    .agg(mean(rating.averageRating).alias('mean_rating'))\n",
    "    .join(name, crew.directors[0] == name.nconst)\n",
    "    .select(name.primaryName, 'mean_rating')\n",
    "    .orderBy(col(\"mean_rating\").desc())\n",
    "    .limit(10)\n",
    ")\n",
    "directors_mean_rating.show()"
   ]
  },
  {
   "cell_type": "markdown",
   "metadata": {},
   "source": [
    "### Query 6 Фільми/ з Дуэйн Джонсоном які мають рейтинг вище ніж середній по балівуду"
   ]
  },
  {
   "cell_type": "code",
   "execution_count": 6,
   "metadata": {},
   "outputs": [],
   "source": [
    "bollywood_mean_rating = (\n",
    "    title_akas\n",
    "    .filter(title_akas.region == \"IN\")\n",
    "    .join(rating, title_akas.titleId == rating.tconst)\n",
    "    .groupBy(title_akas.region)\n",
    "    .agg(mean(rating.averageRating).alias('mean_rating'))\n",
    "    .limit(10)\n",
    ")\n"
   ]
  },
  {
   "cell_type": "code",
   "execution_count": null,
   "metadata": {},
   "outputs": [],
   "source": [
    "bollywood_mean_rating.show()"
   ]
  },
  {
   "cell_type": "code",
   "execution_count": 9,
   "metadata": {},
   "outputs": [
    {
     "data": {
      "text/plain": [
       "6.951470009919894"
      ]
     },
     "execution_count": 9,
     "metadata": {},
     "output_type": "execute_result"
    }
   ],
   "source": [
    "bollywood_rating = bollywood_mean_rating.first().mean_rating\n",
    "bollywood_rating"
   ]
  },
  {
   "cell_type": "code",
   "execution_count": 8,
   "metadata": {},
   "outputs": [
    {
     "name": "stderr",
     "output_type": "stream",
     "text": [
      "[Stage 19:>                                                         (0 + 1) / 1]\r"
     ]
    },
    {
     "name": "stdout",
     "output_type": "stream",
     "text": [
      "+--------------+--------------------+-------------+\n",
      "|   primaryName|       originalTitle|averageRating|\n",
      "+--------------+--------------------+-------------+\n",
      "|Dwayne Johnson|       Gridiron Gang|          7.1|\n",
      "|Dwayne Johnson|    Polynesian Power|          8.0|\n",
      "|Dwayne Johnson|           Fast Five|          7.3|\n",
      "|Dwayne Johnson|           Furious 6|          7.0|\n",
      "|Dwayne Johnson|WWE The Rock: The...|          7.0|\n",
      "|Dwayne Johnson|    Fast & Furious 7|          7.1|\n",
      "|Dwayne Johnson|Fast & Furious 6 ...|          7.9|\n",
      "|Dwayne Johnson|               Moana|          7.6|\n",
      "|Dwayne Johnson|Rock and a Hard P...|          7.3|\n",
      "|Dwayne Johnson|Fighting with My ...|          7.1|\n",
      "|Dwayne Johnson|DC League of Supe...|          7.1|\n",
      "+--------------+--------------------+-------------+\n",
      "\n"
     ]
    },
    {
     "name": "stderr",
     "output_type": "stream",
     "text": [
      "                                                                                \r"
     ]
    }
   ],
   "source": [
    "\n",
    "dwayne_best_films =(\n",
    "          name.filter((name.primaryName == 'Dwayne Johnson') & (name.birthYear == 1972))\n",
    "              .join(principals, principals.nconst == name.nconst)\n",
    "              .join(title_basic, title_basic.tconst == principals.tconst)\n",
    "              .filter((title_basic.titleType == 'movie') | (title_basic.titleType == 'tvMovie'))\n",
    "              .join(rating, title_basic.tconst == rating.tconst)\n",
    "              .filter((rating.averageRating > bollywood_rating))\n",
    "              .select(name.primaryName, title_basic.originalTitle, rating.averageRating)\n",
    "              .limit(50)\n",
    ") \n",
    "\n",
    "dwayne_best_films.show()"
   ]
  }
 ],
 "metadata": {
  "kernelspec": {
   "display_name": "Python 3 (ipykernel)",
   "language": "python",
   "name": "python3"
  },
  "language_info": {
   "codemirror_mode": {
    "name": "ipython",
    "version": 3
   },
   "file_extension": ".py",
   "mimetype": "text/x-python",
   "name": "python",
   "nbconvert_exporter": "python",
   "pygments_lexer": "ipython3",
   "version": "3.9.8"
  }
 },
 "nbformat": 4,
 "nbformat_minor": 2
}
