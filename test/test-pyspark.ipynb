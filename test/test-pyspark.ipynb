{
 "nbformat": 4,
 "nbformat_minor": 0,
 "metadata": {
  "colab": {
   "provenance": []
  },
  "kernelspec": {
   "name": "python3",
   "display_name": "Python 3"
  },
  "language_info": {
   "name": "python"
  }
 },
 "cells": [
  {
   "cell_type": "code",
   "source": [
    "from pyspark import SparkConf\n",
    "from pyspark.sql import SparkSession\n",
    "import pyspark.sql.types as t"
   ],
   "metadata": {
    "id": "dzSYmCirZeh1"
   },
   "execution_count": 11,
   "outputs": []
  },
  {
   "cell_type": "code",
   "execution_count": 12,
   "outputs": [],
   "source": [
    "from pyspark.shell import spark\n",
    "import os\n",
    "import sys\n",
    "\n",
    "os.environ['PYSPARK_PYTHON'] = sys.executable\n",
    "os.environ['PYSPARK_DRIVER_PYTHON'] = sys.executable\n",
    "spark.conf.set(\"spark.sql.execution.arrow.pyspark.enabled\", \"true\")"
   ],
   "metadata": {
    "collapsed": false
   }
  },
  {
   "cell_type": "code",
   "source": [
    "spark_session = (SparkSession.builder\n",
    "                             .master('local')\n",
    "                             .appName('test app')\n",
    "                             .config(conf=SparkConf())\n",
    "                             .getOrCreate())\n",
    "spark_session"
   ],
   "metadata": {
    "colab": {
     "base_uri": "https://localhost:8080/",
     "height": 221
    },
    "id": "r6zPWgspbS-A",
    "outputId": "d3c9cd25-71a2-4b8a-8c17-d765d59dd8a2"
   },
   "execution_count": 13,
   "outputs": [
    {
     "data": {
      "text/plain": "<pyspark.sql.session.SparkSession at 0x239a13e7ee0>",
      "text/html": "\n            <div>\n                <p><b>SparkSession - hive</b></p>\n                \n        <div>\n            <p><b>SparkContext</b></p>\n\n            <p><a href=\"http://DESKTOP-SFC6M06:4040\">Spark UI</a></p>\n\n            <dl>\n              <dt>Version</dt>\n                <dd><code>v3.5.0</code></dd>\n              <dt>Master</dt>\n                <dd><code>local[*]</code></dd>\n              <dt>AppName</dt>\n                <dd><code>pyspark-shell</code></dd>\n            </dl>\n        </div>\n        \n            </div>\n        "
     },
     "execution_count": 13,
     "metadata": {},
     "output_type": "execute_result"
    }
   ]
  },
  {
   "cell_type": "code",
   "source": [
    "team = [('Korniiets Rostyslav', 1), ('Pavliuk Petro', 2), ('Pukhta Yuriy', 3), ('Saviuk Roman', 4), ('Toporivskyi Ihor', 5), ('Chornobai Dmytro', 6)]\n",
    "schema = t.StructType([\n",
    "    t.StructField('Name', t.StringType(), True),\n",
    "    t.StructField('Number', t.ByteType(), True)\n",
    "])\n",
    "df = spark.createDataFrame(team, schema)\n",
    "df.show()"
   ],
   "metadata": {
    "colab": {
     "base_uri": "https://localhost:8080/"
    },
    "id": "Fl4pP7Vib0_T",
    "outputId": "dabb592a-0b7a-471f-b006-a8b1fb26de7a"
   },
   "execution_count": 14,
   "outputs": [
    {
     "name": "stdout",
     "output_type": "stream",
     "text": [
      "+-------------------+------+\n",
      "|               Name|Number|\n",
      "+-------------------+------+\n",
      "|Korniiets Rostyslav|     1|\n",
      "|      Pavliuk Petro|     2|\n",
      "|       Pukhta Yuriy|     3|\n",
      "|       Saviuk Roman|     4|\n",
      "|   Toporivskyi Ihor|     5|\n",
      "|   Chornobai Dmytro|     6|\n",
      "+-------------------+------+\n",
      "\n"
     ]
    }
   ]
  },
  {
   "cell_type": "code",
   "source": [
    "df.printSchema()"
   ],
   "metadata": {
    "colab": {
     "base_uri": "https://localhost:8080/"
    },
    "id": "oX6B7wHShuO-",
    "outputId": "740675e4-e946-49fe-f23c-1dee3ac181aa"
   },
   "execution_count": 15,
   "outputs": [
    {
     "name": "stdout",
     "output_type": "stream",
     "text": [
      "root\n",
      " |-- Name: string (nullable = true)\n",
      " |-- Number: byte (nullable = true)\n",
      "\n"
     ]
    }
   ]
  },
  {
   "cell_type": "code",
   "source": [
    "df.explain(mode='extended')"
   ],
   "metadata": {
    "colab": {
     "base_uri": "https://localhost:8080/"
    },
    "id": "g1VwceD2iRLd",
    "outputId": "2a1e4694-58d9-4917-ee5c-9b275a667e3c"
   },
   "execution_count": 16,
   "outputs": [
    {
     "name": "stdout",
     "output_type": "stream",
     "text": [
      "== Parsed Logical Plan ==\n",
      "LogicalRDD [Name#26, Number#27], false\n",
      "\n",
      "== Analyzed Logical Plan ==\n",
      "Name: string, Number: tinyint\n",
      "LogicalRDD [Name#26, Number#27], false\n",
      "\n",
      "== Optimized Logical Plan ==\n",
      "LogicalRDD [Name#26, Number#27], false\n",
      "\n",
      "== Physical Plan ==\n",
      "*(1) Scan ExistingRDD[Name#26,Number#27]\n",
      "\n"
     ]
    }
   ]
  }
 ]
}
